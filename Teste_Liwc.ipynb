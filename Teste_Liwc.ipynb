{
  "nbformat": 4,
  "nbformat_minor": 0,
  "metadata": {
    "colab": {
      "provenance": []
    },
    "kernelspec": {
      "name": "python3",
      "display_name": "Python 3"
    },
    "language_info": {
      "name": "python"
    }
  },
  "cells": [
    {
      "cell_type": "code",
      "execution_count": null,
      "metadata": {
        "id": "1hjmzoiF71lO"
      },
      "outputs": [],
      "source": [
        "import requests"
      ]
    },
    {
      "cell_type": "code",
      "source": [
        "parallel_mqd=requests.get('https://raw.githubusercontent.com/EricaCQ/senticnet-6-test-2022/main/Parallel_MQD1%20(1).txt', auth=('user', 'pass'))"
      ],
      "metadata": {
        "id": "uSNRmgg78GRP"
      },
      "execution_count": null,
      "outputs": []
    },
    {
      "cell_type": "code",
      "source": [
        "import pandas as pd"
      ],
      "metadata": {
        "id": "rdkWfAsr8PwP"
      },
      "execution_count": null,
      "outputs": []
    },
    {
      "cell_type": "code",
      "source": [
        "import os"
      ],
      "metadata": {
        "id": "1oZ6FmVD8Sna"
      },
      "execution_count": null,
      "outputs": []
    },
    {
      "cell_type": "code",
      "source": [
        "f = pd.read_csv(\"https://raw.githubusercontent.com/EricaCQ/senticnet-6-test-2022/main/Parallel_MQD1%20(2).txt\", sep = '|', names = ['Text'], encoding= 'ISO-8859-1', on_bad_lines='skip')\n",
        "f.head()"
      ],
      "metadata": {
        "colab": {
          "base_uri": "https://localhost:8080/",
          "height": 206
        },
        "id": "YfHpLki48bKR",
        "outputId": "4d7414c0-d274-4c7f-ba26-eeb6f5c2b9c7"
      },
      "execution_count": null,
      "outputs": [
        {
          "output_type": "execute_result",
          "data": {
            "text/plain": [
              "                                                Text\n",
              "0  1\\tHi dear diary, once again I'm sitting here ...\n",
              "1  2\\tIt's amazing to realize that we are coming ...\n",
              "2  3\\tIn life we __need to count on the support o...\n",
              "3          4\\tI'm very happy and I hope you are too.\n",
              "4  5\\tWe ordered a pizza to celebrate, and I wrot..."
            ],
            "text/html": [
              "\n",
              "  <div id=\"df-ead09827-901f-4fd8-ade2-7bf89f8c9fc3\">\n",
              "    <div class=\"colab-df-container\">\n",
              "      <div>\n",
              "<style scoped>\n",
              "    .dataframe tbody tr th:only-of-type {\n",
              "        vertical-align: middle;\n",
              "    }\n",
              "\n",
              "    .dataframe tbody tr th {\n",
              "        vertical-align: top;\n",
              "    }\n",
              "\n",
              "    .dataframe thead th {\n",
              "        text-align: right;\n",
              "    }\n",
              "</style>\n",
              "<table border=\"1\" class=\"dataframe\">\n",
              "  <thead>\n",
              "    <tr style=\"text-align: right;\">\n",
              "      <th></th>\n",
              "      <th>Text</th>\n",
              "    </tr>\n",
              "  </thead>\n",
              "  <tbody>\n",
              "    <tr>\n",
              "      <th>0</th>\n",
              "      <td>1\\tHi dear diary, once again I'm sitting here ...</td>\n",
              "    </tr>\n",
              "    <tr>\n",
              "      <th>1</th>\n",
              "      <td>2\\tIt's amazing to realize that we are coming ...</td>\n",
              "    </tr>\n",
              "    <tr>\n",
              "      <th>2</th>\n",
              "      <td>3\\tIn life we __need to count on the support o...</td>\n",
              "    </tr>\n",
              "    <tr>\n",
              "      <th>3</th>\n",
              "      <td>4\\tI'm very happy and I hope you are too.</td>\n",
              "    </tr>\n",
              "    <tr>\n",
              "      <th>4</th>\n",
              "      <td>5\\tWe ordered a pizza to celebrate, and I wrot...</td>\n",
              "    </tr>\n",
              "  </tbody>\n",
              "</table>\n",
              "</div>\n",
              "      <button class=\"colab-df-convert\" onclick=\"convertToInteractive('df-ead09827-901f-4fd8-ade2-7bf89f8c9fc3')\"\n",
              "              title=\"Convert this dataframe to an interactive table.\"\n",
              "              style=\"display:none;\">\n",
              "        \n",
              "  <svg xmlns=\"http://www.w3.org/2000/svg\" height=\"24px\"viewBox=\"0 0 24 24\"\n",
              "       width=\"24px\">\n",
              "    <path d=\"M0 0h24v24H0V0z\" fill=\"none\"/>\n",
              "    <path d=\"M18.56 5.44l.94 2.06.94-2.06 2.06-.94-2.06-.94-.94-2.06-.94 2.06-2.06.94zm-11 1L8.5 8.5l.94-2.06 2.06-.94-2.06-.94L8.5 2.5l-.94 2.06-2.06.94zm10 10l.94 2.06.94-2.06 2.06-.94-2.06-.94-.94-2.06-.94 2.06-2.06.94z\"/><path d=\"M17.41 7.96l-1.37-1.37c-.4-.4-.92-.59-1.43-.59-.52 0-1.04.2-1.43.59L10.3 9.45l-7.72 7.72c-.78.78-.78 2.05 0 2.83L4 21.41c.39.39.9.59 1.41.59.51 0 1.02-.2 1.41-.59l7.78-7.78 2.81-2.81c.8-.78.8-2.07 0-2.86zM5.41 20L4 18.59l7.72-7.72 1.47 1.35L5.41 20z\"/>\n",
              "  </svg>\n",
              "      </button>\n",
              "      \n",
              "  <style>\n",
              "    .colab-df-container {\n",
              "      display:flex;\n",
              "      flex-wrap:wrap;\n",
              "      gap: 12px;\n",
              "    }\n",
              "\n",
              "    .colab-df-convert {\n",
              "      background-color: #E8F0FE;\n",
              "      border: none;\n",
              "      border-radius: 50%;\n",
              "      cursor: pointer;\n",
              "      display: none;\n",
              "      fill: #1967D2;\n",
              "      height: 32px;\n",
              "      padding: 0 0 0 0;\n",
              "      width: 32px;\n",
              "    }\n",
              "\n",
              "    .colab-df-convert:hover {\n",
              "      background-color: #E2EBFA;\n",
              "      box-shadow: 0px 1px 2px rgba(60, 64, 67, 0.3), 0px 1px 3px 1px rgba(60, 64, 67, 0.15);\n",
              "      fill: #174EA6;\n",
              "    }\n",
              "\n",
              "    [theme=dark] .colab-df-convert {\n",
              "      background-color: #3B4455;\n",
              "      fill: #D2E3FC;\n",
              "    }\n",
              "\n",
              "    [theme=dark] .colab-df-convert:hover {\n",
              "      background-color: #434B5C;\n",
              "      box-shadow: 0px 1px 3px 1px rgba(0, 0, 0, 0.15);\n",
              "      filter: drop-shadow(0px 1px 2px rgba(0, 0, 0, 0.3));\n",
              "      fill: #FFFFFF;\n",
              "    }\n",
              "  </style>\n",
              "\n",
              "      <script>\n",
              "        const buttonEl =\n",
              "          document.querySelector('#df-ead09827-901f-4fd8-ade2-7bf89f8c9fc3 button.colab-df-convert');\n",
              "        buttonEl.style.display =\n",
              "          google.colab.kernel.accessAllowed ? 'block' : 'none';\n",
              "\n",
              "        async function convertToInteractive(key) {\n",
              "          const element = document.querySelector('#df-ead09827-901f-4fd8-ade2-7bf89f8c9fc3');\n",
              "          const dataTable =\n",
              "            await google.colab.kernel.invokeFunction('convertToInteractive',\n",
              "                                                     [key], {});\n",
              "          if (!dataTable) return;\n",
              "\n",
              "          const docLinkHtml = 'Like what you see? Visit the ' +\n",
              "            '<a target=\"_blank\" href=https://colab.research.google.com/notebooks/data_table.ipynb>data table notebook</a>'\n",
              "            + ' to learn more about interactive tables.';\n",
              "          element.innerHTML = '';\n",
              "          dataTable['output_type'] = 'display_data';\n",
              "          await google.colab.output.renderOutput(dataTable, element);\n",
              "          const docLink = document.createElement('div');\n",
              "          docLink.innerHTML = docLinkHtml;\n",
              "          element.appendChild(docLink);\n",
              "        }\n",
              "      </script>\n",
              "    </div>\n",
              "  </div>\n",
              "  "
            ]
          },
          "metadata": {},
          "execution_count": 5
        }
      ]
    },
    {
      "cell_type": "code",
      "source": [
        "import nltk\n",
        "from nltk.corpus import wordnet\n",
        "from nltk.sentiment import SentimentIntensityAnalyzer"
      ],
      "metadata": {
        "id": "I4UwiIHciHsU"
      },
      "execution_count": null,
      "outputs": []
    },
    {
      "cell_type": "code",
      "source": [
        "nltk.download('punkt')"
      ],
      "metadata": {
        "colab": {
          "base_uri": "https://localhost:8080/"
        },
        "id": "HhluCE3niLBT",
        "outputId": "2ebcfd55-ad39-441a-f02d-1b531d7edf3c"
      },
      "execution_count": null,
      "outputs": [
        {
          "output_type": "stream",
          "name": "stderr",
          "text": [
            "[nltk_data] Downloading package punkt to /root/nltk_data...\n",
            "[nltk_data]   Unzipping tokenizers/punkt.zip.\n"
          ]
        },
        {
          "output_type": "execute_result",
          "data": {
            "text/plain": [
              "True"
            ]
          },
          "metadata": {},
          "execution_count": 7
        }
      ]
    },
    {
      "cell_type": "code",
      "source": [
        "#Library needed\n",
        "\n",
        "\n",
        "import nltk, re, pprint\n",
        "from nltk import word_tokenize\n",
        "import io"
      ],
      "metadata": {
        "id": "GGjyLtRuiQDs"
      },
      "execution_count": null,
      "outputs": []
    },
    {
      "cell_type": "code",
      "source": [
        "from nltk.corpus import stopwords\n",
        "import string"
      ],
      "metadata": {
        "id": "mct4mK0PiT4d"
      },
      "execution_count": null,
      "outputs": []
    },
    {
      "cell_type": "code",
      "source": [
        "clean_corpus = f[\"Text\"]"
      ],
      "metadata": {
        "id": "LuZ98lwViWvj"
      },
      "execution_count": null,
      "outputs": []
    },
    {
      "cell_type": "code",
      "source": [
        "from nltk.tokenize import sent_tokenize, word_tokenize\n",
        "from nltk.text import Text"
      ],
      "metadata": {
        "id": "9MV4Pznbk02W"
      },
      "execution_count": null,
      "outputs": []
    },
    {
      "cell_type": "code",
      "source": [
        "clean_corpus = clean_corpus.apply(lambda corpus: corpus.lower())"
      ],
      "metadata": {
        "id": "BOpVKuZBk4UE"
      },
      "execution_count": null,
      "outputs": []
    },
    {
      "cell_type": "code",
      "source": [
        "clean_corpus = clean_corpus.apply(lambda corpus: re.sub('[0-9]|,|\\.|/|$|\\(|\\)|-|\\+|:|•', ' ', corpus))\n",
        "#clean_corpus = clean_corpus.apply(lambda corpus: unidecode(corpus))"
      ],
      "metadata": {
        "id": "n3wIx5BZlCOX"
      },
      "execution_count": null,
      "outputs": []
    },
    {
      "cell_type": "code",
      "source": [
        "print(clean_corpus)"
      ],
      "metadata": {
        "colab": {
          "base_uri": "https://localhost:8080/"
        },
        "id": "2g3iguSGlFkV",
        "outputId": "1e361bdf-830d-4448-a482-69af7606968f"
      },
      "execution_count": null,
      "outputs": [
        {
          "output_type": "stream",
          "name": "stdout",
          "text": [
            "0        \\thi dear diary  once again i'm sitting here ...\n",
            "1        \\tit's amazing to realize that we are coming ...\n",
            "2        \\tin life we __need to count on the support o...\n",
            "3               \\ti'm very happy and i hope you are too  \n",
            "4        \\twe ordered a pizza to celebrate  and i wrot...\n",
            "                              ...                        \n",
            "1460        \\ti am currently in a homosexual relations...\n",
            "1461        \\ttoday i started the day talking to gabri...\n",
            "1462        \\tbut he's handsome  that smile  the way h...\n",
            "1463        \\t\"i sent an email to my \"\"colleague\"\" las...\n",
            "1464        \\ti don't want you to judge me  curse me o...\n",
            "Name: Text, Length: 1465, dtype: object\n"
          ]
        }
      ]
    },
    {
      "cell_type": "code",
      "source": [
        "pip install -U liwc"
      ],
      "metadata": {
        "colab": {
          "base_uri": "https://localhost:8080/"
        },
        "id": "kl8bM8NhgLRU",
        "outputId": "85b03e78-af27-490a-d53f-3c0bb508f136"
      },
      "execution_count": null,
      "outputs": [
        {
          "output_type": "stream",
          "name": "stdout",
          "text": [
            "Looking in indexes: https://pypi.org/simple, https://us-python.pkg.dev/colab-wheels/public/simple/\n",
            "Collecting liwc\n",
            "  Downloading liwc-0.5.0-py2.py3-none-any.whl (5.1 kB)\n",
            "Installing collected packages: liwc\n",
            "Successfully installed liwc-0.5.0\n"
          ]
        }
      ]
    },
    {
      "cell_type": "code",
      "source": [
        "from google.colab import files"
      ],
      "metadata": {
        "id": "2d3-ABxpgVxS"
      },
      "execution_count": null,
      "outputs": []
    },
    {
      "cell_type": "code",
      "source": [
        "# Upload Liwc20151.dic\n",
        "files.upload()"
      ],
      "metadata": {
        "id": "XZFpWr7kgYBT",
        "colab": {
          "base_uri": "https://localhost:8080/",
          "height": 1000
        },
        "outputId": "7a54b69e-54a7-429a-9e44-038182b9379b"
      },
      "execution_count": null,
      "outputs": [
        {
          "output_type": "display_data",
          "data": {
            "text/plain": [
              "<IPython.core.display.HTML object>"
            ],
            "text/html": [
              "\n",
              "     <input type=\"file\" id=\"files-14c76e04-6a5b-4e33-9e41-694e7b819982\" name=\"files[]\" multiple disabled\n",
              "        style=\"border:none\" />\n",
              "     <output id=\"result-14c76e04-6a5b-4e33-9e41-694e7b819982\">\n",
              "      Upload widget is only available when the cell has been executed in the\n",
              "      current browser session. Please rerun this cell to enable.\n",
              "      </output>\n",
              "      <script>// Copyright 2017 Google LLC\n",
              "//\n",
              "// Licensed under the Apache License, Version 2.0 (the \"License\");\n",
              "// you may not use this file except in compliance with the License.\n",
              "// You may obtain a copy of the License at\n",
              "//\n",
              "//      http://www.apache.org/licenses/LICENSE-2.0\n",
              "//\n",
              "// Unless required by applicable law or agreed to in writing, software\n",
              "// distributed under the License is distributed on an \"AS IS\" BASIS,\n",
              "// WITHOUT WARRANTIES OR CONDITIONS OF ANY KIND, either express or implied.\n",
              "// See the License for the specific language governing permissions and\n",
              "// limitations under the License.\n",
              "\n",
              "/**\n",
              " * @fileoverview Helpers for google.colab Python module.\n",
              " */\n",
              "(function(scope) {\n",
              "function span(text, styleAttributes = {}) {\n",
              "  const element = document.createElement('span');\n",
              "  element.textContent = text;\n",
              "  for (const key of Object.keys(styleAttributes)) {\n",
              "    element.style[key] = styleAttributes[key];\n",
              "  }\n",
              "  return element;\n",
              "}\n",
              "\n",
              "// Max number of bytes which will be uploaded at a time.\n",
              "const MAX_PAYLOAD_SIZE = 100 * 1024;\n",
              "\n",
              "function _uploadFiles(inputId, outputId) {\n",
              "  const steps = uploadFilesStep(inputId, outputId);\n",
              "  const outputElement = document.getElementById(outputId);\n",
              "  // Cache steps on the outputElement to make it available for the next call\n",
              "  // to uploadFilesContinue from Python.\n",
              "  outputElement.steps = steps;\n",
              "\n",
              "  return _uploadFilesContinue(outputId);\n",
              "}\n",
              "\n",
              "// This is roughly an async generator (not supported in the browser yet),\n",
              "// where there are multiple asynchronous steps and the Python side is going\n",
              "// to poll for completion of each step.\n",
              "// This uses a Promise to block the python side on completion of each step,\n",
              "// then passes the result of the previous step as the input to the next step.\n",
              "function _uploadFilesContinue(outputId) {\n",
              "  const outputElement = document.getElementById(outputId);\n",
              "  const steps = outputElement.steps;\n",
              "\n",
              "  const next = steps.next(outputElement.lastPromiseValue);\n",
              "  return Promise.resolve(next.value.promise).then((value) => {\n",
              "    // Cache the last promise value to make it available to the next\n",
              "    // step of the generator.\n",
              "    outputElement.lastPromiseValue = value;\n",
              "    return next.value.response;\n",
              "  });\n",
              "}\n",
              "\n",
              "/**\n",
              " * Generator function which is called between each async step of the upload\n",
              " * process.\n",
              " * @param {string} inputId Element ID of the input file picker element.\n",
              " * @param {string} outputId Element ID of the output display.\n",
              " * @return {!Iterable<!Object>} Iterable of next steps.\n",
              " */\n",
              "function* uploadFilesStep(inputId, outputId) {\n",
              "  const inputElement = document.getElementById(inputId);\n",
              "  inputElement.disabled = false;\n",
              "\n",
              "  const outputElement = document.getElementById(outputId);\n",
              "  outputElement.innerHTML = '';\n",
              "\n",
              "  const pickedPromise = new Promise((resolve) => {\n",
              "    inputElement.addEventListener('change', (e) => {\n",
              "      resolve(e.target.files);\n",
              "    });\n",
              "  });\n",
              "\n",
              "  const cancel = document.createElement('button');\n",
              "  inputElement.parentElement.appendChild(cancel);\n",
              "  cancel.textContent = 'Cancel upload';\n",
              "  const cancelPromise = new Promise((resolve) => {\n",
              "    cancel.onclick = () => {\n",
              "      resolve(null);\n",
              "    };\n",
              "  });\n",
              "\n",
              "  // Wait for the user to pick the files.\n",
              "  const files = yield {\n",
              "    promise: Promise.race([pickedPromise, cancelPromise]),\n",
              "    response: {\n",
              "      action: 'starting',\n",
              "    }\n",
              "  };\n",
              "\n",
              "  cancel.remove();\n",
              "\n",
              "  // Disable the input element since further picks are not allowed.\n",
              "  inputElement.disabled = true;\n",
              "\n",
              "  if (!files) {\n",
              "    return {\n",
              "      response: {\n",
              "        action: 'complete',\n",
              "      }\n",
              "    };\n",
              "  }\n",
              "\n",
              "  for (const file of files) {\n",
              "    const li = document.createElement('li');\n",
              "    li.append(span(file.name, {fontWeight: 'bold'}));\n",
              "    li.append(span(\n",
              "        `(${file.type || 'n/a'}) - ${file.size} bytes, ` +\n",
              "        `last modified: ${\n",
              "            file.lastModifiedDate ? file.lastModifiedDate.toLocaleDateString() :\n",
              "                                    'n/a'} - `));\n",
              "    const percent = span('0% done');\n",
              "    li.appendChild(percent);\n",
              "\n",
              "    outputElement.appendChild(li);\n",
              "\n",
              "    const fileDataPromise = new Promise((resolve) => {\n",
              "      const reader = new FileReader();\n",
              "      reader.onload = (e) => {\n",
              "        resolve(e.target.result);\n",
              "      };\n",
              "      reader.readAsArrayBuffer(file);\n",
              "    });\n",
              "    // Wait for the data to be ready.\n",
              "    let fileData = yield {\n",
              "      promise: fileDataPromise,\n",
              "      response: {\n",
              "        action: 'continue',\n",
              "      }\n",
              "    };\n",
              "\n",
              "    // Use a chunked sending to avoid message size limits. See b/62115660.\n",
              "    let position = 0;\n",
              "    do {\n",
              "      const length = Math.min(fileData.byteLength - position, MAX_PAYLOAD_SIZE);\n",
              "      const chunk = new Uint8Array(fileData, position, length);\n",
              "      position += length;\n",
              "\n",
              "      const base64 = btoa(String.fromCharCode.apply(null, chunk));\n",
              "      yield {\n",
              "        response: {\n",
              "          action: 'append',\n",
              "          file: file.name,\n",
              "          data: base64,\n",
              "        },\n",
              "      };\n",
              "\n",
              "      let percentDone = fileData.byteLength === 0 ?\n",
              "          100 :\n",
              "          Math.round((position / fileData.byteLength) * 100);\n",
              "      percent.textContent = `${percentDone}% done`;\n",
              "\n",
              "    } while (position < fileData.byteLength);\n",
              "  }\n",
              "\n",
              "  // All done.\n",
              "  yield {\n",
              "    response: {\n",
              "      action: 'complete',\n",
              "    }\n",
              "  };\n",
              "}\n",
              "\n",
              "scope.google = scope.google || {};\n",
              "scope.google.colab = scope.google.colab || {};\n",
              "scope.google.colab._files = {\n",
              "  _uploadFiles,\n",
              "  _uploadFilesContinue,\n",
              "};\n",
              "})(self);\n",
              "</script> "
            ]
          },
          "metadata": {}
        },
        {
          "output_type": "stream",
          "name": "stdout",
          "text": [
            "Saving LIWC20151_English.dic to LIWC20151_English.dic\n"
          ]
        },
        {
          "output_type": "execute_result",
          "data": {
            "text/plain": [
              "{'LIWC20151_English.dic': b\"%\\n1\\tfunction (Function Words)\\n\\t2\\tpronoun (Pronouns)\\n\\t\\t3\\tppron (Personal Pronouns)\\n\\t\\t\\t4\\ti (I)\\n\\t\\t\\t5\\twe (We)\\n\\t\\t\\t6\\tyou (You)\\n\\t\\t\\t7\\tshehe (SheHe)\\n\\t\\t\\t8\\tthey (They)\\n\\t\\t9\\tipron (Impersonal Pronouns)\\n\\t10\\tarticle (Articles)\\n\\t11\\tprep (Prepositions)\\n\\t12\\tauxverb (Auxiliary Verbs)\\n\\t13\\tadverb (Adverbs)\\n\\t14\\tconj (Conjunctions)\\n\\t15\\tnegate (Negations)\\nothergram (Other Grammar)\\n\\t20\\tverb (Verbs)\\n\\t21\\tadj (Adjectives)\\n\\t22\\tcompare (Comparisons)\\n\\t23\\tinterrog (Interrogatives)\\n\\t24\\tnumber (Numbers)\\n\\t25\\tquant (Quantifiers)\\n30\\taffect (Affect)\\n\\t31\\tposemo (Positive Emotions)\\n\\t32\\tnegemo (Negative Emotions)\\n\\t\\t33\\tanx (Anx)\\n\\t\\t34\\tanger (Anger)\\n\\t\\t35\\tsad (Sad)\\n40\\tsocial (Social)\\n\\t41\\tfamily (Family)\\n\\t42\\tfriend (Friends)\\n\\t43\\tfemale (Female)\\n\\t44\\tmale (Male)\\n50\\tcogproc (Cognitive Processes)\\n\\t51\\tinsight (Insight)\\n\\t52\\tcause (Causal)\\n\\t53\\tdiscrep (Discrepancies)\\n\\t54\\ttentat (Tentative)\\n\\t55\\tcertain (Certainty)\\n\\t56\\tdiffer (Differentiation)\\n60\\tpercept (Perceptual Processes)\\n\\t61\\tsee (See)\\n\\t62\\thear (Hear)\\n\\t63\\tfeel (Feel)\\n70\\tbio (Biological Processes)\\n\\t71\\tbody (Body)\\n\\t72\\thealth (Health)\\n\\t73\\tsexual (Sexual)\\n\\t74\\tingest (Ingest)\\n80\\tdrives (Drives)\\n\\t81\\taffiliation (Affiliation)\\n\\t82\\tachieve (Achievement)\\n\\t83\\tpower (Power)\\n\\t84\\treward (Reward)\\n\\t85\\trisk (Risk)\\ntimeorient (Time Orientation)\\n\\t90\\tfocuspast (Past Focus)\\n\\t91\\tfocuspresent (Present Focus)\\n\\t92\\tfocusfuture (Future Focus)\\n100\\trelativ (Relativity)\\n\\t101\\tmotion (Motion)\\n\\t102\\tspace (Space)\\n\\t103\\ttime (Time)\\npersconc (Personal Concerns)\\n\\t110\\twork (Work)\\n\\t111\\tleisure (Leisure)\\n\\t112\\thome (Home)\\n\\t113\\tmoney (Money)\\n\\t114\\trelig (Religion)\\n\\t115\\tdeath (Death)\\n120\\tinformal (Informal Language)\\n\\t121\\tswear (Swear)\\n\\t122\\tnetspeak (Netspeak)\\n\\t123\\tassent (Assent)\\n\\t124\\tnonflu (Nonfluencies)\\n\\t125\\tfiller (Filler Words)\\n%\\n(:\\t30\\t31\\t120\\t122\\n(;\\t120\\t122\\n):\\t30\\t32\\t120\\t122\\n/:\\t120\\t122\\n3ds\\t111\\n4ev*\\t120\\t122\\n:(\\t30\\t32\\t120\\t122\\n:)\\t30\\t31\\t120\\t122\\n:/\\t120\\t122\\n;)\\t120\\t122\\na\\t1\\t10\\na-list*\\t80\\t83\\nabandon*\\t30\\t32\\t35\\nabdomen*\\t70\\t71\\nabilit*\\t80\\t82\\nable\\t80\\t82\\nabnormal*\\t21\\t50\\t53\\nabortion*\\t70\\t72\\t73\\nabout\\t1\\t11\\t13\\nabove\\t1\\t11\\t80\\t83\\t100\\t102\\nabrupt*\\t100\\t103\\nabs\\t70\\t71\\nabsent*\\t110\\nabsolute\\t50\\t55\\nabsolutely\\t1\\t13\\t50\\t55\\t120\\t123\\nabstain*\\t80\\t85\\nabt\\t1\\t11\\t120\\t122\\nabuse*\\t30\\t32\\t34\\nabusi*\\t30\\t32\\t34\\nacademia\\t110\\nacademic\\t21\\t110\\nacademics\\t110\\nacademies\\t110\\nacademy\\t110\\naccept\\t20\\t30\\t31\\t50\\t51\\naccepta*\\t30\\t31\\t50\\t51\\naccepted\\t20\\t30\\t31\\t50\\t51\\t90\\naccepting\\t30\\t31\\t50\\t51\\naccepts\\t20\\t30\\t31\\t50\\t51\\naccess*\\t80\\t84\\nacclaimed\\t80\\t83\\naccompan*\\t80\\t81\\naccomplice*\\t40\\t42\\t80\\t81\\naccomplish*\\t80\\t82\\t110\\naccount*\\t113\\naccrue*\\t80\\t84\\t113\\naccumul*\\t80\\t84\\naccura*\\t50\\t55\\nace\\t80\\t82\\nache*\\t30\\t32\\t60\\t63\\t70\\t72\\nachievable\\t80\\t82\\t84\\t110\\nachieve*\\t80\\t82\\t84\\t110\\nachievi*\\t80\\t82\\t84\\t110\\naching*\\t30\\t32\\t60\\t63\\t70\\t72\\nacid*\\t60\\nacknowledg*\\t50\\t51\\nacne\\t70\\t72\\nacquainta*\\t40\\t42\\nacquir*\\t80\\t82\\t84\\nacquisition*\\t80\\t82\\nacrid*\\t60\\nacross\\t1\\t11\\t100\\t102\\naction*\\t100\\t101\\nactivat*\\t50\\t52\\nactive\\t21\\t30\\t31\\nactively\\t30\\t31\\nactor*\\t111\\nactress*\\t111\\nactualiz*\\t80\\t82\\nactually\\t1\\t13\\t50\\t56\\nadd\\t25\\t80\\t84\\t91\\nadded\\t25\\t80\\t84\\t90\\naddict*\\t70\\t72\\nadding\\t25\\t80\\t84\\nadditional\\t21\\naddress\\t112\\nadds\\t25\\t80\\t84\\t91\\nadequa*\\t80\\t82\\nadjust*\\t50\\t56\\nadministr*\\t80\\t83\\t110\\nadmir*\\t30\\t31\\nadmit\\t20\\t40\\t50\\t51\\t91\\nadmits\\t20\\t40\\t50\\t51\\t91\\nadmitted\\t20\\t40\\t50\\t51\\t90\\nadmitting\\t20\\t40\\t50\\t51\\nador*\\t30\\t31\\nadult\\t40\\nadults\\t40\\nadvanc*\\t80\\t82\\t84\\t100\\t101\\nadvantag*\\t30\\t31\\t80\\t82\\t84\\nadventur*\\t30\\t31\\t80\\t84\\nadvers*\\t30\\t32\\nadvertising\\t110\\nadvice\\t40\\nadvil\\t70\\t72\\nadvis*\\t40\\t110\\naerobic*\\t70\\t72\\t111\\naf\\t120\\t121\\t122\\naffair*\\t40\\naffect\\t20\\t50\\t52\\naffected\\t20\\t50\\t52\\t90\\naffecting\\t20\\t50\\t52\\naffection*\\t30\\t31\\naffects\\t20\\t50\\t52\\naffil*\\t80\\t81\\naffordable\\t21\\t113\\nafk\\t120\\t122\\nafraid\\t21\\t30\\t32\\t33\\nafter\\t1\\t11\\t21\\t22\\t100\\t103\\nafterlife*\\t114\\naftermath*\\t100\\t103\\nafternoon*\\t100\\t103\\nafterthought*\\t50\\t51\\t100\\t103\\nafterward*\\t100\\t103\\nagain\\t1\\t13\\t100\\t103\\nagainst\\t1\\t11\\t50\\t56\\nage\\t80\\t83\\t100\\t103\\naged\\t100\\t103\\nagencies\\t110\\nagency\\t110\\nagent\\t110\\nagents\\t110\\nages\\t100\\t103\\naggravat*\\t30\\t32\\t34\\t50\\t52\\naggress\\t30\\t32\\t34\\naggressed\\t30\\t32\\t34\\naggresses\\t30\\t32\\t34\\naggressing\\t30\\t32\\t34\\naggression*\\t30\\t32\\t34\\naggressive\\t21\\t30\\t32\\t34\\naggressively\\t30\\t32\\t34\\naggressor*\\t30\\t32\\t34\\naging\\t100\\t103\\nagitat*\\t30\\t32\\t34\\nagnost*\\t114\\nago\\t90\\t100\\t103\\nagoniz*\\t30\\t32\\t35\\nagony\\t30\\t32\\t35\\nagree\\t30\\t31\\t120\\t123\\nagreeable\\t21\\t30\\t31\\nagreeableness\\t30\\t31\\nagreeably\\t30\\t31\\nagreed\\t30\\t31\\nagreeing\\t30\\t31\\nagreement*\\t30\\t31\\nagrees\\t30\\t31\\nah\\t120\\t123\\t124\\nahead\\t1\\t11\\t80\\t82\\t92\\t100\\t103\\nahh*\\t120\\t122\\t124\\naids\\t70\\t72\\t73\\naight\\t120\\t122\\t123\\nain't\\t1\\t12\\t15\\t20\\t50\\t56\\t91\\naint\\t1\\t12\\t15\\t20\\t50\\t56\\t91\\nair\\t100\\t102\\nalarm*\\t30\\t32\\t33\\t80\\t85\\nalcohol*\\t70\\t72\\t74\\t111\\nalike\\t21\\t22\\nalive\\t21\\t70\\t72\\t115\\nall\\t25\\t50\\t55\\nalla\\t114\\nallah*\\t114\\nallerg*\\t70\\t72\\nalliance*\\t80\\t81\\nallies\\t80\\t81\\nallot\\t25\\t50\\t54\\nallow*\\t50\\t52\\t80\\t83\\nally\\t40\\t42\\t80\\t81\\nalmost\\t1\\t13\\t50\\t54\\nalone\\t21\\t30\\t32\\t35\\nalong\\t1\\t11\\nalot\\t25\\t50\\t54\\nalready\\t1\\t13\\t90\\t100\\t103\\nalright*\\t30\\t31\\t120\\t123\\nalso\\t1\\t13\\t14\\naltar*\\t114\\nalternativ*\\t50\\t56\\naltho\\t1\\t14\\nalthough\\t1\\t14\\t50\\t56\\naltogether\\t50\\t55\\nalways\\t50\\t55\\t100\\t103\\nam\\t1\\t12\\t20\\t91\\namass*\\t80\\t84\\namateur*\\t80\\t83\\namaze*\\t30\\t31\\namazing\\t21\\t30\\t31\\namazingly\\t30\\t31\\nambigu*\\t50\\t54\\nambition\\t80\\t82\\t83\\t110\\nambitions\\t80\\t82\\t83\\t110\\nambitious\\t21\\t80\\t82\\t83\\t110\\nambitiously\\t80\\t82\\nambitiousness\\t80\\t82\\t110\\namen\\t114\\namid\\t1\\t11\\namidst\\t1\\t11\\namigo*\\t40\\t42\\t80\\t81\\namish\\t114\\namong*\\t1\\t11\\t100\\t102\\namor*\\t30\\t31\\namount\\t25\\namounts\\t25\\namput*\\t70\\t72\\namus*\\t30\\t31\\t111\\nan\\t1\\t10\\nanal\\t70\\t71\\nanaly*\\t50\\t51\\t110\\nancient\\t21\\t100\\t103\\nanciently\\t100\\t103\\nand\\t1\\t14\\nangel\\t114\\nangelic*\\t114\\nangels\\t114\\nanger*\\t30\\t32\\t34\\nangrier\\t21\\t22\\t30\\t32\\t34\\nangriest\\t21\\t22\\t30\\t32\\t34\\nangry\\t21\\t30\\t32\\t34\\nanguish*\\t30\\t32\\nankle*\\t70\\t71\\nanniversar*\\t100\\t103\\nannoy\\t30\\t32\\t34\\nannoyed\\t30\\t32\\t34\\nannoying\\t21\\t30\\t32\\t34\\nannoys\\t30\\t32\\t34\\nannual*\\t100\\t103\\nanonymous*\\t40\\nanorexi*\\t70\\t72\\t74\\nanother\\t1\\t2\\t9\\t25\\nanswer*\\t50\\t51\\nantacid*\\t70\\t72\\t74\\nantagoni*\\t30\\t32\\t34\\nanterior\\t100\\t102\\nanticipate*\\t92\\nanticipation\\t92\\nantidepressant*\\t70\\t72\\nantisocial\\t21\\nanus*\\t70\\t71\\nanxiety\\t30\\t32\\t33\\nanxious\\t21\\t30\\t32\\t33\\nanxiously\\t30\\t32\\t33\\nanxiousness\\t30\\t32\\t33\\nany\\t25\\t50\\t54\\nanybod*\\t1\\t2\\t9\\t40\\t50\\t54\\nanyhow\\t50\\t54\\nanymore\\t1\\t2\\t9\\t100\\t103\\nanyone*\\t1\\t2\\t9\\t40\\t50\\t54\\nanything\\t1\\t2\\t9\\t50\\t54\\nanytime\\t50\\t54\\t100\\t103\\nanyway*\\t1\\t13\\t120\\t125\\nanywhere\\t1\\t13\\t50\\t54\\t100\\t102\\naok\\t30\\t31\\t120\\t123\\napart\\t50\\t56\\t100\\t102\\napartment*\\t112\\napath*\\t30\\t32\\napolog*\\t40\\t80\\t83\\napp\\t120\\t122\\nappall*\\t30\\t32\\napparent\\t21\\t50\\t55\\napparently\\t1\\t13\\t50\\t54\\nappear\\t20\\t50\\t54\\t60\\t61\\t91\\nappearance*\\t60\\t61\\nappeared\\t20\\t50\\t54\\t60\\t61\\t90\\nappearing\\t50\\t54\\t60\\t61\\nappears\\t20\\t50\\t54\\t60\\t61\\t91\\nappeti*\\t70\\t74\\napplicant*\\t110\\napplicat*\\t110\\nappreciat*\\t30\\t31\\t50\\t51\\napprehens*\\t30\\t32\\t33\\t50\\t54\\t80\\t85\\napprenhens*\\t80\\t85\\napprentic*\\t80\\t83\\t110\\napproach\\t80\\t84\\t100\\t101\\napproachable\\t21\\t40\\napproached\\t80\\t84\\t90\\t100\\t101\\napproaches\\t80\\t84\\t100\\t101\\napproaching\\t80\\t84\\t92\\t100\\t101\\nappropriate\\t21\\napprov*\\t30\\t31\\t80\\t83\\napproximat*\\t25\\t50\\t54\\napps\\t120\\t122\\napril\\t100\\t103\\narbitrar*\\t50\\t54\\narch\\t70\\t71\\nare\\t1\\t12\\t20\\t91\\narea*\\t100\\t102\\naren't\\t1\\t12\\t15\\t20\\t50\\t56\\t91\\narent\\t1\\t12\\t15\\t20\\t50\\t56\\t91\\nargh*\\t30\\t32\\t34\\nargu*\\t30\\t32\\t34\\t40\\narm\\t70\\t71\\narmies\\t40\\t80\\t83\\narmpit*\\t70\\t71\\narms*\\t70\\t71\\narmy\\t40\\t80\\t83\\naroma*\\t60\\naround\\t1\\t11\\t13\\t100\\t102\\narous*\\t70\\t71\\t73\\narrival*\\t100\\t101\\narrive\\t20\\t91\\t100\\t101\\narrived\\t20\\t90\\t100\\t101\\narrives\\t20\\t91\\t100\\t101\\narriving\\t100\\t101\\narrogan*\\t30\\t32\\narse\\t70\\t71\\t120\\t121\\narsehole*\\t120\\t121\\narses\\t70\\t71\\t120\\t121\\nart\\t111\\narter*\\t70\\t71\\narthr*\\t70\\t72\\nartist\\t111\\nartistic\\t21\\nartists\\t111\\narts\\t111\\nartsy\\t21\\t111\\nas\\t1\\t11\\t14\\t21\\t22\\nasap\\t120\\t122\\nasexual*\\t70\\t73\\nasf\\t120\\t121\\t122\\nasham*\\t30\\t32\\t33\\t80\\t83\\nask\\t20\\t40\\t91\\nasked\\t20\\t40\\t90\\nasking\\t20\\t40\\nasks\\t20\\t40\\t91\\nasleep\\t21\\t70\\t71\\naspirin*\\t70\\t72\\nass\\t70\\t71\\t120\\t121\\nassass*\\t115\\nassault*\\t30\\t32\\t34\\t80\\t83\\nassembl*\\t40\\nassertive\\t21\\t80\\t83\\nasses\\t70\\t71\\t120\\t121\\nasshole*\\t30\\t32\\t34\\t70\\t71\\t120\\t121\\nassign*\\t110\\nassistan*\\t110\\nassociate\\t80\\t81\\t110\\nassociated\\t110\\nassociates\\t80\\t81\\t110\\nassociating\\t80\\t81\\t110\\nassociation\\t80\\t81\\t110\\nassociations\\t80\\t81\\nassum*\\t50\\t51\\t54\\nassur*\\t30\\t31\\t50\\t55\\nasswipe\\t120\\t121\\nasthma*\\t70\\t72\\nat\\t1\\t11\\t100\\t102\\nate\\t20\\t70\\t74\\t90\\nathlete*\\t111\\nathletic\\t21\\t111\\natm\\t113\\t120\\t122\\natms\\t113\\natop\\t1\\t11\\t100\\t102\\nattack*\\t30\\t32\\t34\\t80\\t83\\nattain\\t80\\t82\\nattainable\\t21\\t80\\t82\\t92\\nattained\\t80\\t82\\nattaining\\t80\\t82\\nattainment\\t80\\t82\\nattains\\t80\\t82\\nattend\\t91\\t100\\t101\\nattendant\\t80\\t83\\nattended\\t90\\t100\\t101\\nattending\\t100\\t101\\nattends\\t91\\t100\\t101\\nattent*\\t50\\t51\\nattract\\t20\\t30\\t31\\t91\\nattracted\\t30\\t31\\t90\\nattracting\\t30\\t31\\nattraction\\t30\\t31\\nattractive\\t21\\nattracts\\t20\\t30\\t31\\t91\\nattribut*\\t50\\t52\\nauction*\\t113\\naudibl*\\t60\\t62\\naudio*\\t60\\t62\\naudit\\t113\\naudited\\t113\\nauditing\\t113\\nauditor\\t113\\nauditorium*\\t110\\nauditors\\t113\\naudits\\t113\\naugust\\t100\\t103\\naunt*\\t40\\t41\\t43\\nauthorit*\\t80\\t82\\t83\\nauthorize\\t80\\t83\\nautops*\\t115\\nautumn\\t100\\t103\\navenue*\\t100\\t102\\naverage\\t21\\t25\\naverse\\t80\\t85\\naversi*\\t30\\t32\\t33\\t80\\t85\\navert*\\t80\\t85\\navoid*\\t30\\t32\\t33\\t80\\t85\\naw\\t120\\t122\\t123\\naward*\\t30\\t31\\t80\\t82\\t84\\t110\\naware*\\t50\\t51\\naway\\t1\\t11\\t100\\t102\\nawesome\\t21\\t30\\t31\\t120\\t123\\nawesomer\\t21\\t22\\nawesomest\\t21\\t22\\nawful\\t21\\t30\\t32\\nawfulest\\t21\\t22\\nawhile\\t1\\t13\\t100\\t103\\nawkward\\t30\\t32\\t33\\t40\\nawkwardness\\t40\\naww*\\t120\\t122\\nb\\t120\\t122\\nb4\\t120\\t122\\nbabe*\\t40\\t42\\nbabies\\t40\\t41\\nbaby\\t40\\t41\\nbachelor\\t40\\t44\\nbachelor'*\\t40\\t44\\nbachelorette\\t40\\t43\\nbachelors\\t40\\t44\\nback\\t1\\t13\\t100\\t102\\t103\\nbackward*\\t100\\t101\\t102\\nbackyard\\t112\\nbacon*\\t70\\t74\\nbad\\t30\\t32\\t80\\t85\\nbadass*\\t120\\t121\\nbadly\\t30\\t32\\nbae\\t40\\t42\\t80\\t81\\t120\\t122\\nbai\\t120\\t122\\nbake*\\t70\\t74\\t112\\nbaking\\t70\\t74\\t112\\nbalcon*\\t112\\nbald\\t70\\t71\\nbalk\\t80\\t85\\nball\\t111\\nballet*\\t111\\nbamf\\t120\\t121\\t122\\nbanana\\t70\\t74\\nband\\t40\\t111\\nbandage*\\t70\\t72\\nbandaid\\t70\\t72\\nbands\\t40\\t111\\nbank*\\t110\\t113\\nbanter*\\t40\\t80\\t81\\nbaptis*\\t114\\nbaptiz*\\t114\\nbar\\t70\\t74\\t111\\nbarely\\t1\\t13\\t50\\t54\\nbargain*\\t113\\nbars\\t70\\t74\\t111\\nbaseball*\\t111\\nbased\\t20\\t50\\t52\\nbashful*\\t30\\t32\\nbasic\\t21\\nbasically\\t1\\t13\\nbasis\\t50\\t52\\nbasketball*\\t111\\nbastard*\\t30\\t32\\t34\\t120\\t121\\nbath*\\t111\\t112\\nbattl*\\t30\\t32\\t34\\t80\\t83\\nbb\\t40\\t120\\t122\\nbbq\\t70\\t74\\nbby\\t40\\t120\\t122\\nbc\\t1\\t14\\t50\\t52\\t120\\t122\\nbcc\\t40\\nbday\\t120\\t122\\nbdsm\\t70\\t73\\nbe\\t1\\t12\\t20\\t91\\nbeach*\\t111\\nbean*\\t70\\t74\\nbeard\\t70\\t71\\nbeat\\t80\\t82\\t83\\nbeaten\\t30\\t32\\t34\\t80\\t82\\t83\\nbeating\\t80\\t83\\nbeats\\t80\\t83\\nbeau\\t40\\t42\\t44\\nbeautiful\\t21\\t30\\t31\\t60\\t61\\nbeautify\\t30\\t31\\t60\\t61\\nbeauty\\t30\\t31\\t60\\t61\\nbecame\\t20\\t50\\t51\\t90\\nbecause\\t1\\t14\\t50\\t52\\nbecome\\t1\\t12\\t20\\t50\\t51\\t91\\nbecomes\\t1\\t12\\t20\\t50\\t51\\t91\\nbecoming\\t1\\t12\\t20\\t50\\t51\\nbed\\t112\\nbedding\\t112\\nbedroom*\\t112\\nbeds\\t112\\nbedtime\\t100\\t103\\nbeef\\t70\\t74\\nbeen\\t1\\t12\\t20\\t90\\nbeer*\\t70\\t74\\t111\\nbefore\\t1\\t11\\t21\\t22\\t100\\t103\\nbeg\\t20\\t80\\t83\\nbegan\\t20\\t90\\t100\\t103\\nbeggar*\\t80\\t83\\t113\\nbegged\\t80\\t83\\t90\\nbegging\\t20\\t80\\t83\\t113\\nbegin\\t20\\t91\\t100\\t103\\nbeginner\\t80\\t83\\t100\\t103\\nbeginning*\\t100\\t103\\nbegins\\t20\\t91\\t100\\t103\\nbegs\\t20\\t80\\t83\\t91\\nbegun\\t100\\t103\\nbehavio*\\t100\\t101\\nbehead*\\t115\\nbehind\\t1\\t11\\t100\\t102\\nbeing\\t1\\t12\\t20\\nbelief*\\t50\\t51\\t114\\nbelieve\\t20\\t50\\t51\\t91\\nbelieved\\t20\\t50\\t51\\t90\\nbelieves\\t20\\t50\\t51\\t91\\nbelieving\\t50\\t51\\nbellies\\t70\\t71\\nbelly\\t70\\t71\\nbelong*\\t80\\t81\\nbeloved\\t30\\t31\\t40\\t42\\nbelow\\t1\\t11\\t80\\t83\\t100\\t102\\nbend\\t100\\t102\\nbending\\t100\\t102\\nbends\\t100\\t102\\nbeneath\\t1\\t11\\t100\\t102\\nbenefic*\\t30\\t31\\nbenefit\\t30\\t31\\t80\\t84\\nbenefits\\t30\\t31\\t80\\t84\\t110\\nbenefitt*\\t30\\t31\\nbenevolen*\\t30\\t31\\nbenign*\\t30\\nbent\\t100\\t102\\nbereave*\\t30\\t32\\t35\\t115\\nbeside\\t1\\t11\\t100\\t102\\nbesides\\t1\\t11\\t50\\t53\\nbest\\t21\\t22\\t30\\t31\\t80\\t82\\t83\\t84\\nbestest\\t21\\t30\\t31\\nbestfriend*\\t40\\t42\\t80\\t81\\nbestie\\t30\\t31\\t40\\t42\\nbesties\\t30\\t31\\t40\\t42\\nbet\\t50\\t54\\t80\\t84\\t113\\nbets\\t50\\t54\\t80\\t84\\t113\\nbetter\\t21\\t22\\t30\\t31\\t80\\t82\\t84\\nbetting\\t50\\t54\\t80\\t84\\t113\\nbetween\\t1\\t11\\nbeware\\t80\\t85\\nbeyond\\t1\\t11\\t13\\t100\\t102\\nbf\\t40\\t42\\t44\\t80\\t81\\t120\\t122\\nbf's\\t40\\t42\\t44\\nbff*\\t40\\t42\\t80\\t81\\t120\\t122\\nbfs\\t40\\t42\\t44\\t80\\t81\\t120\\t122\\nbi\\t70\\t73\\nbi-sexual*\\t70\\t73\\nbiannu*\\t100\\t103\\nbiatch*\\t120\\t121\\t122\\nbible*\\t114\\nbiblic*\\t114\\nbicep*\\t70\\t71\\nbicyc*\\t111\\nbig\\t21\\t80\\t83\\t100\\t102\\nbigger\\t21\\t22\\t80\\t83\\t100\\t102\\nbiggest\\t21\\t22\\t80\\t83\\t100\\t102\\nbike*\\t111\\nbill\\t113\\nbilled\\t113\\nbilling*\\t113\\nbillion*\\t24\\nbills\\t113\\nbimonth*\\t100\\t103\\nbinge*\\t70\\t72\\t74\\nbinging\\t20\\t70\\t72\\t74\\nbiolog*\\t70\\t110\\nbiotch*\\t120\\t121\\t122\\nbipolar\\t70\\t72\\nbirdie*\\t111\\nbirth*\\t100\\t103\\nbishop*\\t114\\nbit\\t25\\nbitch*\\t30\\t32\\t34\\t120\\t121\\nbitcoin\\t113\\nbits\\t25\\nbitter\\t21\\t30\\t32\\t34\\t60\\nbitterly\\t30\\t32\\t34\\t60\\nbitterness\\t30\\t32\\t34\\t60\\nbittersweet\\t30\\t60\\nbiweek*\\t100\\t103\\nbiz\\t110\\nbj\\t70\\t73\\nblack\\t60\\t61\\nblackboard*\\t110\\nblackjack\\t111\\nbladder*\\t70\\t71\\nblah\\t120\\t125\\nblam*\\t30\\t32\\t34\\t40\\nblatant*\\t50\\t55\\nbldg*\\t110\\nbleed*\\t70\\t71\\t72\\nbless*\\t30\\t31\\t114\\nblind*\\t60\\t61\\t70\\t72\\nbliss*\\t30\\t31\\nblockbuster*\\t111\\nblog*\\t111\\nblonde\\t21\\t60\\t61\\nblood\\t70\\t71\\nbloody\\t70\\t71\\t120\\t121\\nblowjob*\\t70\\t73\\nblu-ray*\\t111\\nblue\\t21\\t60\\t61\\nblur*\\t50\\t54\\t111\\nbodi*\\t70\\t71\\nbody*\\t70\\t71\\nboi\\t40\\t44\\t120\\t122\\nboil*\\t70\\nbold\\t30\\t31\\t80\\t84\\nbolder\\t21\\t22\\t30\\t31\\nboldest\\t21\\t22\\t30\\t31\\nboldly\\t30\\t31\\nbollock*\\t70\\t71\\t120\\t121\\nbone\\t70\\t71\\nboner*\\t70\\t71\\t73\\nbones\\t70\\t71\\nbong\\t111\\nbonus*\\t30\\t31\\t80\\t82\\t84\\t113\\nbony\\t70\\t71\\nboo\\t120\\t122\\nboob*\\t70\\t71\\t73\\t120\\t121\\nbook*\\t110\\t111\\nboom*\\t60\\t62\\nbooty\\t70\\t71\\nbooz*\\t70\\t74\\t111\\nborder*\\t50\\t54\\t100\\t102\\nbore*\\t30\\t32\\nboring\\t21\\t30\\t32\\nborn\\t20\\t90\\t100\\t103\\nborrow*\\t113\\nboss\\t80\\t83\\t110\\nbossed\\t80\\t83\\t110\\nbosses\\t50\\t52\\t80\\t83\\t110\\nbossy\\t21\\t80\\t83\\nboth\\t25\\t100\\t102\\nbother*\\t30\\t32\\t34\\nbottom\\t21\\t22\\t80\\t83\\t100\\t102\\nbottomless\\t100\\t102\\nbought\\t20\\t90\\t113\\nbounce\\t91\\t100\\t101\\nbounced\\t90\\nbounces\\t91\\t100\\t101\\nbouncing\\t100\\t101\\nbowel*\\t70\\t71\\nbowling\\t111\\nboy\\t40\\t44\\nboy's\\t40\\t44\\nboyfriend*\\t40\\t42\\t44\\t80\\t81\\nboyhood\\t40\\t44\\nboyish\\t40\\t44\\nboys\\t40\\t44\\nbrain*\\t70\\t71\\nbrave\\t30\\t31\\nbraved\\t20\\t30\\t31\\t90\\nbraver\\t21\\t22\\t30\\t31\\nbravery\\t30\\t31\\nbraves\\t30\\t31\\nbravest\\t21\\t22\\t30\\t31\\nbrb\\t120\\t122\\nbread\\t70\\t74\\nbreadth\\t100\\t102\\nbreak\\t100\\nbreakfast*\\t70\\t74\\nbreakup\\t40\\t80\\t81\\nbreast*\\t70\\t71\\t73\\nbreath*\\t70\\t71\\nbride*\\t40\\t43\\nbrief\\t100\\t101\\t103\\nbriefly\\t1\\t13\\t100\\t101\\t103\\nbright\\t30\\t31\\t60\\t61\\nbrighter\\t21\\t22\\t60\\t61\\nbrightest\\t21\\t22\\t60\\t61\\nbrightness\\t60\\t61\\nbrilliance*\\t30\\t31\\nbrilliant\\t21\\t30\\t31\\nbrilliantly\\t30\\t31\\nbring\\t20\\t91\\t100\\t101\\nbringing\\t20\\t100\\t101\\nbrings\\t20\\t91\\t100\\t101\\nbrink\\t100\\t102\\nbro\\t40\\t41\\t44\\t80\\t81\\t120\\nbro'*\\t40\\t41\\t44\\t80\\t81\\nbroad\\t21\\t100\\t102\\nbroader\\t21\\t22\\t100\\t102\\nbroadest\\t21\\t22\\t100\\t102\\nbroadway\\t111\\nbroke\\t20\\t30\\t32\\t35\\t90\\nbroken\\t21\\nbroker*\\t110\\t113\\nbronchi*\\t70\\t72\\nbroom*\\t112\\nbros\\t40\\t41\\t44\\t80\\t81\\nbrother*\\t40\\t41\\t44\\t80\\t81\\nbrought\\t20\\t90\\t100\\t101\\nbrown\\t21\\t60\\t61\\nbrownies\\t70\\t74\\nbruh\\t40\\t44\\t120\\t122\\nbrunch*\\t70\\t74\\nbrush*\\t60\\t63\\nbrutal*\\t30\\t32\\t34\\nbs\\t120\\t121\\t122\\nbtw\\t120\\t122\\nbuck\\t113\\nbucks\\t113\\nbud\\t40\\t42\\t80\\t81\\nbuddh*\\t114\\nbuddies\\t40\\t42\\t80\\t81\\nbuddy*\\t40\\t42\\t44\\t80\\t81\\nbudget*\\t113\\nbulimi*\\t70\\t72\\t74\\nbullies\\t80\\t83\\nbullshit\\t120\\t121\\nbully\\t80\\t83\\nbum\\t80\\t83\\nbumfuck\\t100\\t102\\t120\\t121\\nbums\\t80\\t83\\nbunch\\t25\\nburden*\\t30\\t32\\nbureau*\\t110\\nburger\\t70\\t74\\nburial*\\t115\\nburied\\t115\\nburn\\t60\\t63\\nburned\\t60\\t63\\nburning\\t60\\t63\\nburnout*\\t80\\t82\\t110\\nburns\\t60\\t63\\nburnt\\t60\\t63\\nburp*\\t70\\t71\\nbury\\t115\\nbusier\\t21\\t22\\t110\\nbusiest\\t21\\t22\\t110\\nbusiness*\\t110\\t113\\nbusy\\t21\\t100\\t103\\t110\\nbut\\t1\\t14\\t50\\t56\\nbutt\\t70\\t71\\t120\\t121\\nbutter*\\t60\\t70\\t74\\nbuttfuck*\\t70\\t73\\t120\\t121\\nbutts\\t70\\t71\\t120\\t121\\nbuy*\\t113\\nby\\t1\\t11\\nbye\\t40\\t100\\t103\\ncafe*\\t70\\t74\\t111\\ncaffeine\\t70\\t74\\ncake*\\t70\\t74\\ncalculus\\t110\\ncall\\t40\\ncall-girl*\\t70\\t73\\ncalled\\t20\\t40\\t90\\ncaller*\\t40\\ncallgirl*\\t70\\t73\\ncalling\\t40\\ncalls\\t40\\ncalm\\t21\\t30\\t31\\ncalmer\\t21\\t22\\t30\\t31\\ncalmest\\t21\\t22\\t30\\t31\\ncalming\\t30\\t31\\ncalmly\\t30\\ncamarad*\\t80\\t81\\ncame\\t20\\t90\\t100\\t101\\ncampaign*\\t80\\t83\\ncamping\\t111\\ncampus*\\t110\\ncan\\t1\\t12\\t91\\ncan't\\t1\\t15\\t50\\t56\\t91\\ncancer*\\t70\\t72\\ncandie*\\t70\\t74\\ncandle*\\t60\\t61\\ncandy\\t70\\t74\\ncannot\\t1\\t12\\t15\\t20\\t50\\t56\\t91\\ncant\\t1\\t15\\t50\\t56\\t91\\ncapab*\\t80\\t82\\ncapacit*\\t100\\t102\\ncaptain\\t80\\t83\\ncaptive*\\t80\\t83\\ncar\\t100\\t101\\ncaramel*\\t60\\ncardia*\\t70\\t72\\ncardio*\\t70\\t72\\ncards\\t111\\ncare\\t20\\t30\\t31\\t91\\ncared\\t20\\t30\\t31\\t90\\ncareer*\\t110\\ncarefree\\t30\\t31\\ncareful*\\t80\\t85\\ncareless*\\t30\\t32\\ncares\\t20\\t30\\t31\\t91\\ncaress*\\t60\\t63\\ncaretaker\\t80\\t83\\ncaring\\t21\\t30\\t31\\ncarpet*\\t112\\ncarried\\t20\\t90\\t100\\t101\\ncarrier*\\t100\\t101\\ncarries\\t20\\t91\\t100\\t101\\ncarry\\t20\\t91\\t100\\t101\\ncarrying\\t100\\t101\\ncartoon*\\t111\\ncash\\t80\\t83\\t113\\ncashed\\t20\\t113\\ncashes\\t20\\t91\\t113\\ncashing\\t113\\ncasino*\\t111\\t113\\ncasket*\\t115\\ncaste\\t80\\t83\\ncasual\\t30\\t111\\ncasually\\t30\\ncasualt*\\t115\\ncatch\\t100\\t101\\ncatching\\t20\\ncategor*\\t50\\t51\\ncatholic*\\t114\\ncaught\\t20\\t90\\t100\\t101\\ncaus*\\t50\\t52\\ncaution*\\t80\\t85\\ncautious*\\t80\\t85\\ncbt\\t70\\t72\\ncc\\t40\\t120\\t122\\ncced\\t40\\t90\\t120\\t122\\ncd*\\t111\\ncease*\\t80\\t85\\t100\\t103\\nceasing\\t100\\t103\\nceiling*\\t100\\t102\\ncelebrat*\\t40\\t80\\t81\\t82\\t111\\ncelebrities\\t80\\t83\\t111\\ncelebrity\\t80\\t83\\t111\\ncellphone*\\t60\\t62\\ncemet*\\t115\\ncent\\t113\\ncenter*\\t100\\t102\\ncentral*\\t100\\t102\\ncentre*\\t100\\t102\\ncents\\t113\\ncentur*\\t100\\t103\\nceo*\\t80\\t83\\t110\\ncereals\\t70\\t74\\ncertain*\\t30\\t31\\t50\\t55\\ncertif*\\t110\\ncfo*\\t80\\t83\\t110\\nchairm*\\t80\\t83\\t110\\nchairperson\\t80\\t83\\t110\\nchairw*\\t80\\t83\\t110\\nchalleng*\\t30\\t31\\t80\\t82\\t110\\nchamp*\\t30\\t31\\t80\\t82\\t83\\t110\\nchance\\t50\\t54\\nchange\\t50\\t52\\t100\\t101\\nchanged\\t20\\t50\\t52\\t90\\t100\\t101\\nchanges\\t50\\t52\\t100\\t101\\nchanging\\t50\\t52\\t100\\t101\\nchannel*\\t111\\nchap\\t40\\t42\\t44\\nchapel*\\t114\\nchaplain*\\t114\\nchapter\\t25\\ncharisma\\t80\\t83\\ncharit*\\t30\\t31\\t113\\ncharm*\\t30\\t31\\nchat*\\t40\\t80\\t81\\t111\\ncheap\\t80\\t83\\t113\\ncheapen*\\t80\\t83\\t113\\ncheaper\\t21\\t22\\t80\\t83\\t113\\ncheapest\\t21\\t22\\t80\\t83\\t113\\ncheat*\\t30\\t32\\t34\\t80\\t82\\ncheckbook*\\t113\\ncheckers\\t111\\ncheckup*\\t70\\t72\\ncheek*\\t70\\t71\\ncheer\\t30\\t31\\ncheerful\\t21\\t30\\t31\\ncheers\\t30\\t31\\ncheery\\t21\\t30\\t31\\nchees*\\t70\\t74\\nchequ*\\t113\\ncherish*\\t30\\t31\\nchess\\t111\\nchest*\\t70\\t71\\nchew*\\t70\\t74\\nchick\\t40\\t43\\nchick'*\\t40\\t43\\nchicks\\t40\\t43\\nchief*\\t80\\t83\\nchild\\t40\\t80\\t83\\nchild'*\\t40\\t80\\t83\\nchildhood\\t100\\t103\\nchildren*\\t40\\t80\\t83\\nchili\\t70\\t74\\nchillin*\\t111\\nchills\\t70\\t72\\nchilly\\t21\\nchiropract*\\t70\\t72\\nchit-chat*\\t40\\t80\\t81\\nchitchat*\\t40\\t80\\t81\\nchlamydia\\t70\\t72\\t73\\nchocolat*\\t70\\t74\\nchoice*\\t50\\t51\\nchoir*\\t60\\t62\\t111\\nchok*\\t70\\t72\\ncholester*\\t70\\t72\\nchoos*\\t50\\t51\\nchore*\\t110\\t112\\nchorus\\t60\\t62\\t111\\nchow*\\t70\\t74\\nchrist\\t114\\nchristen*\\t114\\nchristian*\\t114\\nchristmas*\\t100\\t103\\t114\\nchronic*\\t70\\t72\\t100\\t103\\nchuckl*\\t30\\t31\\nchum\\t40\\t42\\t80\\t81\\nchummy\\t21\\t80\\t81\\nchums\\t40\\t42\\t80\\t81\\nchurch*\\t80\\t81\\t114\\ncigar*\\t70\\t72\\t74\\ncinema*\\t111\\ncircle\\t60\\t61\\ncirculat*\\t100\\t101\\ncitizen\\t40\\ncitizen'*\\t40\\ncitizens\\t40\\ncitrus*\\t60\\ncity\\t100\\t102\\nclan\\t80\\t81\\nclans\\t80\\t81\\nclap\\t60\\t62\\nclapped\\t60\\t62\\t90\\nclapping\\t60\\t62\\nclaps\\t60\\t62\\nclarif*\\t50\\t51\\nclass\\t110\\nclasses\\t110\\nclassic\\t21\\nclassical\\t21\\nclassmate\\t40\\t42\\t110\\nclassmates\\t40\\t42\\t110\\nclassroom*\\t110\\nclean\\t21\\ncleaned\\t20\\t90\\ncleaner\\t21\\t22\\ncleanest\\t21\\t22\\ncleaning\\t20\\ncleans\\t20\\t91\\nclear\\t21\\t50\\t55\\t60\\t61\\nclearly\\t1\\t13\\t50\\t55\\nclergy\\t114\\nclever\\t21\\t30\\t31\\nclick*\\t60\\t62\\nclient*\\t110\\nclimb*\\t80\\t82\\t100\\t101\\nclinic*\\t70\\t72\\nclique*\\t40\\t42\\t80\\t81\\nclit\\t70\\t71\\t73\\nclitorus\\t70\\t71\\t73\\nclock*\\t100\\t103\\nclose\\t100\\t102\\nclosed\\t100\\t102\\nclosely\\t100\\t102\\ncloser\\t21\\t22\\t100\\t102\\ncloses\\t100\\t101\\nclosest\\t21\\t22\\t100\\t102\\ncloset*\\t112\\nclosing\\t100\\t101\\nclosure\\t50\\t51\\nclothes\\t70\\t71\\nclub\\t80\\t81\\t111\\nclubs\\t80\\t81\\t111\\nclue\\t50\\t51\\nco-work*\\t40\\t110\\ncoach*\\t80\\t83\\t111\\ncock\\t70\\t71\\t73\\t120\\t121\\ncocks*\\t70\\t71\\t73\\t120\\t121\\ncocktail*\\t70\\t74\\t111\\ncodeine\\t70\\t72\\ncoffee*\\t70\\t74\\t111\\ncoffin*\\t115\\ncohere*\\t50\\t51\\ncoin\\t113\\ncoins\\t113\\ncoke*\\t70\\t74\\ncola\\t70\\t74\\ncold\\t21\\t60\\t63\\ncolder\\t21\\t22\\t60\\t63\\ncoldest\\t21\\t22\\t60\\t63\\ncoldly\\t30\\t32\\ncollaborate*\\t80\\t81\\t110\\ncollaboration\\t80\\t81\\t110\\ncollaborative\\t80\\t81\\t110\\ncollaborator*\\t110\\ncolleague*\\t40\\t42\\t80\\t81\\t110\\ncolleg*\\t110\\ncologne*\\t60\\ncolon\\t70\\t71\\ncolono*\\t70\\t72\\ncolor*\\t60\\t61\\ncolour*\\t60\\t61\\ncolumn*\\t100\\t102\\ncoma*\\t40\\t42\\t70\\t72\\ncome\\t20\\t91\\t100\\t101\\ncomed*\\t30\\t31\\t111\\ncomes\\t20\\t91\\t100\\t101\\ncomfort\\t30\\t31\\ncomfortable\\t21\\t30\\t31\\ncomfortably\\t30\\t31\\ncomforting\\t30\\t31\\ncomforts\\t30\\t31\\ncomic*\\t111\\ncoming\\t20\\t92\\t100\\t101\\ncommand*\\t80\\t83\\ncomment*\\t40\\ncommerc*\\t110\\ncommit\\t50\\t55\\t91\\ncommitment*\\t50\\t55\\ncommits\\t50\\t55\\t91\\ncommitted\\t50\\t55\\ncommittee*\\t110\\ncommitting\\t50\\t55\\ncommon\\t21\\t100\\ncommonly\\t1\\t13\\ncommun*\\t40\\t80\\t81\\ncommute*\\t100\\t101\\t110\\ncommuting\\t100\\t101\\t110\\ncompadre*\\t40\\t42\\t80\\t81\\ncompanies\\t110\\ncompanion*\\t40\\t42\\t80\\t81\\ncompany\\t40\\t110\\ncompar*\\t21\\t22\\ncompassion*\\t30\\t31\\t40\\t80\\t81\\ncompel*\\t50\\t52\\ncompensat*\\t113\\ncompet*\\t80\\t82\\t83\\t110\\ncomplain*\\t30\\t32\\t40\\ncomplete\\t50\\t55\\ncompleted\\t50\\t55\\t90\\ncompletely\\t1\\t13\\t50\\t55\\ncompletes\\t50\\t55\\t91\\ncomplex\\t21\\t50\\t51\\ncomplexity\\t50\\t51\\ncompliance\\t50\\t52\\t80\\t83\\ncompliant\\t21\\t50\\t52\\t80\\t83\\ncomplicate\\t50\\t51\\ncomplicated\\t21\\t50\\t51\\ncomplicates\\t50\\t51\\t91\\ncomplicating\\t50\\t51\\ncomplication*\\t50\\t51\\ncomplied\\t20\\t50\\t52\\t80\\t83\\t90\\ncomplies\\t20\\t50\\t52\\t80\\t83\\t91\\ncompliment*\\t30\\t31\\t40\\t80\\t81\\ncomply*\\t20\\t50\\t52\\t80\\t83\\ncompreh*\\t50\\t51\\ncompromis*\\t80\\t81\\ncomput*\\t110\\ncomrad*\\t40\\t42\\t80\\t81\\nconcentrat*\\t50\\t51\\nconcern\\t80\\t85\\nconcerned\\t30\\nconcert*\\t60\\t62\\t111\\nconclud*\\t50\\t51\\nconclus*\\t50\\t51\\ncondemn*\\t30\\t32\\t80\\t83\\ncondo\\t112\\ncondom\\t70\\t72\\t73\\ncondominium*\\t112\\ncondoms\\t70\\t72\\t73\\ncondos\\t112\\nconferenc*\\t110\\nconfess*\\t40\\t50\\t51\\t114\\nconfidant*\\t40\\t42\\t80\\t81\\nconfide\\t20\\t40\\t80\\t81\\t91\\nconfided\\t20\\t40\\t80\\t81\\t90\\nconfidence\\t30\\t31\\t50\\t55\\t80\\t82\\t83\\t84\\nconfident\\t30\\t31\\t50\\t55\\t80\\t82\\t83\\t84\\nconfidently\\t30\\t31\\t50\\t55\\t80\\t82\\t83\\t84\\nconfides\\t20\\t40\\t80\\t81\\t91\\nconfiding\\t20\\t40\\t80\\t81\\nconform\\t80\\t83\\nconformity\\t80\\t83\\nconfront*\\t30\\t32\\t34\\nconfuse\\t30\\t32\\t33\\t50\\t54\\nconfused\\t30\\t32\\t33\\t50\\t54\\nconfusedly\\t30\\t32\\t33\\nconfuses\\t20\\t50\\t54\\t91\\nconfusing\\t30\\t32\\t33\\t50\\t54\\nconfusion*\\t50\\t54\\ncongest*\\t70\\t72\\nconglom*\\t110\\ncongregat*\\t40\\t80\\t81\\ncongress*\\t80\\t83\\t110\\nconnection*\\t100\\t102\\nconquer*\\t80\\t82\\t83\\nconquest*\\t80\\t83\\nconscientious*\\t80\\t82\\nconscious*\\t50\\t51\\nconsequen*\\t50\\t52\\t80\\t85\\nconsider\\t20\\t50\\t51\\t91\\nconsiderate\\t21\\t30\\t31\\nconsideration\\t50\\t51\\nconsidered\\t20\\t50\\t51\\nconsidering\\t20\\t50\\t51\\nconsiders\\t20\\t50\\t51\\t91\\nconsort*\\t80\\t81\\nconstant\\t100\\t103\\nconstantly\\t1\\t13\\t100\\t103\\nconstipat*\\t70\\t72\\nconstruction*\\t110\\nconsult*\\t40\\t110\\nconsumer*\\t110\\t113\\ncontact\\t40\\t42\\ncontacted\\t20\\t40\\t90\\ncontacts\\t40\\t42\\ncontag*\\t70\\t72\\ncontain*\\t100\\t102\\ncontemplat*\\t50\\t51\\ncontempt*\\t30\\t32\\t34\\ncontented*\\t30\\t31\\ncontentment\\t30\\t31\\ncontingen*\\t50\\t54\\ncontinually\\t1\\t13\\t100\\t103\\ncontinue\\t91\\t100\\t103\\ncontinued\\t100\\t103\\ncontinues\\t91\\t100\\t103\\ncontradic*\\t30\\t32\\t34\\t40\\ncontrol*\\t50\\t52\\t80\\t83\\nconvene\\t80\\t81\\nconvent\\t114\\nconvents\\t114\\nconvers*\\t40\\t80\\t81\\nconvinc*\\t50\\t51\\ncook*\\t70\\t74\\t111\\ncool\\t21\\t30\\t31\\t60\\t63\\t120\\t123\\ncooler\\t21\\t22\\t60\\t63\\ncoolest\\t21\\t22\\t60\\t63\\ncooling\\t60\\t63\\ncooperat*\\t80\\t81\\ncop\\t80\\t83\\ncops\\t80\\t83\\ncornea*\\t70\\t71\\ncorner\\t100\\t102\\ncorners\\t100\\t102\\ncoronar*\\t70\\t72\\ncoroner*\\t115\\ncorp\\t110\\ncorporat*\\t110\\ncorps\\t110\\ncorpse*\\t115\\ncorrect*\\t50\\t55\\ncorrelat*\\t50\\t51\\ncos\\t1\\t14\\t21\\t50\\t52\\ncost\\t113\\ncosted\\t90\\t113\\ncosting\\t113\\ncostly\\t113\\ncosts\\t113\\ncouch*\\t112\\ncough*\\t70\\t72\\ncould\\t1\\t12\\t20\\t50\\t53\\ncould've\\t1\\t12\\t20\\t50\\t53\\t90\\ncouldn't\\t1\\t12\\t15\\t20\\t50\\t53\\ncouldnt\\t1\\t12\\t15\\t20\\t50\\t53\\ncouldve\\t1\\t12\\t20\\t50\\t53\\t90\\ncounc*\\t40\\t110\\ncouns*\\t40\\t110\\ncounties\\t100\\t102\\ncountr*\\t100\\t102\\ncounty\\t100\\t102\\ncoup\\t80\\t83\\ncouple\\t25\\ncoupon*\\t113\\ncourag*\\t30\\t31\\ncourse*\\t110\\ncourtship\\t40\\t80\\t81\\ncousin*\\t40\\t41\\t80\\t81\\ncoverage\\t100\\t102\\ncoward*\\t80\\t83\\ncowboy*\\t40\\t44\\ncowgirl*\\t40\\t43\\ncowork*\\t40\\t110\\ncoz\\t1\\t14\\t50\\t52\\t120\\t122\\ncramp*\\t70\\t72\\ncrap\\t30\\t32\\t34\\t70\\t71\\t120\\t121\\ncrappy\\t21\\t30\\t32\\t34\\t120\\t121\\ncrave\\t20\\t80\\t84\\t91\\ncraved\\t20\\t90\\ncraves\\t20\\t91\\ncraving\\t80\\t84\\ncrawl*\\t100\\t101\\ncrazier\\t21\\t22\\t30\\ncraziest\\t21\\t22\\t30\\ncrazy\\t21\\t30\\t32\\ncream\\t70\\t74\\ncreamer\\t70\\t74\\ncreate\\t20\\t30\\t31\\t50\\t52\\t80\\t82\\ncreated\\t20\\t30\\t31\\t50\\t52\\t80\\t82\\t90\\ncreates\\t20\\t30\\t31\\t50\\t52\\t80\\t82\\ncreating\\t20\\t30\\t31\\t50\\t52\\t80\\t82\\ncreation\\t30\\t31\\t50\\t52\\t80\\t82\\ncreations\\t30\\t31\\t50\\t52\\t80\\t82\\ncreative\\t21\\t30\\t31\\t50\\t52\\t80\\t82\\ncreativity\\t30\\t31\\t50\\t52\\t80\\t82\\ncredential*\\t110\\ncredit*\\t30\\t31\\t110\\t113\\ncreepier\\t21\\t22\\ncreepiest\\t21\\t22\\ncremat*\\t115\\ncrew\\t40\\t42\\t80\\t81\\t110\\ncricket\\t111\\ncried\\t20\\t30\\t32\\t35\\t90\\ncries\\t20\\t30\\t32\\t35\\ncriminal*\\t80\\t83\\ncriquet\\t111\\ncrises\\t80\\t85\\ncrisis\\t80\\t85\\ncrisp\\t21\\ncritical\\t30\\t32\\t34\\ncritici*\\t30\\t32\\t34\\ncrook\\t80\\t83\\ncrooks\\t80\\t83\\ncroquet\\t111\\ncrotch\\t70\\t71\\ncrowd*\\t40\\ncrown*\\t80\\t83\\ncrucif*\\t114\\t115\\ncrude\\t30\\t32\\ncrudely\\t30\\t32\\ncruel\\t21\\t30\\t32\\t34\\ncrueler\\t21\\t22\\t30\\t32\\t34\\ncruelest\\t21\\t22\\t30\\t32\\t34\\ncruelty\\t30\\t32\\t34\\ncruis*\\t100\\t101\\t111\\ncrusade*\\t114\\ncrushed\\t30\\t32\\t35\\t80\\t83\\ncrushing\\t80\\t83\\ncry\\t20\\t30\\t32\\t35\\ncrying\\t20\\t30\\t32\\t35\\ncrypt*\\t115\\ncubicle*\\t110\\ncuddl*\\t80\\t81\\ncultur*\\t40\\ncum\\t70\\t73\\ncumming\\t70\\t73\\ncums\\t70\\t73\\ncunt*\\t30\\t32\\t34\\t120\\t121\\ncupcake*\\t70\\t74\\ncurb*\\t80\\t85\\ncurio*\\t50\\t51\\ncurrenc*\\t113\\ncurrent*\\t91\\t100\\t103\\ncurricul*\\t110\\ncurse\\t30\\t32\\ncurtain*\\t112\\ncustomer*\\t110\\t113\\ncut\\t30\\t32\\ncute\\t21\\t30\\t31\\ncuter\\t21\\t22\\t30\\t31\\ncutest\\t21\\t22\\t30\\t31\\ncutie*\\t30\\t31\\t40\\t42\\ncuz\\t1\\t14\\t50\\t52\\t120\\t122\\ncv*\\t110\\ncycle*\\t100\\t103\\ncynic*\\t30\\t32\\t34\\ncyst*\\t70\\t72\\nd8*\\t120\\t122\\nda\\t120\\t122\\ndad\\t40\\t41\\t44\\ndad's\\t40\\t41\\t44\\ndaddies\\t40\\t41\\t44\\ndaddy\\t40\\t41\\t44\\ndaddy's\\t40\\t41\\t44\\ndads\\t40\\t41\\t44\\ndaily\\t21\\t100\\t103\\ndamag*\\t30\\t32\\ndame*\\t40\\t43\\ndammit\\t120\\t121\\ndamn*\\t30\\t32\\t34\\t120\\t121\\ndamsel*\\t40\\t43\\ndance\\t40\\t80\\t81\\t100\\t101\\t111\\ndanced\\t20\\t40\\t80\\t81\\t90\\t100\\t101\\t111\\ndancer\\t111\\ndances\\t40\\t80\\t81\\t100\\t101\\t111\\ndancing\\t20\\t40\\t80\\t81\\t100\\t101\\t111\\ndang\\t120\\t121\\ndanger\\t30\\t32\\t80\\t85\\ndangerous\\t21\\t30\\t32\\t80\\t85\\ndangerously\\t30\\t32\\t80\\t85\\ndangers\\t30\\t32\\t80\\t85\\ndank\\t21\\t120\\t122\\ndanker\\t21\\t22\\t120\\t122\\ndankest\\t21\\t22\\t120\\t122\\ndankness\\t120\\t122\\ndare\\t80\\t84\\ndared\\t20\\t80\\t84\\t90\\ndares\\t80\\t84\\ndaring\\t30\\t31\\t80\\t84\\ndark\\t60\\t61\\ndarken*\\t60\\t61\\ndarker\\t21\\t22\\t60\\t61\\ndarkest\\t21\\t22\\t60\\t61\\ndarkness\\t60\\t61\\ndarlin*\\t30\\t31\\t40\\t42\\ndarn\\t120\\t121\\ndat\\t120\\t122\\ndate\\t40\\t42\\t100\\t103\\ndated\\t100\\t103\\ndates\\t100\\t103\\ndating\\t40\\t80\\t81\\t100\\t103\\ndaughter*\\t40\\t41\\t43\\ndawg*\\t40\\t42\\t44\\t120\\t122\\nday*\\t100\\t103\\ndaze*\\t30\\t32\\ndead\\t115\\ndeadbeat\\t80\\t83\\ndeadline*\\t110\\ndeaf*\\t60\\t62\\t70\\t72\\ndean*\\t80\\t83\\t110\\ndear\\t30\\t31\\t40\\t42\\t80\\t81\\ndearly\\t30\\t31\\t80\\t81\\ndeath*\\t115\\ndebate\\t40\\ndebit*\\t113\\ndebt*\\t113\\ndecade*\\t100\\t103\\ndecay*\\t30\\t32\\t100\\t103\\ndecease*\\t115\\ndecember\\t100\\t103\\ndecent\\t30\\t31\\ndeceptive\\t21\\t30\\t32\\ndecide\\t20\\t50\\t51\\t91\\ndecided\\t20\\t50\\t51\\t90\\ndecides\\t20\\t50\\t51\\t91\\ndeciding\\t20\\t50\\t51\\ndeceiv*\\t20\\t30\\t32\\t50\\t52\\ndecis*\\t50\\t51\\ndecongest*\\t70\\t72\\ndecorat*\\t111\\ndedicated\\t21\\ndeduc*\\t50\\t51\\t52\\ndeep\\t21\\t100\\t102\\ndeeper\\t21\\t22\\t100\\t102\\ndeepest\\t21\\t22\\t100\\t102\\ndeeply\\t100\\t102\\ndeez\\t1\\t2\\t9\\t120\\t122\\ndefeat*\\t30\\t32\\t80\\t82\\t83\\ndefect*\\t30\\t32\\ndefenc*\\t30\\t32\\ndefend*\\t20\\t30\\t32\\t80\\t85\\ndefense\\t30\\t32\\t80\\t85\\ndefenseless\\t21\\t30\\t32\\t80\\t83\\ndefensive\\t21\\t30\\t32\\ndefensively\\t30\\t32\\ndefensiveness\\t30\\t32\\ndefine\\t20\\t50\\t51\\t91\\ndefined\\t50\\t55\\ndefines\\t20\\t50\\t51\\t91\\ndefining\\t50\\t51\\ndefinite\\t21\\t50\\t55\\ndefinitely\\t1\\t13\\t30\\t31\\t50\\t55\\ndefinition\\t50\\t51\\ndefinitive*\\t50\\t55\\ndegrad*\\t30\\t32\\t80\\t83\\ndelay*\\t100\\t103\\ndelectabl*\\t30\\t31\\t60\\ndelegate\\t80\\t83\\t110\\ndelegated\\t20\\t80\\t83\\t110\\ndelegates\\t80\\t83\\t110\\ndelegating\\t20\\t80\\t83\\t110\\ndelegation\\t80\\t83\\t110\\ndelete\\t20\\t91\\ndeleted\\t20\\t90\\ndelgated\\t90\\ndelicate*\\t30\\t31\\ndelicious*\\t30\\t31\\t60\\t70\\t74\\ndeligh*\\t30\\t31\\ndeliver*\\t100\\t101\\ndemand*\\t80\\t83\\ndemean*\\t30\\t32\\t80\\t83\\ndemise\\t115\\ndemon\\t114\\ndemonic*\\t114\\ndemons\\t114\\ndemot*\\t30\\t32\\t80\\t82\\t110\\nden\\t112\\ndenial\\t30\\t32\\ndenied\\t20\\t80\\t83\\t90\\ndenies\\t20\\t80\\t83\\t91\\ndense\\t21\\t100\\t102\\ndensit*\\t100\\t102\\ndentist*\\t70\\t72\\ndeny\\t20\\t80\\t83\\t91\\ndenying\\t20\\t80\\t83\\ndepart\\t20\\t100\\t101\\ndeparted\\t20\\t90\\t100\\t101\\ndeparting\\t20\\t100\\t101\\ndepartment*\\t110\\ndeparts\\t20\\t100\\t101\\ndeparture*\\t100\\t101\\ndepend\\t20\\t50\\t52\\t54\\t91\\ndepended\\t20\\t50\\t52\\t54\\t90\\ndependent\\t80\\t83\\ndepending\\t50\\t52\\t54\\ndepends\\t20\\t50\\t52\\t54\\t91\\ndepict*\\t60\\t61\\ndeposit*\\t113\\ndepress*\\t30\\t32\\t35\\ndepriv*\\t30\\t32\\t35\\ndept\\t110\\ndepth*\\t100\\t102\\nderma*\\t70\\t72\\ndescend\\t20\\t100\\t101\\ndescended\\t20\\t90\\t100\\t101\\ndescending\\t20\\t100\\t101\\ndescends\\t20\\t100\\t101\\ndescribe\\t20\\t91\\ndescribed\\t20\\ndescribes\\t20\\t91\\ndescribing\\t20\\ndesir*\\t30\\t31\\t50\\t53\\t80\\t84\\ndesk*\\t110\\ndespair*\\t30\\t32\\t35\\ndesperat*\\t30\\t32\\t33\\ndespis*\\t30\\t32\\t34\\ndespite\\t1\\t11\\t50\\t56\\ndessert*\\t70\\t74\\ndestin*\\t92\\ndestroy*\\t30\\t32\\t34\\t80\\t83\\ndestruct\\t30\\t32\\t34\\ndestructed\\t30\\t32\\t34\\t90\\ndestruction\\t30\\t32\\t34\\t80\\t83\\ndestructive\\t21\\t30\\t32\\t34\\ndestructiveness\\t30\\t32\\t34\\ndetermina*\\t30\\t31\\t50\\t51\\t80\\t82\\ndetermine\\t20\\t50\\t51\\t91\\ndetermined\\t30\\t31\\t50\\t51\\t80\\t82\\ndetermines\\t20\\t50\\t51\\t91\\ndetermining\\t50\\t51\\ndetox*\\t70\\t72\\ndevastat*\\t30\\t32\\t35\\ndevelop*\\t110\\ndevil*\\t30\\t32\\t114\\ndevot*\\t30\\t31\\ndiabet*\\t70\\t72\\ndiagnos*\\t50\\t51\\t70\\t72\\ndiagonal*\\t100\\t102\\ndiaries\\t111\\ndiarr*\\t70\\t72\\ndiary\\t111\\ndick\\t70\\t71\\t73\\t120\\t121\\ndickhead*\\t120\\t121\\ndickhole*\\t120\\t121\\ndickish*\\t120\\t121\\ndicks\\t70\\t71\\t73\\t120\\t121\\ndickwad\\t120\\t121\\ndictate\\t80\\t83\\ndictator*\\t80\\t83\\ndid\\t1\\t12\\t20\\t90\\ndidn't\\t1\\t12\\t15\\t20\\t50\\t56\\t90\\ndidnt\\t1\\t12\\t15\\t20\\t50\\t56\\t90\\ndie\\t20\\t91\\t115\\ndied\\t20\\t90\\t115\\ndies\\t20\\t91\\t115\\ndiet*\\t70\\t72\\t74\\ndiffer\\t50\\t56\\ndiffered\\t50\\t56\\t90\\ndifference*\\t21\\t22\\t50\\t56\\ndifferent\\t21\\t22\\t50\\t56\\ndifferential\\t50\\t56\\ndifferentiat*\\t50\\t56\\ndifferently\\t50\\t56\\ndiffering\\t50\\t56\\ndiffers\\t20\\t50\\t56\\t91\\ndifficult\\t21\\t30\\t32\\t80\\t85\\ndifficulties\\t30\\t32\\t80\\t85\\ndifficulty\\t30\\t32\\t80\\t85\\ndigest*\\t70\\t72\\t74\\ndigital\\t21\\ndignified\\t30\\t31\\ndignifies\\t30\\t31\\ndignify\\t20\\ndignifying\\t30\\t31\\ndignitaries\\t80\\t83\\ndignitary\\t80\\t83\\ndignity\\t30\\t31\\ndildo*\\t70\\t73\\ndilf*\\t40\\t44\\t70\\t73\\t120\\t121\\t122\\ndiligen*\\t80\\t82\\ndime\\t113\\ndimension*\\t100\\t102\\ndimes\\t113\\ndinar*\\t113\\ndine\\t20\\t70\\t74\\ndined\\t20\\t70\\t74\\t90\\ndiner\\t70\\t74\\ndinero\\t113\\ndiners\\t70\\t74\\ndines\\t20\\t70\\t74\\t91\\ndining\\t70\\t74\\ndinner*\\t70\\t74\\ndiplom*\\t110\\ndipshit*\\t120\\t121\\ndirect\\t100\\t102\\ndirection*\\t100\\t102\\ndirectly\\t50\\t55\\t100\\t102\\ndirector*\\t80\\t83\\t110\\ndirtier\\t21\\t22\\ndirtiest\\t21\\t22\\ndirty\\t21\\ndis\\t120\\t122\\ndisadvantag*\\t30\\t32\\t80\\t83\\t85\\ndisagree*\\t30\\t32\\ndisappear\\t20\\t60\\t61\\t91\\ndisappeared\\t20\\t60\\t61\\t90\\ndisappearing\\t20\\t60\\t61\\ndisappears\\t20\\t60\\t61\\t91\\ndisappoint*\\t30\\t32\\t35\\ndisaster*\\t30\\t32\\t80\\t85\\ndiscern*\\t50\\t51\\ndisciple*\\t80\\t83\\ndisclo*\\t40\\t50\\t51\\ndiscomfort*\\t30\\t32\\t33\\ndiscount*\\t113\\ndiscourag*\\t30\\t32\\t35\\ndiscover*\\t50\\t51\\ndiscuss*\\t40\\ndisease*\\t70\\t72\\ndisgrac*\\t30\\t32\\t80\\t83\\ndisgust*\\t30\\t32\\ndish\\t70\\t74\\ndishearten*\\t30\\t32\\t35\\ndishes\\t70\\t74\\ndishonor*\\t30\\t32\\t80\\t83\\ndishwash*\\t112\\ndisillusion*\\t30\\t32\\t35\\t50\\t51\\ndislike\\t20\\t30\\t32\\t91\\ndisliked\\t20\\t30\\t32\\t90\\ndislikes\\t20\\t30\\t32\\t91\\ndisliking\\t30\\t32\\ndismay*\\t30\\t32\\ndisorient*\\t50\\t54\\ndispensary\\t111\\ndisplay*\\t60\\t61\\ndisreput*\\t30\\t32\\t80\\t83\\ndiss\\t30\\t32\\t120\\t122\\ndissatisf*\\t30\\t32\\ndissertat*\\t110\\ndissimil*\\t21\\t22\\t50\\t56\\ndistal\\t21\\t100\\t102\\ndistan*\\t100\\t102\\ndistinct*\\t50\\t55\\t56\\ndistinguish*\\t50\\t56\\ndistract*\\t30\\t50\\t51\\ndistraught\\t30\\t32\\t33\\ndistress*\\t30\\t32\\t33\\ndistrict\\t100\\t102\\ndistrust*\\t30\\t32\\t34\\t80\\t85\\ndisturb*\\t30\\t32\\t33\\ndividend*\\t110\\t113\\ndivin*\\t30\\t31\\t114\\ndivorc*\\t40\\t41\\ndizz*\\t70\\t72\\ndj*\\t60\\t62\\t111\\ndm\\t80\\t81\\t120\\t122\\ndnd\\t111\\ndo\\t1\\t12\\t20\\t91\\ndoa\\t115\\ndoctor*\\t70\\t72\\t80\\t83\\t110\\ndoes\\t1\\t12\\t20\\t91\\ndoesn't\\t1\\t12\\t15\\t20\\t91\\ndoesnt\\t1\\t12\\t15\\t20\\t91\\ndoghouse*\\t112\\ndoing\\t1\\t12\\t20\\ndollar*\\t113\\ndomestic*\\t112\\ndomina*\\t30\\t32\\t34\\t80\\t82\\t83\\ndon't\\t1\\t12\\t15\\t20\\t91\\ndonate\\t20\\t80\\t81\\t91\\t113\\ndonated\\t20\\t90\\t113\\ndonates\\t20\\t91\\t113\\ndonating\\t20\\t113\\ndonation*\\t80\\t81\\t113\\ndone\\t1\\t12\\t20\\t90\\ndont\\t1\\t12\\t15\\t20\\t91\\ndoofus\\t80\\t83\\t120\\t121\\ndoom*\\t30\\t32\\t35\\t80\\t85\\t114\\ndoor*\\t100\\t102\\t112\\ndope*\\t120\\t122\\ndork*\\t30\\t32\\t120\\t121\\ndorm*\\t110\\t112\\ndosage*\\t70\\t72\\ndose*\\t70\\t72\\ndosing\\t70\\t72\\ndotcom\\t110\\t120\\t122\\ndoubl*\\t24\\t25\\ndoubt*\\t30\\t32\\t33\\t50\\t54\\t80\\t85\\ndouche*\\t120\\t121\\ndown\\t1\\t11\\t80\\t83\\t100\\t102\\ndownhill\\t100\\t102\\ndownsiz*\\t110\\ndownstairs\\t100\\t102\\ndowntown\\t100\\t102\\ndownward*\\t100\\t102\\ndozen*\\t24\\ndr\\t70\\t72\\t80\\t83\\ndrama*\\t111\\ndrank\\t20\\t70\\t74\\t90\\ndrape*\\t112\\ndread*\\t30\\t32\\t33\\t80\\t85\\ndream*\\t111\\ndresser*\\t112\\ndried\\t60\\t63\\ndrier\\t21\\t22\\t60\\t63\\ndriest\\t21\\t22\\t60\\t63\\ndrift*\\t100\\t101\\ndrink*\\t70\\t74\\t111\\ndrive\\t100\\t101\\ndriven\\t80\\t82\\t100\\t101\\ndrives\\t91\\t100\\t101\\ndriveway*\\t112\\ndriving\\t100\\t101\\ndrool*\\t60\\t70\\t71\\ndrop\\t100\\t101\\ndropout*\\t80\\t82\\t110\\ndrove\\t20\\t90\\t100\\t101\\ndrown*\\t115\\ndrows*\\t70\\t72\\ndrs\\t70\\t72\\t80\\t83\\ndrug*\\t70\\t72\\ndrum\\t111\\ndrumm*\\t111\\ndrums\\t111\\ndrunk\\t70\\t74\\t111\\ndrunke*\\t21\\t70\\t74\\t111\\ndry\\t21\\t60\\t63\\ndryness\\t60\\t63\\ndtf\\t70\\t73\\t120\\t121\\t122\\ndubious*\\t50\\t54\\nduchess*\\t40\\t43\\ndude*\\t40\\t42\\t120\\ndue\\t100\\t103\\ndues\\t113\\ndufus\\t80\\t83\\t120\\t121\\nduh\\t120\\t123\\nduke*\\t40\\t44\\ndull\\t21\\t30\\t32\\t35\\ndumb\\t21\\t30\\t32\\t34\\t120\\t121\\ndumbass*\\t30\\t32\\t34\\t120\\t121\\ndumber\\t21\\t22\\t30\\t32\\t34\\t120\\t121\\ndumbest\\t21\\t22\\t30\\t32\\t34\\t120\\t121\\ndumbfuck*\\t120\\t121\\ndummy\\t30\\t32\\t34\\t80\\t83\\t120\\t121\\ndump*\\t30\\t32\\t100\\t101\\ndunno\\t50\\t54\\t120\\t122\\t125\\nduplex*\\t112\\nduring\\t1\\t11\\t100\\t103\\nduti*\\t110\\nduty\\t110\\ndvd*\\t111\\ndvr\\t111\\ndwell*\\t30\\t32\\t33\\ndying\\t115\\ndyke*\\t70\\t73\\ne-cig*\\t111\\ne-mail\\t40\\ne-mailed\\t20\\t40\\t90\\ne-mailing\\t20\\t40\\ne-mails\\t40\\neach\\t25\\neager\\t21\\t30\\t31\\t80\\t84\\neagerly\\t30\\t31\\t80\\t84\\neagerness\\t30\\t31\\t80\\t84\\near\\t60\\t62\\t70\\t71\\nearlier\\t21\\t22\\t90\\t100\\t103\\nearliest\\t21\\t22\\t100\\t103\\nearly\\t21\\t100\\t103\\nearn\\t80\\t82\\t84\\t110\\nearned\\t80\\t82\\t84\\t90\\t110\\t113\\nearning\\t20\\t80\\t82\\t84\\t110\\nearnings\\t80\\t84\\t113\\nearns\\t20\\t80\\t82\\t84\\t91\\t110\\nears\\t60\\t62\\t70\\t71\\nearth\\t100\\t102\\nease*\\t30\\t31\\neasier\\t21\\t22\\t30\\t31\\neasiest\\t21\\t22\\t30\\t31\\neasily\\t30\\t31\\neasiness\\t30\\t31\\neasing\\t20\\t30\\t31\\neast*\\t100\\t102\\neasy*\\t21\\t30\\t31\\neat\\t20\\t70\\t74\\t91\\neaten\\t20\\t70\\t74\\t90\\neating\\t20\\t70\\t74\\neats\\t20\\t70\\t74\\t91\\nebook*\\t111\\necig*\\t111\\necon*\\t110\\t113\\necsta*\\t30\\t31\\nedge*\\t60\\t100\\t102\\nedit*\\t110\\neducation\\t80\\t83\\t110\\neducational\\t21\\t110\\neffect*\\t50\\t51\\t52\\nefficien*\\t80\\t82\\neffin\\t120\\t121\\neffin'\\t120\\t121\\neffing\\t120\\t121\\neffort*\\t80\\t82\\t110\\nefl\\t110\\negg*\\t70\\t74\\nego\\t80\\t83\\negotis*\\t30\\t32\\neh\\t120\\t122\\neight*\\t24\\neither\\t21\\t22\\t25\\t50\\t56\\nelapse*\\t100\\t103\\nelbow*\\t70\\t71\\nelegan*\\t30\\t31\\nelementary\\t110\\neleven\\t24\\nelicit*\\t50\\t52\\nelit*\\t80\\t82\\t83\\nelse\\t50\\t56\\nelsewhere\\t100\\t102\\nem\\t120\\t122\\nemail\\t40\\nemailed\\t20\\t40\\t90\\nemailing\\t20\\t40\\nemails\\t40\\nembalm*\\t115\\nembarrass*\\t30\\t32\\t33\\t40\\nembezzl*\\t113\\nemotion\\t30\\nemotional\\t21\\t30\\t32\\nemotions\\t30\\nempath*\\t80\\t81\\nemphysem*\\t70\\t72\\nemploy\\t110\\nemployed\\t110\\nemployee*\\t80\\t83\\t110\\nemployer*\\t80\\t83\\t110\\nemployment\\t110\\nemptier\\t21\\t22\\t30\\t32\\t35\\t80\\t82\\t100\\nemptiest\\t21\\t22\\t30\\t32\\t35\\t80\\t82\\t100\\nemptiness\\t30\\t32\\t35\\t80\\t82\\t100\\t102\\nempty\\t21\\t30\\t32\\t35\\t80\\t82\\t100\\t102\\nemtpie*\\t100\\t102\\nenabl*\\t50\\t52\\t80\\t82\\nenact*\\t20\\t50\\t52\\nenclos*\\t100\\t102\\nencompass*\\t100\\t102\\nencourag*\\t30\\t31\\t40\\t80\\t81\\nend\\t100\\t103\\nendeav*\\t80\\t82\\nended\\t20\\t90\\t100\\t103\\nending\\t100\\t103\\nendless\\t21\\nends\\t100\\t103\\nenema*\\t70\\t72\\nenemie*\\t30\\t32\\t34\\t40\\nenemy*\\t30\\t32\\t34\\t40\\nenerg*\\t30\\t31\\nengag*\\t30\\t31\\t40\\nenjoy*\\t30\\t31\\nenlighten*\\t50\\t51\\nenorm*\\t80\\t83\\t100\\t102\\nenrag*\\t30\\t32\\t34\\nenslav*\\t80\\t83\\nenter\\t20\\t91\\t100\\t101\\nentered\\t20\\t90\\t100\\t101\\nentering\\t20\\t100\\t101\\nenters\\t20\\t91\\t100\\t101\\nentertain*\\t30\\t31\\t111\\nenthus*\\t30\\t31\\t80\\t84\\nentire*\\t25\\t50\\t55\\nentrance*\\t100\\t102\\nentrepreneur*\\t110\\nenvie*\\t30\\t32\\t34\\nenvious\\t21\\t30\\t32\\t34\\nenvironment*\\t100\\t102\\nenvy*\\t30\\t32\\t34\\nep\\t60\\t62\\t111\\t120\\t122\\nepidemic*\\t70\\t72\\t115\\nepiscopal*\\t114\\nequal*\\t21\\t22\\t25\\nequities\\t113\\nequity\\t113\\nequival*\\t21\\t22\\ner\\t120\\t124\\nera\\t100\\t103\\neras\\t100\\t103\\nerectile\\t21\\t70\\t71\\t73\\nerection*\\t70\\t71\\t73\\nerotic*\\t70\\t73\\nerrand*\\t110\\nescap*\\t80\\t85\\t100\\t101\\nesl\\t110\\nespecially\\t1\\t13\\t50\\t55\\nespresso*\\t70\\t74\\t111\\nessential\\t21\\t50\\t55\\nessentially\\t1\\t13\\nestrogen*\\t70\\t72\\netern*\\t100\\t103\\neuro\\t113\\neuros\\t113\\nevad*\\t80\\t85\\t100\\t101\\nevaluat*\\t50\\t51\\nevangel*\\t114\\neve\\t100\\t103\\neven\\t1\\t13\\nevening*\\t100\\t103\\nevent\\t100\\t103\\neventual\\t21\\t92\\neventually\\t1\\t13\\t92\\t100\\t103\\never\\t1\\t13\\t50\\t55\\t100\\t103\\nevery\\t25\\t50\\t55\\neverybod*\\t1\\t2\\t9\\t40\\t50\\t55\\neveryday\\t1\\t2\\t9\\t50\\t55\\t100\\t103\\neveryone*\\t1\\t2\\t9\\t40\\t50\\t55\\neverything*\\t1\\t2\\t9\\t40\\t50\\t55\\neverytime\\t50\\t55\\t100\\t103\\neverywhere*\\t1\\t13\\t50\\t55\\t100\\t102\\nevidence\\t50\\t51\\nevident*\\t50\\t55\\nevil\\t21\\t30\\t32\\new\\t120\\t122\\neww*\\t120\\t122\\nex\\t40\\t120\\nex-bf*\\t40\\t42\\nex-boyfriend*\\t40\\t42\\nex-gf*\\t40\\t42\\nex-girlfriend*\\t40\\t42\\nexact*\\t50\\t55\\nexam\\t110\\nexamin*\\t50\\t51\\nexams\\t110\\nexbf*\\t40\\t42\\t44\\t120\\t122\\nexboy*\\t40\\t42\\t44\\t80\\t81\\nexcel\\t30\\t31\\t80\\t82\\t110\\nexcelled\\t20\\t30\\t31\\t90\\t110\\nexcellence\\t30\\t31\\t110\\nexcellent\\t30\\t31\\t80\\t82\\t110\\nexcellently\\t30\\t31\\nexcelling\\t20\\t30\\t31\\t110\\nexcels\\t20\\t30\\t31\\t80\\t82\\t91\\t110\\nexcept\\t1\\t11\\t50\\t56\\nexception\\t50\\t56\\nexceptions\\t50\\t56\\nexchang*\\t113\\nexcite\\t20\\t30\\t31\\t80\\t84\\t91\\nexcited\\t21\\t30\\t31\\t80\\t84\\nexcitedly\\t30\\t31\\t80\\t84\\nexcitement\\t30\\t31\\t80\\t84\\nexcites\\t91\\nexciting\\t21\\t30\\t31\\t80\\t84\\nexclude\\t20\\t50\\t56\\t91\\nexcluded\\t50\\t56\\nexcludes\\t20\\t50\\t56\\t91\\nexcluding\\t1\\t11\\t50\\t56\\nexclusion*\\t50\\t56\\nexclusively\\t1\\t13\\t50\\t56\\nexcruciat*\\t30\\t32\\nexcus*\\t40\\nexec\\t80\\t83\\t110\\nexecution*\\t115\\nexecutive*\\t80\\t83\\t110\\nexercis*\\t70\\t72\\t111\\nexes\\t40\\nexgf*\\t40\\t42\\t43\\t120\\t122\\nexgirl*\\t40\\t42\\t43\\nexhaust*\\t30\\t32\\t70\\t72\\nexhusb*\\t40\\t41\\t44\\nexit*\\t100\\t102\\nexpand*\\t100\\t102\\nexpect*\\t50\\t53\\t92\\nexpel*\\t20\\nexpense\\t80\\t85\\t113\\nexpenses\\t80\\t85\\t113\\nexpensive\\t113\\nexperienc*\\t60\\nexperiment\\t50\\t52\\nexpert*\\t80\\t83\\nexpired\\t90\\nexplain\\t20\\t40\\t50\\t51\\t91\\nexplained\\t20\\t40\\t50\\t51\\t90\\nexplaining\\t20\\t40\\t50\\t51\\nexplains\\t20\\t40\\t50\\t51\\t91\\nexplanat*\\t50\\t51\\nexplicit*\\t50\\t55\\nexploit\\t80\\t83\\nexplor*\\t50\\t51\\t100\\t101\\nexpress*\\t40\\t70\\t74\\t111\\nexterior*\\t100\\t102\\nexterminat*\\t115\\nextra\\t21\\t25\\nextreme\\t21\\nextremely\\t1\\t13\\t50\\t55\\nexwife*\\t40\\t41\\t43\\nexwive*\\t40\\t41\\t43\\neye*\\t20\\t60\\t61\\t70\\t71\\neying\\t20\\t60\\t61\\nfab\\t30\\t31\\t120\\nfabulous\\t21\\t30\\t31\\nfabulously\\t30\\t31\\nfabulousness\\t30\\t31\\nface\\t70\\t71\\nfacebook\\t40\\t80\\t81\\t111\\nfaces\\t70\\t71\\nfacial*\\t70\\t71\\nfact\\t50\\t55\\nfaction\\t80\\t81\\nfactor\\t50\\t52\\nfactories\\t110\\nfactory\\t110\\nfacts\\t50\\t55\\nfactual*\\t50\\t55\\nfacult*\\t110\\nfade*\\t100\\t103\\nfading*\\t100\\t103\\nfag\\t120\\t121\\nfaggot*\\t120\\t121\\nfaggy\\t120\\t121\\nfail*\\t30\\t32\\t35\\t80\\t82\\t83\\t85\\t110\\nfaint*\\t70\\t72\\nfair\\t21\\t30\\t31\\nfairer\\t21\\t22\\t30\\t31\\nfairest\\t21\\t22\\t30\\t31\\nfairly\\t50\\t54\\nfaith*\\t30\\t31\\t114\\nfake\\t21\\t30\\t32\\nfall\\t100\\t101\\nfallen\\t90\\t100\\t101\\nfalling\\t100\\t101\\nfalls\\t100\\t101\\nfam\\t40\\t41\\t80\\t81\\t120\\t122\\nfame\\t80\\t83\\nfamiliar\\t21\\nfamilies\\t40\\t41\\t80\\t81\\t111\\t112\\nfamily\\t40\\t41\\t80\\t81\\t111\\t112\\nfamous\\t80\\t83\\nfamously\\t80\\t83\\nfantasi*\\t30\\t31\\t111\\nfantastic\\t21\\t30\\t31\\nfantastical\\t21\\t30\\t31\\nfantastically\\t30\\t31\\nfantasy\\t30\\t31\\t111\\nfar\\t21\\t100\\t102\\nfarewell\\t40\\nfarsighted\\t21\\t70\\t72\\nfarther\\t21\\t22\\t100\\t102\\nfarthest\\t21\\t22\\t100\\t102\\nfast\\t100\\t101\\t103\\nfaster\\t21\\t22\\t100\\t101\\t103\\nfastest\\t21\\t22\\t100\\t101\\t103\\nfat\\t21\\t70\\t71\\t72\\t74\\nfatal*\\t30\\t32\\t115\\nfate\\t92\\nfated\\t92\\nfates\\t92\\nfather*\\t40\\t41\\t44\\nfatigu*\\t30\\t32\\t35\\t70\\t72\\nfats\\t70\\t72\\t74\\nfatted\\t70\\t74\\nfatten*\\t70\\t71\\t72\\t74\\nfatter\\t21\\t22\\t70\\t71\\t72\\t74\\nfattest\\t21\\t22\\nfattier\\t21\\t22\\t70\\t71\\t74\\nfatties\\t70\\t71\\t72\\t120\\t121\\nfattiest\\t21\\t22\\t70\\t71\\t72\\t74\\nfatty\\t70\\t71\\t72\\t74\\nfault*\\t30\\t32\\t80\\t85\\nfav\\t21\\t30\\t31\\t120\\t122\\nfave\\t21\\t30\\t31\\nfavor\\t30\\t31\\nfavoring\\t20\\t30\\t31\\nfavorite\\t21\\t30\\t31\\nfavors\\t30\\t31\\nfavour*\\t30\\t31\\nfax*\\t110\\nfb\\t40\\t80\\t81\\t120\\t122\\nfear\\t30\\t32\\t33\\nfeared\\t30\\t32\\t33\\nfearful*\\t30\\t32\\t33\\nfearing\\t30\\t32\\t33\\nfearless*\\t30\\t31\\t80\\t84\\nfears\\t30\\t32\\t33\\nfeasible\\t21\\t50\\t54\\t92\\nfebruary\\t100\\t103\\nfed\\t20\\t70\\t74\\t90\\nfee\\t113\\nfeed\\t70\\t74\\nfeedback\\t110\\nfeeder*\\t70\\t74\\nfeeding*\\t70\\t74\\nfeeds\\t70\\t74\\nfeel\\t20\\t50\\t51\\t60\\t63\\t91\\nfeelin\\t60\\t63\\nfeeling\\t20\\t50\\t51\\t60\\t63\\nfeelings\\t50\\t51\\t60\\t63\\nfeels\\t20\\t50\\t51\\t60\\t63\\t91\\nfees\\t113\\nfeet\\t70\\t71\\nfell\\t20\\t90\\t100\\t101\\nfella\\t40\\t44\\nfellow\\t40\\t42\\t44\\nfellow's\\t40\\t42\\t44\\nfellows\\t40\\t42\\t44\\nfellowship*\\t40\\t80\\t81\\nfelt\\t20\\t50\\t51\\t60\\t63\\t90\\nfemale\\t21\\t40\\t43\\nfemales\\t40\\t43\\nfeminine\\t21\\t40\\t43\\nfemininity\\t40\\t43\\nfemme*\\t40\\t43\\nferoc*\\t30\\t32\\t34\\nfestiv*\\t30\\t31\\t111\\nfetid*\\t60\\nfetish*\\t70\\t73\\nfeud*\\t30\\t32\\t34\\t40\\nfever*\\t70\\t72\\nfew\\t21\\t25\\nfewer\\t21\\t22\\t25\\nfewest\\t21\\t22\\t25\\nfiance\\t40\\t41\\t42\\t44\\t80\\t81\\nfiance's\\t40\\t41\\t42\\t44\\t80\\t81\\nfiancee*\\t40\\t41\\t42\\t43\\t80\\t81\\nfiances\\t40\\t42\\t80\\t81\\nfiery\\t21\\t30\\t32\\t34\\nfiesta*\\t30\\t31\\t111\\nfift*\\t24\\nfight*\\t30\\t32\\t34\\t40\\nfigur*\\t50\\t51\\nfill*\\t100\\t102\\nfilm*\\t111\\nfinal\\t21\\t100\\t103\\nfinale\\t100\\t103\\nfinaliz*\\t80\\t82\\t110\\nfinally\\t1\\t13\\t100\\t103\\nfinals\\t110\\nfinanc*\\t110\\t113\\nfind\\t20\\t50\\t51\\t91\\nfinding\\t50\\t51\\nfindings\\t50\\t51\\nfinds\\t20\\t50\\t51\\nfine\\t21\\t30\\t31\\nfiner\\t21\\t22\\t30\\t31\\nfinest\\t21\\t22\\t30\\t31\\nfinger*\\t60\\t63\\t70\\t71\\nfinish\\t20\\t100\\t103\\nfinished\\t20\\t90\\nfinishes\\t20\\t91\\t100\\t103\\nfinishing\\t20\\t100\\t103\\nfinna\\t92\\t120\\t122\\nfire\\t60\\t63\\nfired\\t30\\t32\\t110\\nfireplace*\\t112\\nfiring\\t110\\nfirst\\t24\\t80\\t82\\t100\\t103\\nfirst-class\\t80\\t83\\nfirstly\\t24\\t100\\t103\\nfirsts\\t24\\t80\\t82\\t100\\t103\\nfishing\\t111\\nfit\\t100\\t102\\nfitness*\\t70\\t72\\t111\\nfive\\t24\\nfixin\\t92\\nfixin'\\t92\\nfizz*\\t60\\nflapping\\t60\\t62\\t100\\t101\\nflat\\t21\\t100\\t102\\nflatscreen*\\t111\\nflatter*\\t30\\t31\\t40\\nflavor*\\t60\\nflavour*\\t60\\nflawless*\\t30\\t31\\nfled\\t20\\t80\\t85\\t90\\t100\\t101\\nflee\\t20\\t80\\t85\\t100\\t101\\nfleeing\\t20\\t80\\t85\\t100\\t101\\nflees\\t20\\t80\\t85\\t100\\t101\\nflesh*\\t70\\t71\\nflew\\t20\\t90\\t100\\t101\\nflexib*\\t30\\t31\\t60\\t63\\nflies\\t100\\t101\\nflight*\\t100\\t101\\nflirt\\t30\\t31\\t40\\t80\\t81\\nflirtatious\\t21\\t30\\t31\\t40\\t80\\t81\\nflirted\\t20\\t40\\t80\\t81\\t90\\nflirting\\t20\\t30\\t31\\t40\\t80\\t81\\nflirts\\t20\\t30\\t31\\t40\\t80\\t81\\t91\\nflirty\\t21\\t30\\t31\\t40\\t80\\t81\\nfloor*\\t100\\t102\\nflow\\t91\\t100\\t101\\nflowed\\t20\\t90\\t100\\t101\\nflowing\\t100\\t101\\nflown\\t20\\t90\\t100\\t101\\nflows\\t20\\t91\\t100\\t101\\nflu\\t70\\t72\\nflunk*\\t30\\t32\\t35\\t80\\t82\\t85\\nflutter\\t100\\t101\\nfly\\t20\\t100\\t101\\nflying\\t100\\t101\\nfml\\t120\\t121\\t122\\nfoe*\\t30\\t32\\t34\\t40\\nfolks\\t40\\t41\\nfollow\\t20\\t91\\t100\\t101\\nfollowed\\t20\\t90\\t100\\t101\\nfollower*\\t40\\t42\\t80\\t83\\nfollowing\\t20\\t100\\t101\\nfollows\\t20\\t91\\t100\\t101\\nfollowup*\\t100\\t103\\nfomo\\t120\\t122\\nfond\\t21\\t30\\t31\\nfondly\\t30\\t31\\nfondness\\t30\\t31\\nfood*\\t70\\t74\\nfool\\t30\\t32\\t40\\nfooled\\t30\\t32\\t40\\t90\\nfooling\\t20\\t30\\t32\\t40\\nfoolish\\t21\\t30\\t32\\nfoolishly\\t21\\t30\\t32\\nfools\\t30\\t32\\t40\\nfoot\\t70\\t71\\nfootball*\\t111\\nfor\\t1\\t11\\nforbade\\t30\\t32\\t80\\t83\\nforbid\\t20\\t30\\t32\\t80\\t83\\t91\\nforbidden\\t21\\t30\\t32\\t80\\t83\\nforbidding\\t30\\t32\\nforbids\\t20\\t30\\t32\\t80\\t83\\t91\\nforbod*\\t92\\nforce*\\t50\\t52\\t80\\t83\\nforearm*\\t70\\t71\\nforehead*\\t70\\t71\\nforeplay\\t70\\t73\\nforesee*\\t92\\nforeshadow*\\t92\\nforesight\\t92\\nforever\\t50\\t55\\t100\\t103\\nforgave\\t30\\t31\\t40\\t50\\t51\\nforget\\t20\\t91\\nforgets\\t20\\t91\\nforgetting\\t20\\nforgiv*\\t30\\t31\\t40\\t50\\t51\\nforgot*\\t20\\t90\\nformal\\t40\\nformer\\t21\\t22\\t90\\t100\\t103\\nformerly\\t21\\t22\\t90\\t100\\t103\\nforseeable\\t21\\t92\\nforthcoming\\t21\\t92\\nfortunately\\t1\\t13\\t30\\t31\\nfortune*\\t113\\nforward\\t100\\t101\\t102\\t103\\nforwarded\\t40\\t90\\t100\\t101\\t102\\t103\\nforwarding\\t100\\t101\\t102\\t103\\nforwards\\t100\\t101\\t102\\t103\\nfought\\t20\\t30\\t32\\t34\\t40\\t90\\nfound\\t20\\t50\\t51\\t90\\nfoundation*\\t100\\t102\\t110\\nfounded\\t50\\t52\\t80\\t82\\t90\\nfounder*\\t80\\t82\\nfounding\\t80\\t82\\nfour*\\t24\\nfragil*\\t60\\t63\\nfragran*\\t60\\nfrail*\\t60\\t63\\t80\\t83\\nfranc\\t113\\nfranchis*\\t110\\t113\\nfrancs\\t113\\nfrankly\\t50\\t55\\nfrantic*\\t30\\t32\\t33\\nfrat\\t80\\t81\\t110\\nfraternit*\\t80\\t81\\nfreak*\\t30\\t32\\t120\\t121\\nfree\\t21\\t30\\t31\\t113\\nfree-think*\\t30\\t31\\nfreed*\\t30\\t31\\nfreeing\\t30\\t31\\nfreely\\t30\\t31\\nfrees*\\t30\\t31\\nfreethink*\\t30\\t31\\nfreez*\\t60\\t63\\nfrenem*\\t40\\t120\\t122\\nfrequent\\t21\\t100\\t103\\nfrequented\\t20\\t90\\t100\\t103\\nfrequenting\\t20\\t100\\t103\\nfrequently\\t1\\t13\\t100\\t103\\nfrequents\\t20\\t91\\t100\\t103\\nfresh\\t21\\nfresher\\t21\\t22\\nfreshest\\t21\\t22\\nfreshm*\\t80\\t83\\t110\\nfri\\t100\\t103\\nfriday*\\t100\\t103\\nfridge*\\t112\\nfriend\\t40\\t42\\t80\\t81\\nfriendlier\\t21\\t22\\t30\\t40\\t42\\nfriendliest\\t21\\t22\\t30\\t40\\t42\\nfriendly\\t30\\t40\\t42\\t80\\t81\\nfriends\\t40\\t42\\t80\\t81\\nfries\\t70\\t74\\nfriggin\\t120\\t121\\nfriggin'\\t120\\t121\\nfrigging\\t120\\t121\\nfright*\\t30\\t32\\t33\\nfrisbee*\\t111\\nfrom\\t1\\t11\\nfront\\t100\\t102\\nfroze*\\t60\\t63\\nfruit*\\t60\\t70\\t74\\nfrustrat*\\t30\\t32\\t34\\nfry*\\t70\\t74\\nftw\\t120\\t122\\nfu\\t120\\t121\\t122\\nfuck\\t20\\t30\\t32\\t34\\t70\\t73\\t91\\t120\\t121\\nfuckboy*\\t70\\t73\\t120\\t121\\nfucked*\\t20\\t30\\t32\\t34\\t70\\t73\\t90\\t120\\t121\\nfucker*\\t30\\t32\\t34\\t120\\t121\\nfuckface*\\t30\\t32\\t34\\t120\\t121\\nfuckh*\\t30\\t32\\t34\\t120\\t121\\nfuckin*\\t21\\t30\\t32\\t34\\t70\\t73\\t120\\t121\\nfucks\\t20\\t30\\t32\\t34\\t70\\t73\\t91\\t120\\t121\\nfucktard\\t30\\t32\\t34\\t120\\t121\\nfucktoy*\\t70\\t73\\nfucktwat*\\t30\\t32\\t34\\t120\\t121\\nfuckwad*\\t30\\t32\\t34\\t120\\t121\\nfulfill*\\t80\\t82\\t84\\nfull\\t21\\t100\\t102\\nfuller\\t21\\t22\\t100\\t102\\nfullest\\t21\\t22\\t100\\t102\\nfullness\\t100\\t102\\nfully\\t1\\t13\\t100\\t102\\nfume*\\t30\\t32\\t34\\nfuming\\t30\\t32\\t34\\nfun\\t21\\t30\\t31\\t111\\nfund\\t113\\nfundamental\\t21\\t50\\t55\\nfundamentalis*\\t50\\t55\\t114\\nfundamentally\\t50\\t55\\nfundamentals\\t50\\t55\\nfunded\\t90\\t113\\nfunding\\t113\\nfunds\\t113\\nfuner*\\t115\\nfunner\\t21\\t22\\t30\\t31\\t111\\nfunnest\\t21\\t22\\t30\\t31\\t111\\nfunnier\\t21\\t22\\t30\\t31\\nfunnies\\t30\\t31\\t111\\nfunniest\\t21\\t22\\t30\\t31\\nfunnily\\t30\\t31\\nfunniness\\t30\\t31\\nfunny\\t21\\t30\\t31\\nfurious*\\t30\\t32\\t34\\nfurniture\\t112\\nfurther\\t21\\t22\\t100\\t102\\nfurthering\\t20\\t100\\t102\\nfurthest\\t21\\t22\\nfury\\t30\\t32\\t34\\nfuton*\\t112\\nfutur*\\t92\\t100\\t103\\nfuzz*\\t50\\t54\\t60\\t63\\nfwb\\t40\\t42\\t70\\t73\\t80\\t81\\t120\\t122\\nfyi\\t120\\ngain*\\t80\\t82\\t84\\ngal\\t40\\t43\\ngallop\\t100\\t101\\ngals\\t40\\t43\\ngambl*\\t113\\ngame*\\t40\\t80\\t81\\t111\\ngaming\\t111\\ngang\\t40\\t42\\t80\\t81\\ngangs\\t40\\t42\\t80\\t81\\ngap\\t100\\t102\\ngarage*\\t111\\t112\\ngarden*\\t111\\t112\\ngate*\\t100\\t102\\t112\\ngather*\\t40\\t80\\t81\\ngave\\t20\\t40\\t90\\ngay\\t21\\t70\\t73\\ngayer\\t21\\t22\\ngayest\\t21\\t22\\ngays\\t70\\t73\\ngaz*\\t60\\t61\\ngbp\\t113\\ngeek*\\t30\\t32\\t120\\t121\\ngeneral\\t21\\ngenerally\\t1\\t13\\t50\\t54\\ngenerate*\\t50\\t52\\ngenerating\\t50\\t52\\ngeneration*\\t100\\t103\\ngenerator*\\t50\\t52\\ngenero*\\t30\\t31\\t40\\ngenital*\\t70\\t71\\t73\\ngenocid*\\t115\\ngent\\t40\\t44\\ngentile*\\t114\\ngentle\\t21\\t30\\t31\\ngentlem*\\t40\\t44\\ngentler\\t21\\t22\\t30\\t31\\ngentlest\\t21\\t22\\t30\\t31\\ngentlewom*\\t40\\t43\\ngently\\t30\\t31\\ngents\\t40\\t44\\ngenuine\\t21\\t50\\t51\\ngenuinely\\t50\\t51\\ngesture*\\t100\\t101\\nget\\t20\\t80\\t84\\t91\\ngets\\t20\\t80\\t84\\t91\\ngetting\\t20\\t80\\t84\\ngf*\\t40\\t42\\t43\\t80\\t81\\t120\\t122\\ngg\\t120\\t122\\nghost*\\t115\\ngiant\\t21\\t100\\t102\\ngigantic\\t21\\t100\\t102\\ngiggl*\\t30\\t31\\ngigolo*\\t70\\t73\\nginormous\\t21\\t100\\t102\\ngirl\\t40\\t43\\ngirl's\\t40\\t43\\ngirlfriend*\\t40\\t42\\t80\\t81\\ngirlh*\\t40\\t43\\ngirli*\\t40\\t43\\ngirls*\\t40\\t43\\ngirly\\t21\\t40\\t43\\ngive\\t20\\t40\\t91\\ngiven\\t20\\t90\\ngiver*\\t30\\t31\\t40\\ngives\\t20\\t40\\t91\\ngiving\\t20\\t30\\t31\\t40\\nglad\\t21\\t30\\t31\\ngladly\\t30\\t31\\nglamor*\\t30\\t31\\nglamour*\\t30\\t31\\nglanc*\\t60\\t61\\ngland*\\t70\\t72\\nglaucoma\\t70\\t72\\nglide\\t100\\t101\\nglided\\t20\\t90\\nglides\\t20\\t91\\ngliding\\t20\\t100\\t101\\nglobal*\\t100\\t102\\ngloom\\t30\\t32\\t35\\t60\\t61\\ngloomier\\t21\\t22\\t30\\t32\\t35\\t60\\t61\\ngloomiest\\t21\\t22\\t30\\t32\\t35\\t60\\t61\\ngloomily\\t30\\t32\\t35\\t60\\t61\\ngloominess\\t30\\t32\\t35\\t60\\t61\\ngloomy\\t30\\t32\\t35\\t60\\t61\\nglori*\\t30\\t31\\t80\\t83\\nglory\\t30\\t31\\t80\\t82\\t83\\nglow*\\t60\\t61\\nglutton*\\t70\\t74\\ngmat\\t110\\ngn\\t120\\t122\\ngo\\t20\\t91\\t100\\t101\\ngoal*\\t80\\t82\\t84\\t110\\ngobble*\\t70\\t74\\ngobbling\\t70\\t74\\ngod\\t80\\t83\\t114\\ngod's\\t80\\t83\\t114\\ngoddam*\\t30\\t32\\t34\\t120\\t121\\ngoddess*\\t40\\t43\\t80\\t83\\t114\\ngodfather*\\t40\\t41\\t44\\ngodmother\\t40\\t41\\t43\\ngodparent\\t40\\t41\\ngoes\\t20\\t91\\t100\\t101\\ngoing\\t20\\t92\\t100\\t101\\ngolf*\\t111\\ngon\\t20\\t92\\t100\\t101\\t120\\t122\\ngone\\t20\\t90\\t100\\t101\\ngonna\\t20\\t92\\t100\\t101\\t120\\t122\\ngonorrhea*\\t70\\t72\\t73\\ngood\\t30\\t31\\t80\\t84\\ngood-for-nothing\\t21\\t30\\t32\\t80\\t83\\ngoodbye\\t40\\ngoodness\\t30\\t31\\ngoogled\\t20\\t90\\ngoogles\\t20\\t91\\ngoogling\\t20\\ngoosebump*\\t60\\t63\\t70\\t71\\ngorgeous\\t21\\t30\\t31\\ngorgeously\\t30\\t31\\ngorgeousness\\t30\\t31\\ngospel*\\t114\\ngossip*\\t30\\t32\\t40\\t80\\t81\\ngot\\t20\\t80\\t84\\t90\\ngotta\\t20\\t92\\t120\\t122\\ngotten\\t20\\t80\\t84\\t90\\ngov\\t110\\ngovern*\\t80\\t83\\t110\\ngpa\\t80\\t82\\t110\\ngrab*\\t20\\t60\\t63\\ngrace\\t30\\t31\\ngraced\\t30\\t31\\t90\\ngraceful*\\t30\\t31\\ngraces\\t30\\t31\\ngraci*\\t30\\t31\\ngrad\\t110\\ngrade*\\t110\\ngrading\\t110\\ngraduat*\\t110\\ngramp*\\t40\\t41\\t44\\ngrand\\t21\\t30\\t31\\ngrandchil*\\t40\\t41\\ngranddad*\\t40\\t41\\t44\\ngranddau*\\t40\\t41\\t43\\ngrande*\\t30\\t31\\ngrandfath*\\t40\\t41\\t44\\ngrandkid*\\t40\\t41\\ngrandm*\\t40\\t41\\t43\\ngrandpa*\\t40\\t41\\t44\\ngrandson*\\t40\\t41\\t44\\ngranny\\t40\\t41\\t43\\ngraphic*\\t60\\t61\\ngrasp*\\t50\\t51\\t60\\t63\\ngratef*\\t30\\t31\\ngrati*\\t30\\t31\\ngrave*\\t30\\t32\\t35\\t115\\ngravitate*\\t20\\t100\\t101\\ngravitating\\t20\\ngray\\t21\\t60\\t61\\ngre\\t110\\ngreas*\\t60\\ngreat\\t21\\t30\\t31\\t80\\t84\\ngreater\\t21\\t22\\t30\\t31\\ngreatest\\t21\\t22\\t30\\t31\\t80\\t83\\ngreatness\\t30\\t31\\t80\\t83\\ngreed*\\t30\\t32\\t34\\t80\\t83\\t84\\t113\\ngreen\\t21\\t60\\t61\\ngreet*\\t40\\t80\\t81\\ngrew\\t20\\t90\\t100\\t101\\ngrey\\t21\\t60\\t61\\ngrief\\t30\\t32\\t35\\t115\\ngriev*\\t30\\t32\\t35\\t115\\ngrim\\t21\\t30\\t32\\t35\\ngrimac*\\t30\\t32\\ngrimly\\t30\\t32\\t35\\ngrin\\t30\\t31\\ngrinn*\\t30\\t31\\ngrins\\t30\\t31\\ngrip\\t60\\t63\\ngripp*\\t60\\t63\\ngrips\\t60\\t63\\ngrl*\\t40\\t43\\t120\\t122\\ngrocer*\\t70\\t74\\ngroom'*\\t40\\t44\\ngross\\t21\\t30\\t32\\ngrossed\\t30\\t32\\t90\\ngrosser\\t21\\t22\\t30\\t32\\ngrossest\\t21\\t22\\t30\\t32\\ngrossing\\t20\\t30\\t32\\ngrossly\\t30\\t32\\ngrossness\\t30\\t32\\ngrouch*\\t30\\t32\\t34\\nground*\\t100\\t102\\ngroup*\\t25\\t40\\t80\\t81\\ngrow\\t20\\t91\\t100\\t101\\ngrowing\\t20\\t100\\t101\\ngrown\\t90\\t100\\t101\\ngrown-up*\\t40\\t80\\t83\\ngrownup*\\t40\\t80\\t83\\ngrowth\\t100\\t101\\ngrr*\\t30\\t32\\t34\\ngrudg*\\t30\\t32\\t34\\t40\\nguarant*\\t50\\t55\\nguard*\\t80\\t85\\nguess\\t20\\t50\\t54\\t91\\nguessed\\t20\\t50\\t54\\t90\\nguesses\\t20\\t50\\t54\\t91\\nguessing\\t20\\t50\\t54\\nguest*\\t40\\t42\\nguild*\\t80\\t81\\nguilt\\t30\\t32\\t33\\nguilt-trip*\\t30\\t32\\t33\\nguiltier\\t21\\t22\\t30\\t32\\nguiltiest\\t21\\t22\\t30\\t32\\nguilty\\t21\\t30\\t32\\t33\\nguitar*\\t111\\ngulp*\\t70\\t74\\ngums\\t70\\t71\\ngunna\\t1\\t12\\t20\\t92\\t120\\t122\\ngurl*\\t40\\t43\\t120\\t122\\ngut\\t70\\t71\\nguts\\t70\\t71\\nguy*\\t40\\t42\\t44\\ngym*\\t111\\ngynecolog*\\t70\\t72\\ngyno*\\t70\\t72\\nha\\t30\\t31\\t120\\t122\\nhad\\t1\\t12\\t20\\t90\\nhadn't\\t1\\t12\\t15\\t20\\t90\\nhadnt\\t1\\t12\\t15\\t20\\t90\\nhah\\t30\\t31\\t120\\t122\\nhaha*\\t30\\t31\\t120\\t122\\nhai\\t80\\t81\\t120\\t122\\nhaircut\\t60\\t70\\t71\\nhairless*\\t60\\t63\\t70\\t71\\nhairs\\t60\\t63\\t70\\t71\\nhairy\\t21\\t60\\t63\\t70\\t71\\nhalf\\t24\\nhalf-ass*\\t50\\t54\\t120\\t121\\nhalfass*\\t50\\t54\\t120\\t121\\nhall\\t100\\t102\\nhallucinat*\\t60\\t70\\t72\\nhamstring*\\t70\\t71\\nhand\\t60\\t63\\t70\\t71\\nhandful*\\t60\\t63\\nhands\\t60\\t63\\t70\\t71\\nhandshake\\t40\\t80\\t81\\nhandsome\\t21\\t30\\t31\\nhandsomely\\t30\\t31\\nhandsomest\\t21\\t22\\t30\\t31\\nhang\\t20\\t91\\t100\\t101\\nhanged\\t115\\nhangin*\\t111\\nhangout*\\t40\\t80\\t81\\t111\\nhangover*\\t30\\t32\\t70\\t72\\nhappen\\t20\\t91\\nhappened\\t20\\t90\\nhappening\\t20\\t100\\t103\\nhappens\\t20\\t91\\nhappier\\t21\\t22\\t30\\t31\\nhappiest\\t21\\t22\\t30\\t31\\nhappily\\t30\\t31\\nhappiness\\t30\\t31\\nhappy\\t21\\t30\\t31\\nharass*\\t30\\t32\\t34\\nhard\\t21\\t60\\t63\\nhard-on*\\t70\\t73\\nharden\\t60\\t63\\nharder\\t21\\t22\\t60\\t63\\nhardest\\t21\\t22\\t60\\t63\\nhardly\\t1\\t13\\t50\\t54\\nhardwork*\\t110\\nharm\\t30\\t32\\nharmed\\t30\\t32\\t90\\nharmful\\t21\\t30\\t32\\nharmfully\\t30\\t32\\nharmfulness\\t30\\t32\\nharming\\t20\\t30\\t32\\nharmless*\\t30\\nharmon*\\t30\\t31\\t60\\t62\\nharms\\t20\\t30\\t32\\t91\\nharsh\\t30\\t32\\t60\\t63\\nhas\\t1\\t12\\t20\\t91\\nhashanah\\t114\\nhashtag\\t120\\t122\\nhasn't\\t1\\t12\\t15\\t20\\t50\\t56\\t91\\nhasnt\\t1\\t12\\t15\\t20\\t50\\t56\\t91\\nhate\\t20\\t30\\t32\\t34\\t91\\nhated\\t20\\t30\\t32\\t34\\t90\\nhateful*\\t30\\t32\\t34\\nhater*\\t30\\t32\\t34\\t120\\nhates\\t20\\t30\\t32\\t34\\t91\\nhating\\t20\\t30\\t32\\t34\\nhatred\\t30\\t32\\t34\\nhaunted\\t21\\t30\\t32\\nhave\\t1\\t12\\t20\\t91\\nhaven't\\t1\\t12\\t15\\t20\\t50\\t56\\t91\\nhavent\\t1\\t12\\t15\\t20\\t50\\t56\\t91\\nhaving\\t1\\t12\\t20\\nhazard*\\t30\\t32\\t80\\t85\\nhazy\\t21\\t30\\t50\\t54\\t60\\t61\\nhbo\\t111\\nhe\\t1\\t2\\t3\\t7\\t40\\t44\\nhe'd\\t1\\t2\\t3\\t7\\t12\\t20\\t40\\t44\\nhe'll\\t20\\t40\\t44\\t92\\nhe's\\t1\\t2\\t3\\t7\\t12\\t20\\t40\\t44\\t91\\nhe-*\\t40\\t44\\nhead\\t70\\t71\\nheadache*\\t70\\t72\\nheaded\\t100\\t101\\nheadhunter*\\t110\\nheadin*\\t20\\t92\\t100\\t101\\nheads\\t70\\t71\\nheal\\t20\\t30\\t31\\t70\\t72\\t91\\nhealed\\t20\\t30\\t31\\t70\\t72\\t90\\nhealer*\\t30\\t31\\t70\\t72\\nhealing\\t20\\t30\\t31\\t70\\t72\\nheals\\t20\\t30\\t31\\t70\\t72\\t91\\nhealth\\t70\\t72\\nhealthful\\t21\\t70\\t72\\nhealthier\\t21\\t22\\t70\\t72\\nhealthiest\\t21\\t22\\t70\\t72\\nhealthily\\t70\\t72\\nhealthy\\t21\\t30\\t31\\nhear\\t20\\t40\\t60\\t62\\t91\\nheard\\t20\\t40\\t60\\t62\\t90\\nhearing\\t40\\t60\\t62\\nhears\\t20\\t40\\t60\\t62\\t91\\nhearse*\\t115\\nheart\\t70\\t71\\nheartbreak*\\t30\\t32\\t35\\nheartbroke*\\t30\\t32\\t35\\nheartburn*\\t70\\t72\\nheartfelt\\t21\\t30\\t31\\nheartless*\\t30\\t32\\t34\\nhearts\\t70\\t71\\nheartwarm*\\t30\\t31\\nheaven*\\t30\\t31\\t114\\nheavie*\\t21\\t22\\t60\\t63\\nheavy\\t21\\t60\\t63\\nheck\\t120\\t121\\nheed\\t20\\t50\\t51\\t91\\nheeded\\t20\\t50\\t51\\t90\\nheel*\\t70\\t71\\nheh*\\t30\\t31\\t120\\t122\\nheight*\\t100\\t102\\nheld\\t20\\t90\\nhell\\t30\\t32\\t34\\t114\\t120\\t121\\nhella\\t120\\t121\\t122\\nhellish\\t21\\t30\\t32\\t34\\t114\\nhello*\\t40\\t80\\t81\\nhells\\t114\\nhelp\\t40\\t80\\t81\\t83\\nhelped\\t20\\t90\\nhelper*\\t30\\t31\\t40\\t80\\t83\\nhelpful\\t21\\t30\\t31\\t40\\t80\\t81\\nhelpfully\\t30\\t31\\t40\\nhelpfulness\\t30\\t31\\t40\\t80\\t81\\nhelping\\t30\\t31\\t40\\nhelpings\\t70\\t74\\nhelpless*\\t30\\t32\\t35\\t80\\t83\\nhelps\\t20\\t30\\t31\\t40\\t80\\t81\\t91\\nhemor*\\t70\\t72\\nhence\\t1\\t13\\t50\\t52\\nhenceforth\\t1\\t13\\t92\\nher\\t1\\t2\\t3\\t7\\t40\\t43\\nhere\\t1\\t13\\nhere's\\t1\\t13\\t20\\t91\\nhereafter\\t1\\t11\\nherein\\t1\\t13\\nheres\\t1\\t13\\t20\\t91\\nhereto*\\t1\\t13\\nhero\\t30\\t31\\nhero's\\t30\\t31\\nheroes\\t30\\t31\\nheroic*\\t30\\t31\\nheroine*\\t30\\t31\\t40\\t43\\nheroism\\t30\\t31\\nherpes\\t70\\t72\\nhers\\t1\\t2\\t3\\t7\\t40\\t43\\nherself\\t1\\t2\\t3\\t7\\t40\\t43\\nhes\\t1\\t2\\t3\\t7\\t12\\t20\\t40\\t44\\t91\\nhesita*\\t30\\t32\\t33\\t50\\t54\\t80\\t85\\nheterosexual*\\t70\\t73\\nhey\\t40\\t120\\nheyy*\\t120\\t122\\nhi\\t40\\t80\\t81\\nhiccup*\\t70\\t72\\nhid\\t80\\t85\\nhidden\\t21\\t60\\t61\\nhide\\t80\\t85\\nhides\\t80\\t85\\nhiding\\t80\\t85\\nhierarch*\\t80\\t83\\nhigh\\t21\\t80\\t83\\t100\\t102\\nhigh-ranking\\t21\\t80\\t83\\nhigher\\t21\\t22\\t80\\t83\\t100\\t102\\nhighest\\t21\\t22\\t80\\t83\\t100\\t102\\nhighness\\t80\\t83\\nhighschool*\\t110\\nhii*\\t120\\t122\\nhik*\\t100\\t101\\t111\\nhilarious\\t30\\t31\\nhim\\t1\\t2\\t3\\t7\\t40\\t44\\nhimself\\t1\\t2\\t3\\t7\\t40\\t44\\nhinder*\\t80\\t85\\nhindu*\\t114\\nhip\\t70\\t71\\nhiphop\\t111\\nhips\\t70\\t71\\nhipster\\t40\\nhire\\t110\\nhired\\t20\\t80\\t83\\t90\\t110\\nhires\\t110\\nhiring\\t20\\t110\\nhis\\t1\\t2\\t3\\t7\\t40\\t44\\nhissel*\\t1\\t2\\t3\\t7\\t40\\t44\\nhistor*\\t100\\t103\\nhit\\t20\\nhiv\\t70\\t72\\t73\\nhm*\\t120\\t122\\t124\\nhobb*\\t111\\nhobo*\\t80\\t83\\nhockey*\\t111\\nhoe\\t120\\t121\\nhoebag\\t120\\t121\\nhoes\\t120\\t121\\nhoho*\\t30\\t31\\nhole*\\t100\\t102\\nholiday*\\t111\\nholier\\t21\\t22\\t114\\nholiest\\t21\\t22\\t114\\nholla\\t120\\t122\\nholocaust*\\t115\\nholy\\t21\\t114\\nhome\\t112\\nhomeless*\\t80\\t83\\nhomemade\\t21\\nhomes\\t112\\nhomesick*\\t30\\t32\\t35\\t112\\nhomework*\\t110\\t112\\nhomie\\t40\\t42\\t80\\t81\\nhomo\\t70\\t73\\t120\\t121\\nhomocid*\\t115\\nhomos\\t70\\t73\\t120\\t121\\nhomosexual*\\t70\\t73\\nhonest\\t21\\t30\\t31\\nhonestly\\t30\\t31\\nhonesty\\t30\\t31\\nhoney\\t40\\t42\\t60\\nhoneymoon*\\t40\\t41\\t80\\t81\\nhonor*\\t30\\t31\\t80\\t82\\t83\\nhonour*\\t30\\t31\\t80\\t82\\t83\\nhooka*\\t111\\nhooker*\\t70\\t73\\nhookup*\\t80\\t81\\nhooray\\t30\\t31\\nhop\\t100\\t101\\nhope\\t20\\t30\\t31\\t50\\t53\\t54\\t91\\t92\\nhoped\\t20\\t30\\t31\\t50\\t53\\t54\\t90\\nhopeful\\t21\\t30\\t31\\t50\\t53\\t54\\t92\\nhopefully\\t1\\t13\\t30\\t31\\t50\\t53\\t54\\t92\\nhopeless*\\t30\\t32\\t35\\t80\\t83\\nhopes\\t20\\t30\\t31\\t50\\t53\\t54\\t91\\nhoping\\t20\\t30\\t31\\t50\\t53\\t54\\t92\\nhorizontal*\\t100\\t102\\nhormone*\\t70\\t72\\nhornie*\\t70\\t71\\t73\\nhorny\\t21\\t70\\t71\\t73\\nhorrible\\t21\\t30\\t32\\t33\\nhorribly\\t30\\t32\\t33\\nhorrid*\\t30\\t32\\t33\\nhorror*\\t30\\t32\\t33\\nhorseback\\t111\\nhorseshit*\\t120\\t121\\nhospital*\\t70\\t72\\nhostil*\\t30\\t32\\t34\\t40\\nhot\\t21\\t60\\t63\\nhotel*\\t111\\nhotter\\t21\\t22\\t60\\t63\\nhottest\\t21\\t22\\t60\\t63\\nhottie\\t40\\t42\\nhour*\\t100\\t103\\nhouse\\t112\\nhousehold*\\t112\\nhousehusband*\\t40\\t44\\t112\\nhouses\\t112\\nhousewi*\\t40\\t43\\t112\\nhousework\\t110\\t112\\nhousing\\t112\\nhow\\t1\\t13\\t14\\t23\\t50\\t52\\nhow'd\\t1\\t13\\t14\\t20\\t23\\t50\\t52\\nhow're\\t1\\t13\\t14\\t20\\t23\\t50\\t52\\t91\\nhow's\\t1\\t13\\t14\\t20\\t23\\t50\\t52\\t91\\nhowd\\t1\\t13\\t14\\t20\\t23\\t50\\t52\\t90\\nhowever\\t1\\t13\\t14\\t50\\t56\\nhowre\\t1\\t13\\t14\\t20\\t23\\t50\\t52\\t91\\nhows\\t1\\t13\\t14\\t20\\t23\\t50\\t52\\t91\\nhr\\t110\\nht\\t120\\t122\\nhubby\\t40\\t41\\t44\\t80\\t81\\nhug\\t30\\t31\\t40\\t80\\t81\\nhuge\\t80\\t83\\t100\\t102\\nhugely\\t100\\t102\\nhuger\\t21\\t22\\t80\\t83\\t100\\t102\\nhugest\\t21\\t22\\t80\\t83\\t100\\t102\\nhugg*\\t30\\t31\\t80\\t81\\nhugs\\t30\\t31\\t80\\t81\\nhuh\\t120\\t122\\t124\\nhulu\\t111\\nhuman*\\t40\\nhumble\\t80\\t83\\nhumbler\\t21\\t22\\t80\\t83\\nhumblest\\t21\\t22\\t80\\t83\\nhumiliat*\\t30\\t32\\t33\\t34\\t80\\t83\\nhumor*\\t30\\t31\\nhumour*\\t30\\t31\\nhump*\\t70\\t73\\nhundred*\\t24\\nhunger*\\t70\\t74\\nhungover\\t30\\t32\\t70\\t72\\nhungrier\\t21\\t22\\t70\\t74\\nhungriest\\t21\\t22\\t70\\t74\\nhungrily\\t70\\t74\\nhungry\\t70\\t74\\nhunting\\t111\\nhurra*\\t30\\t31\\nhurrie*\\t20\\t100\\t103\\nhurry*\\t100\\t103\\nhurt*\\t30\\t32\\t35\\t60\\t63\\nhusband*\\t40\\t41\\t44\\t80\\t81\\nhush*\\t60\\t62\\nhymn*\\t60\\t62\\t114\\nhyperten*\\t70\\t72\\nhypotherm*\\t70\\t72\\nhypothes*\\t50\\t54\\nhypothetic*\\t50\\t54\\ni\\t1\\t2\\t3\\t4\\ni'd\\t1\\t2\\t3\\t4\\t12\\t20\\ni'd've\\t1\\t2\\t3\\t4\\t90\\ni'll\\t1\\t2\\t3\\t4\\t12\\t20\\t92\\ni'm\\t1\\t2\\t3\\t4\\t12\\t20\\t91\\ni'mma\\t92\\ni've\\t1\\t2\\t3\\t4\\t12\\t20\\t91\\nibuprofen\\t70\\t72\\nicu\\t70\\t72\\nid\\t1\\t2\\t3\\t4\\t12\\t20\\nidc\\t1\\t2\\t3\\t4\\t120\\t122\\nidea\\t50\\t51\\nideal*\\t30\\t31\\t50\\t53\\t80\\t82\\nideas\\t50\\t51\\nidentical\\t21\\t22\\nidentif*\\t50\\t51\\nidgaf\\t1\\t2\\t3\\t4\\t120\\t121\\nidiot*\\t30\\t32\\t34\\t120\\t121\\nidk\\t1\\t2\\t3\\t4\\t15\\t120\\t122\\t125\\nidontknow\\t1\\t2\\t3\\t4\\t120\\t125\\nidve\\t1\\t2\\t3\\t4\\t90\\nif\\t1\\t14\\t50\\t53\\t54\\t56\\nignit*\\t50\\t52\\nignorable\\t30\\t32\\nignoramus\\t30\\t32\\t120\\t121\\nignorant\\t30\\t32\\t80\\t83\\nignore\\t20\\t30\\t32\\t91\\nignored\\t20\\t30\\t32\\t90\\nignores\\t20\\t30\\t32\\t91\\nignoring\\t20\\t30\\t32\\nikr\\t1\\t2\\t3\\t4\\t120\\t122\\nill\\t70\\t72\\nillness*\\t70\\t72\\nily*\\t1\\t2\\t3\\t4\\t6\\t30\\t31\\t120\\t122\\nim\\t1\\t2\\t3\\t4\\t12\\t20\\t91\\nima\\t1\\t2\\t3\\t4\\t92\\t120\\t122\\nimage*\\t60\\t61\\nimagin*\\t50\\t51\\nimam*\\t114\\nimean\\t1\\t2\\t3\\t4\\t120\\t125\\nimma\\t1\\t2\\t3\\t4\\t92\\t120\\t122\\nimmediate\\t100\\t103\\nimmediately\\t1\\t13\\t100\\t103\\nimmediateness\\t100\\t103\\nimminent\\t92\\nimmoral*\\t30\\t32\\t114\\nimmortal*\\t100\\t103\\t114\\t115\\nimmun*\\t70\\t72\\nimpatien*\\t30\\t32\\t33\\nimpending\\t92\\nimpersonal\\t30\\t32\\t40\\nimplica*\\t50\\t52\\nimplicit*\\t50\\t55\\nimplie*\\t50\\t52\\nimply*\\t50\\t52\\nimpolite*\\t30\\t32\\t40\\nimportance\\t30\\t31\\t80\\t82\\nimportant\\t30\\t31\\t80\\t83\\nimportantly\\t30\\t31\\nimpossible\\t21\\t50\\t53\\nimpress*\\t30\\t31\\t40\\nimprove*\\t30\\t31\\t80\\t82\\nimproving\\t30\\t31\\t80\\t82\\nin\\t1\\t11\\t100\\t102\\nin-law*\\t40\\t41\\ninadequa*\\t30\\t32\\t33\\t35\\t50\\t53\\t80\\t82\\ninaudibl*\\t60\\t62\\ninc\\t110\\nincapab*\\t80\\t82\\t83\\nincentive*\\t30\\t31\\t80\\t82\\nincest*\\t70\\t73\\ninch*\\t100\\t102\\ninciden*\\t100\\t103\\ninclude\\t91\\nincluded\\t90\\nincludes\\t91\\nincluding\\t1\\t11\\nincome*\\t110\\t113\\nincompeten*\\t30\\t32\\t80\\t82\\t83\\nincomplet*\\t50\\t54\\nincorp*\\t110\\nincreas*\\t100\\t101\\nincredible\\t21\\nindecis*\\t30\\t32\\t33\\t50\\t54\\nindeed\\t1\\t13\\t50\\t55\\t120\\t123\\nindefinit*\\t50\\t54\\nindepend*\\t50\\t52\\nindigestion\\t70\\t72\\nindirect*\\t50\\t54\\t100\\t102\\nindividual*\\t40\\ninduc*\\t50\\t51\\t52\\nindustr*\\t110\\nineffect*\\t30\\t32\\t80\\t82\\ninequal*\\t25\\t50\\t56\\ninevitab*\\t50\\t55\\ninexpensive\\t21\\t113\\ninfallib*\\t50\\t55\\t80\\t83\\ninfamous\\t80\\t83\\ninfant\\t40\\ninfant's\\t40\\ninfants*\\t40\\ninfect*\\t70\\t72\\ninfer\\t20\\t50\\t51\\t52\\t91\\ninferen*\\t50\\t51\\t52\\ninferior\\t21\\t30\\t32\\t35\\t80\\t83\\t100\\t102\\ninferiority\\t30\\t32\\t35\\t80\\t83\\ninferiors\\t80\\t83\\ninferr*\\t50\\t51\\t52\\ninfers\\t20\\t50\\t51\\t52\\t91\\ninfertil*\\t70\\t72\\ninfinit*\\t24\\t100\\t103\\ninflam*\\t70\\t72\\ninfluenc*\\t50\\t52\\t80\\t83\\ninfluential\\t21\\t80\\t83\\ninfo\\t50\\t51\\ninform\\t20\\t40\\t50\\t51\\t91\\ninformation\\t50\\t51\\ninformative*\\t50\\t51\\ninformed\\t20\\t40\\t50\\t51\\t90\\ninforming\\t20\\t40\\t50\\t51\\ninforms\\t20\\t40\\t50\\t51\\t91\\ninfrequent\\t21\\t100\\t103\\ningest*\\t70\\t72\\t74\\ninhal*\\t70\\t71\\ninherit*\\t113\\ninhibit*\\t30\\t32\\t33\\t80\\t85\\ninitial*\\t100\\t103\\ninitiat*\\t50\\t52\\t80\\t82\\t100\\t103\\ninjur*\\t70\\t71\\t72\\ninlaw*\\t40\\t41\\ninn\\t111\\ninner*\\t100\\t102\\ninnocen*\\t30\\t31\\ninns\\t111\\ninquir*\\t40\\t50\\t51\\ninsane\\t21\\ninsecur*\\t30\\t32\\t33\\t80\\t83\\ninside\\t1\\t11\\t100\\t102\\ninsides\\t1\\t11\\t100\\t102\\ninsight*\\t50\\t51\\ninsignificant\\t21\\t80\\t83\\ninsincer*\\t30\\t32\\ninsomnia*\\t70\\t72\\ninspector\\t80\\t83\\ninspir*\\t30\\t31\\t50\\t51\\ninstagram\\t40\\t80\\t81\\t111\\ninstan*\\t100\\t103\\ninstead\\t1\\t13\\t50\\t56\\ninstitut*\\t110\\ninstruct*\\t110\\ninsulin\\t70\\t72\\ninsult*\\t30\\t32\\t34\\t40\\ninsurance\\t113\\nintellect*\\t30\\t31\\nintelligence\\t30\\t31\\nintelligent\\t30\\t31\\nintend*\\t50\\t52\\nintent*\\t50\\t52\\ninteract*\\t40\\t80\\t81\\ninterest\\t30\\t31\\ninterested\\t30\\t31\\ninteresting\\t30\\t31\\ninterests\\t30\\t31\\ninterior*\\t100\\t102\\nintern\\t80\\t83\\ninternal\\t100\\t102\\ninternally\\t100\\t102\\ninternation*\\t100\\t102\\ninterpersonal*\\t40\\ninterpret*\\t50\\t51\\ninterrup*\\t30\\t32\\t34\\t40\\nintersect*\\t100\\t102\\nintertwine\\t20\\t100\\t102\\nintertwined\\t100\\t102\\ninterval*\\t100\\t103\\ninterview*\\t40\\t110\\nintestin*\\t70\\t71\\nintimidat*\\t30\\t32\\t34\\ninto\\t1\\t11\\t100\\t102\\nintox*\\t70\\t72\\nintramural*\\t111\\ninvade\\t80\\t83\\t91\\ninvaded\\t20\\t90\\ninvader\\t80\\t83\\ninvades\\t20\\t80\\t83\\t91\\ninvading\\t20\\t80\\t83\\ninvariab*\\t50\\t55\\ninvasion\\t80\\t83\\ninventory\\t110\\ninvest*\\t110\\t113\\ninvigor*\\t30\\t31\\t80\\t84\\ninvolv*\\t40\\nipod*\\t111\\nironic\\t21\\nirrational*\\t30\\t32\\t33\\nirrefu*\\t50\\t55\\nirregularly\\t100\\t103\\nirresponsible*\\t80\\t82\\nirrita*\\t30\\t32\\t33\\nirs\\t113\\nis\\t1\\t12\\t20\\t91\\nislam*\\t114\\nisn't\\t1\\t12\\t15\\t20\\t50\\t56\\t91\\nisnt\\t1\\t12\\t15\\t20\\t50\\t56\\t91\\nisolat*\\t30\\t32\\t35\\nit\\t1\\t2\\t9\\nit'd\\t1\\t2\\t9\\t12\\t20\\nit'll\\t1\\t2\\t9\\t12\\t20\\t92\\nit's\\t1\\t2\\t9\\t12\\t20\\t91\\nitch*\\t60\\t63\\t70\\t71\\t72\\nitd\\t1\\t2\\t9\\t12\\t20\\nitll\\t1\\t2\\t9\\t12\\t20\\t92\\nits\\t1\\t2\\t9\\nitself\\t1\\t2\\t9\\nitune*\\t111\\niv\\t70\\t72\\nive\\t1\\t2\\t3\\t4\\t12\\t20\\t91\\nj/k\\t120\\t122\\njackass\\t120\\t121\\njackpot*\\t80\\t84\\t113\\njaded\\t30\\t32\\njanuary\\t100\\t103\\njaw*\\t70\\t71\\njazz*\\t111\\njd\\t80\\t83\\t110\\njealous\\t30\\t32\\t34\\njealousies\\t30\\t32\\t34\\njealously\\t30\\t32\\t34\\njealousy\\t30\\t32\\t34\\njeez\\t120\\t121\\njerk\\t30\\t32\\t34\\njerked\\t30\\t32\\t34\\njerks\\t30\\t32\\t34\\njesuit*\\t114\\njesus*\\t114\\njew\\t114\\njewish*\\t114\\njews\\t114\\njihad*\\t114\\njism\\t70\\t73\\njissom\\t70\\t73\\njizz*\\t70\\t73\\njk\\t120\\t122\\njob*\\t110\\njog*\\t100\\t101\\t111\\njoin\\t20\\t80\\t81\\t91\\njoined\\t20\\t80\\t81\\t90\\njoining\\t20\\t80\\t81\\njoins\\t80\\t81\\njoints\\t70\\t71\\njoke*\\t30\\t31\\t111\\njoking\\t30\\t31\\t111\\njolly\\t30\\t31\\njourney*\\t100\\t101\\njoy*\\t30\\t31\\njuda*\\t114\\njudge\\t80\\t83\\njudged\\t80\\t83\\njudgement\\t80\\t83\\njudges\\t80\\t83\\njudging\\t80\\t83\\njuice*\\t70\\t74\\njuicy\\t60\\njuly\\t100\\t103\\njump\\t20\\t91\\t100\\t101\\njumped\\t20\\t90\\t100\\t101\\njumping\\t20\\t100\\t101\\njumps\\t20\\t91\\t100\\t101\\njune\\t100\\t103\\njunior*\\t80\\t83\\t110\\njus\\t1\\t13\\t50\\t56\\t120\\t122\\njuss\\t120\\t122\\njust\\t1\\t13\\njustice*\\t80\\t83\\njustif*\\t50\\t51\\t52\\njuz\\t1\\t13\\t120\\t122\\nk\\t120\\t122\\t123\\nkaraoke\\t111\\nkarma\\t114\\nkeen*\\t30\\t31\\nkeep\\t20\\t91\\nkeeps\\t20\\t91\\nkeg\\t111\\nkegger*\\t40\\t111\\nkegs\\t111\\nkept\\t20\\t90\\nkeyboard*\\t110\\nkick\\t20\\t91\\nkicked\\t20\\t90\\nkicking\\t20\\nkid\\t40\\t80\\t83\\nkid'*\\t40\\t80\\t83\\nkidding\\t30\\t31\\t40\\nkidney*\\t70\\t71\\nkids*\\t40\\nkik\\t40\\t120\\t122\\nkill*\\t30\\t32\\t34\\t115\\nkilometer*\\t100\\t102\\nkin\\t40\\t41\\t80\\t81\\nkind of\\t50\\t54\\nkind\\t30\\t31\\nkinda\\t50\\t54\\t120\\t122\\nkinderg*\\t110\\nkindly\\t30\\t31\\nkindn*\\t30\\t31\\nkindof\\t50\\t54\\nkindred\\t80\\t81\\nkinds\\t50\\t56\\nking\\t40\\t44\\t80\\t83\\nking's\\t40\\t44\\t80\\t83\\nkingl*\\t40\\t44\\t80\\t83\\nkingpin\\t80\\t83\\nkings\\t40\\t44\\t80\\t83\\nkinship\\t80\\t81\\nkippur\\t114\\nkiss*\\t30\\t31\\t80\\t81\\nkitchen*\\t70\\t74\\t112\\nkk\\t120\\t122\\t123\\nkm*\\t100\\t102\\nknee*\\t70\\t71\\nknew\\t20\\t50\\t51\\t90\\nknight*\\t40\\t44\\nknow\\t20\\t50\\t51\\t91\\nknowab*\\t50\\t51\\nknowing\\t20\\t50\\t51\\nknowledg*\\t50\\t51\\nknown\\t20\\t50\\t51\\t90\\nknows\\t20\\t50\\t51\\t91\\nknuckle*\\t70\\t71\\nkopek*\\t113\\nkoran\\t114\\nkosher\\t114\\nkrishna*\\t114\\nkrisna*\\t114\\nkron*\\t113\\nl8*\\t120\\t122\\nlabor*\\t110\\nlabour*\\t110\\nlack\\t20\\t50\\t53\\t80\\t85\\t91\\nlacked\\t50\\t53\\t80\\t85\\t90\\nlackey\\t80\\t83\\nlacking\\t20\\t50\\t53\\t80\\t85\\nlacks\\t20\\t50\\t53\\t80\\t85\\t91\\nlad\\t40\\t44\\nladies\\t40\\t43\\nlady\\t40\\t43\\nlady's\\t40\\t43\\nlaid\\t20\\t90\\nlaidback\\t30\\t31\\t111\\nlame\\t30\\t32\\t35\\nlamely\\t30\\t32\\t35\\nlameness\\t30\\t32\\t35\\nlamer\\t21\\t22\\t30\\t32\\t35\\nlamest\\t21\\t22\\t30\\t32\\t35\\nland\\t100\\t102\\nlandlord*\\t80\\t83\\t112\\nlanguage*\\t40\\nlapsed\\t90\\nlaptop*\\t110\\nlarge\\t21\\t80\\t83\\t100\\t102\\nlargely\\t100\\t102\\nlarger\\t21\\t22\\t80\\t83\\t100\\t102\\nlargest\\t21\\t22\\t80\\t83\\t100\\t102\\nlass\\t40\\t43\\nlassie\\t40\\t43\\nlast*\\t100\\t103\\nlate\\t21\\t100\\t103\\nlately\\t1\\t13\\t100\\t103\\nlater\\t21\\t22\\t100\\t103\\nlateral\\t100\\t102\\nlatest\\t21\\t22\\t100\\t103\\nlaugh*\\t30\\t31\\t60\\t62\\nlaunch*\\t50\\t52\\t100\\t101\\nlaundry\\t112\\nlaw*\\t80\\t83\\t110\\nlay\\t20\\t91\\nlaying\\t20\\nlayoff*\\t110\\nlays\\t20\\t91\\nlazier\\t21\\t22\\t30\\t32\\t80\\t82\\nlaziest\\t21\\t22\\t30\\t32\\t80\\t82\\nlazy\\t30\\t32\\t80\\t82\\nlead\\t50\\t52\\t80\\t82\\t83\\t100\\t101\\t110\\nleader*\\t40\\t80\\t82\\t83\\t110\\nleading\\t50\\t52\\t80\\t82\\t83\\t100\\t101\\t110\\nleads\\t50\\t52\\t80\\t82\\t83\\t100\\t101\\t110\\nleague*\\t80\\t81\\nlearn\\t20\\t50\\t51\\t91\\t110\\nlearned\\t20\\t50\\t51\\t90\\t110\\nlearner\\t50\\t51\\t110\\nlearners\\t50\\t51\\t110\\nlearning\\t20\\t50\\t51\\t110\\nlearns\\t20\\t50\\t51\\t91\\t110\\nlearnt\\t20\\t50\\t51\\t90\\t110\\nlease*\\t112\\t113\\nleasing*\\t112\\t113\\nleast\\t21\\t22\\t25\\nleather*\\t60\\t63\\nleave\\t20\\t91\\t100\\t101\\nleaves\\t100\\t101\\nleaving\\t20\\t100\\t101\\nlectur*\\t110\\nled\\t50\\t52\\t90\\t100\\t101\\nledge*\\t100\\t102\\nleft\\t20\\t90\\t100\\t102\\nleg\\t70\\t71\\nlegal\\t110\\nlegales*\\t110\\nlegalis*\\t110\\nlegalit*\\t110\\nlegaliz*\\t110\\nlegally\\t110\\nlegals\\t110\\nlegit\\t21\\t30\\t31\\nlegs*\\t70\\t71\\nlend\\t20\\t80\\t83\\t91\\t113\\nlender*\\t113\\nlending\\t20\\t80\\t83\\t113\\nlends\\t20\\t80\\t83\\t91\\t113\\nlength\\t100\\t102\\nlesbian*\\t40\\t43\\t70\\t73\\nless\\t21\\t22\\t25\\nlesson*\\t50\\t51\\t110\\nlet\\t1\\t12\\t20\\nlet's\\t1\\t2\\t3\\t5\\t20\\t40\\t80\\t81\\t91\\nlethal*\\t115\\nlets\\t1\\t2\\t3\\t5\\t20\\t40\\t80\\t81\\t91\\nletter\\t40\\nleuke*\\t70\\t72\\nlevel\\t100\\t102\\nlevels\\t100\\t102\\nliabilit*\\t30\\t32\\t50\\t53\\t80\\t85\\nliaison*\\t80\\t81\\nliar*\\t30\\t32\\t34\\t40\\nlibert*\\t30\\t31\\nlibid*\\t70\\t73\\nlibrar*\\t110\\nlick*\\t60\\nlied\\t20\\t30\\t32\\t34\\t90\\nlies\\t30\\t32\\t34\\nlife\\t70\\t72\\nlifetime*\\t100\\t103\\nlight\\t60\\t61\\nlighter\\t21\\t22\\nlightest\\t21\\t22\\nlights\\t60\\t61\\nto like\\t20\\t30\\t31\\t91\\n(i) like*\\t20\\t30\\t31\\t91\\n(you) like*\\t20\\t30\\t31\\t91\\n(we) like*\\t20\\t30\\t31\\t91\\n(they) like*\\t20\\t30\\t31\\t91\\n(do) like\\t30\\t31\\n(don't) like\\t30\\t31\\n(did) like\\t30\\t31\\n(didn't) like\\t30\\t31\\n(will) like\\t30\\t31\\n(won't) like\\t30\\t31\\n(does) like\\t30\\t31\\n(doesn't) like\\t30\\t31\\n(did not) like\\t30\\t31\\n(will not) like\\t30\\t31\\n(do not) like\\t30\\t31\\n(does not) like\\t30\\t31\\n(would not) like\\t30\\t31\\n(should not) like\\t30\\t31\\n(could not) like\\t30\\t31\\n(53) like*\\t30\\t31\\nlike\\t1\\t11\\t22\\nlike-mind*\\t80\\t81\\nlikeab*\\t30\\t31\\t40\\nliked\\t20\\t30\\t31\\t90\\nlikel*\\t50\\t54\\nlikes\\t20\\t30\\t31\\t91\\nliking\\t20\\t30\\t31\\nlil\\t21\\t80\\t83\\t100\\t102\\t120\\t122\\nlil'\\t80\\t83\\t100\\t102\\t120\\t122\\nlimit*\\t80\\t82\\nlimp*\\t60\\t63\\t70\\t71\\nlinear\\t100\\t102\\nlink*\\t50\\t51\\t100\\t102\\nlip\\t70\\t71\\nlips*\\t70\\t71\\nliquor*\\t70\\t74\\t111\\nlira\\t113\\nlisten\\t20\\t40\\t60\\t62\\t91\\nlistened\\t20\\t40\\t60\\t62\\t90\\nlistener*\\t40\\t60\\t62\\nlistening\\t20\\t40\\t60\\t62\\nlistens\\t20\\t40\\t60\\t62\\t91\\nlit\\t60\\t61\\t90\\nlittle\\t100\\t102\\nlittler\\t21\\t22\\t80\\t83\\t100\\t102\\nlittlest\\t21\\t22\\t80\\t83\\t100\\t102\\nlive\\t20\\t70\\t72\\t91\\nlived\\t20\\t70\\t72\\t90\\nlivel*\\t30\\t31\\t70\\t72\\nliver*\\t70\\t71\\nlives\\t20\\t70\\t72\\t91\\nliving\\t20\\t70\\t72\\nlmao*\\t30\\t31\\t120\\t121\\t122\\nlmfao*\\t30\\t31\\t120\\t121\\t122\\nloan*\\t80\\t83\\t113\\nlocal\\t100\\t102\\nlocale*\\t100\\t102\\nlocalis*\\t100\\t102\\nlocalit*\\t100\\t102\\nlocaliz*\\t100\\t102\\nlocally\\t100\\t102\\nlocals\\t40\\t100\\t102\\nlocat*\\t100\\t102\\nloft\\t112\\nlofts\\t112\\nlogic*\\t50\\t51\\nlol\\t30\\t31\\t120\\t122\\nlone\\t30\\t32\\t35\\nlonelier\\t21\\t22\\t30\\t32\\t35\\nloneliest\\t21\\t22\\t30\\t32\\t35\\nloneliness\\t30\\t32\\t35\\nlonely\\t30\\t32\\t35\\nloner*\\t30\\t32\\t35\\nlong\\t100\\t102\\nlonger\\t21\\t22\\t100\\t102\\nlongest\\t21\\t22\\t100\\t102\\nlongevity\\t100\\t103\\nlonging*\\t30\\t32\\t35\\nlongitud*\\t100\\t102\\nlook\\t20\\t60\\t61\\t91\\nlooked\\t20\\t60\\t61\\t90\\nlooker*\\t60\\t61\\nlooking\\t20\\t60\\t61\\nlooks\\t20\\t60\\t61\\t91\\nlooming\\t20\\t92\\nloose\\t21\\t60\\t63\\nloosed\\t60\\t63\\t90\\nloosely\\t60\\t63\\nloosen*\\t20\\t60\\t63\\nlooser\\t21\\t22\\t60\\t63\\nlooses\\t60\\t63\\nloosest\\t21\\t22\\t60\\t63\\nlord*\\t80\\t83\\t114\\nlose\\t20\\t30\\t32\\t35\\t80\\t82\\t85\\t91\\nloser*\\t30\\t32\\t35\\t80\\t82\\t83\\nloses\\t20\\t30\\t32\\t35\\t80\\t82\\t85\\t91\\nlosing\\t20\\t30\\t32\\t35\\t80\\t82\\t85\\nloss*\\t30\\t32\\t35\\t80\\t82\\t85\\nlost\\t20\\t30\\t32\\t35\\t80\\t82\\t90\\nlot\\t25\\t50\\t54\\nlotof\\t25\\t50\\t54\\nlots\\t25\\t50\\t54\\nlotsa\\t25\\t50\\t54\\nlotta\\t25\\t50\\t54\\nlotter*\\t113\\nloud\\t60\\t62\\nlouder\\t21\\t22\\t60\\t62\\nloudest\\t21\\t22\\t60\\t62\\nloudly\\t60\\t62\\nloudn*\\t60\\t62\\nlounge*\\t111\\nlous*\\t30\\t32\\nlove\\t30\\t31\\t40\\t70\\t80\\t81\\nloved\\t30\\t31\\t40\\t70\\t80\\t81\\nloveless\\t30\\t32\\t80\\t81\\nlovelier\\t21\\t22\\t30\\t31\\nloveliest\\t21\\t22\\t30\\t31\\nlovely\\t30\\t31\\nlover*\\t30\\t31\\t40\\t42\\t70\\t73\\t80\\t81\\nloves\\t30\\t31\\t40\\t70\\t80\\t81\\t91\\nloveseat*\\t112\\nloving*\\t30\\t31\\t40\\t80\\t81\\nlow\\t30\\t32\\t35\\t80\\t83\\t100\\t102\\nlower\\t21\\t22\\t30\\t32\\t35\\t80\\t83\\t100\\t102\\nlowered\\t20\\t30\\t32\\t35\\t80\\t83\\t90\\t100\\t102\\nlowering\\t20\\t30\\t32\\t35\\t80\\t83\\t100\\t102\\nlowers\\t20\\t30\\t32\\t35\\t80\\t83\\t91\\t100\\t102\\nlowest\\t21\\t22\\t30\\t32\\t35\\t80\\t83\\t100\\t102\\nlowli*\\t30\\t32\\t35\\t80\\t83\\t100\\t102\\nlowly\\t30\\t32\\t35\\t80\\t83\\t100\\t102\\nloyal\\t21\\t30\\t31\\t80\\t81\\nloyalt*\\t30\\t31\\t80\\t81\\nlozenge*\\t70\\t72\\nlsat\\t110\\nlsd\\t111\\nltd\\t110\\nluck\\t30\\t31\\t50\\t54\\t80\\t84\\nlucked\\t30\\t31\\t50\\t54\\t90\\nluckier\\t21\\t22\\t30\\t31\\t50\\t54\\nluckiest\\t21\\t22\\t30\\t31\\t50\\t54\\nluckily\\t30\\t31\\t50\\t54\\nluckless*\\t30\\t32\\nlucky\\t21\\t30\\t31\\t50\\t54\\t80\\t84\\nludicrous*\\t30\\t32\\t34\\nlump*\\t60\\t63\\t70\\t72\\nlunch*\\t70\\t74\\nlung\\t70\\t71\\nlunge*\\t100\\t101\\nlunging\\t100\\t101\\nlungs\\t70\\t71\\nlust*\\t70\\t73\\nlutheran*\\t114\\nluv\\t30\\t31\\t40\\t80\\t81\\t120\\t122\\nlying\\t20\\t30\\t32\\t34\\t40\\nlymph*\\t70\\t72\\nlynch*\\t115\\nma\\t40\\t41\\t43\\nma'am\\t40\\t43\\t80\\t83\\nma's\\t40\\t41\\t43\\nmaam\\t40\\t43\\t80\\t83\\nmad\\t30\\t32\\t34\\nmadam\\t40\\t43\\t80\\t83\\nmadame*\\t40\\t43\\t80\\t83\\nmaddening*\\t30\\t32\\t34\\nmadder\\t21\\t22\\t30\\t32\\t34\\nmaddest\\t21\\t22\\t30\\t32\\t34\\nmade\\t20\\t50\\t52\\t90\\nmademoiselle*\\t40\\t43\\nmagazine*\\t111\\nmagical\\t21\\nmagnific*\\t30\\t31\\nmaid\\t40\\t43\\t80\\t83\\t112\\nmaid's\\t40\\t43\\t80\\t83\\t112\\nmaiden\\t40\\t43\\nmaids\\t40\\t43\\t80\\t83\\t112\\nmail\\t40\\nmailbox\\t112\\nmailed\\t20\\t40\\t90\\nmailing\\t20\\t40\\nmailroom*\\t110\\nmails\\t20\\t40\\t91\\nmainly\\t50\\t54\\nmajoring\\t20\\t110\\nmajority\\t25\\nmajors\\t91\\t110\\nmake\\t20\\t50\\t52\\t91\\nmakeout*\\t70\\t73\\nmaker*\\t50\\t52\\nmakes\\t20\\t50\\t52\\t91\\nmaking\\t20\\t50\\t52\\nmale\\t40\\t44\\nmale's\\t40\\t44\\nmales\\t40\\t44\\nmall\\t111\\nmalls\\t111\\nmam\\t40\\t43\\t80\\t83\\nmama\\t40\\t41\\t43\\nmammogram*\\t70\\t72\\nman\\t40\\t44\\nman's\\t40\\t44\\nmanage\\t80\\t83\\t110\\nmanageabl*\\t80\\t83\\t110\\nmanaged\\t20\\t80\\t83\\t90\\t110\\nmanagement*\\t80\\t83\\t110\\nmanager*\\t80\\t83\\t110\\nmanages\\t20\\t80\\t83\\t91\\t110\\nmanaging\\t80\\t83\\t110\\nmaniac*\\t30\\t32\\t34\\nmanic-dep*\\t70\\t72\\nmanicdep*\\t70\\t72\\nmanipulat*\\t50\\t52\\t80\\t83\\nmanly\\t40\\t44\\nmanners\\t40\\nmanslaughter*\\t115\\nmanufact*\\t110\\nmany\\t25\\nmap\\t100\\t102\\nmapped\\t20\\t90\\t100\\t102\\nmapping\\t20\\t100\\t102\\nmaps\\t100\\t102\\nmarathon*\\t111\\nmarch*\\t100\\t103\\nmargarita*\\t70\\t74\\t111\\nmarginal*\\t50\\t54\\nmarijuana*\\t111\\nmarket*\\t110\\t113\\nmarriag*\\t40\\t41\\t80\\t81\\nmarrie*\\t40\\t41\\t80\\t81\\nmarry\\t40\\t41\\t80\\t81\\nmartini*\\t70\\t74\\t111\\nmasculine\\t21\\t40\\t44\\nmasculinity\\t40\\t44\\nmasochis*\\t30\\t32\\nmass\\t100\\t102\\nmassacre*\\t115\\nmassive\\t21\\t80\\t83\\t100\\t102\\nmaster\\t80\\t83\\nmastercard*\\t113\\nmastered\\t20\\t80\\t82\\t83\\t90\\nmasterful\\t80\\t83\\nmastering\\t20\\t80\\t83\\nmastermind\\t80\\t83\\nmasters\\t80\\t83\\t110\\nmastery\\t80\\t82\\t83\\nmasturb*\\t70\\t73\\nmate\\t40\\t42\\t80\\t81\\nmate's\\t40\\t42\\t80\\t81\\nmated\\t20\\t70\\t73\\t80\\t81\\t90\\nmaternal*\\t21\\t40\\t41\\t43\\nmaternity\\t40\\t41\\t43\\t70\\t72\\nmates\\t40\\t42\\t80\\t81\\nmath*\\t110\\nmating\\t20\\t40\\t70\\t73\\t80\\t81\\nmatriarch*\\t40\\t43\\t80\\t83\\nmattress*\\t112\\nmature\\t21\\t70\\nmausoleum*\\t115\\nmay\\t1\\t12\\t20\\t50\\t54\\t92\\nmaybe\\t1\\t13\\t50\\t54\\nmcat\\t110\\nme\\t1\\t2\\t3\\t4\\nmeal*\\t70\\t74\\nmean\\t20\\t21\\t50\\t51\\t91\\nmeaner\\t21\\t22\\t30\\t32\\t34\\nmeanest\\t21\\t22\\t30\\t32\\t34\\nmeaning*\\t50\\t51\\nmeans\\t20\\t50\\t51\\t91\\nmeant\\t20\\t50\\t51\\t90\\nmeantime\\t100\\t103\\nmeanwhile\\t1\\t13\\t100\\t103\\nmeat*\\t70\\t74\\nmecca\\t114\\nmedal*\\t80\\t82\\nmedial*\\t100\\t102\\nmedic*\\t70\\t72\\nmediocr*\\t80\\t82\\nmeditat*\\t111\\t114\\nmeek*\\t80\\t83\\nmeet\\t20\\t40\\t80\\t81\\t91\\nmeeting*\\t40\\t110\\nmeets\\t20\\t40\\t80\\t81\\t91\\nmeh\\t120\\t122\\nmelanchol*\\t30\\t32\\t35\\nmember*\\t40\\t80\\t81\\nmemo\\t110\\nmemorabl*\\t50\\t51\\nmemoria*\\t115\\nmemories\\t50\\t51\\nmemoris*\\t50\\t51\\nmemoriz*\\t50\\t51\\nmemory\\t50\\t51\\nmemos\\t110\\nmen\\t40\\t44\\nmen'*\\t40\\t44\\nmenial\\t21\\t80\\t83\\t110\\nmennonit*\\t114\\nmens\\t40\\t44\\nmental\\t21\\nmention*\\t40\\nmentor*\\t80\\t83\\t110\\nmerchant*\\t113\\nmercif*\\t114\\nmercy\\t114\\nmerger*\\t110\\nmerit*\\t30\\t31\\nmerr*\\t30\\t31\\nmess\\t30\\t32\\nmessage\\t40\\t80\\t81\\nmessaged\\t40\\t80\\t81\\t90\\nmessages\\t40\\t80\\t81\\nmessaging\\t20\\t40\\t80\\t81\\nmessier\\t21\\t22\\t30\\t32\\nmessiest\\t21\\t22\\t30\\t32\\nmessy\\t21\\t30\\t32\\nmet\\t20\\t40\\t80\\t81\\t90\\nmeter*\\t100\\t102\\nmethinks\\t1\\t2\\t3\\t4\\t50\\t51\\nmethodis*\\t114\\nmetre*\\t100\\t102\\nmf\\t120\\t121\\t122\\nmf'*\\t120\\t121\\t122\\nmfg\\t110\\nmfs\\t120\\t121\\t122\\nmgmt\\t110\\nmgr\\t110\\nmhm*\\t120\\t122\\t123\\nmicrowave*\\t112\\nmid\\t100\\t102\\nmiddle\\t21\\t22\\t100\\t102\\nmidterm*\\t110\\nmight\\t1\\t12\\t20\\t50\\t54\\t92\\nmight've\\t1\\t12\\t20\\t50\\t54\\t90\\nmightve\\t1\\t12\\t20\\t50\\t54\\t90\\nmighty\\t80\\t83\\nmigrain*\\t70\\t72\\nmilder\\t21\\t22\\nmildest\\t21\\t22\\nmile*\\t100\\t102\\nmilf*\\t40\\t43\\t70\\t73\\t120\\t121\\t122\\nmilitant\\t80\\t83\\nmilitary\\t80\\t83\\nmilk*\\t70\\t74\\nmillion*\\t24\\nmimi\\t40\\t41\\t43\\nmimi'*\\t40\\t41\\t43\\nmimis\\t40\\t41\\t43\\nmin\\t100\\t103\\nmindful*\\t50\\t51\\nmine\\t1\\t2\\t3\\t4\\nmingle*\\t80\\t81\\nminion*\\t80\\t83\\nminister*\\t80\\t83\\t114\\nministr*\\t114\\nminor\\t80\\t83\\nmint*\\t60\\nminus\\t1\\t11\\nminute*\\t100\\t103\\nmiscar*\\t70\\t72\\nmiser*\\t30\\t32\\t33\\t35\\nmisle*\\t50\\t52\\nmiss\\t20\\t30\\t32\\t35\\t91\\nmissed\\t20\\t30\\t32\\t35\\t90\\nmisses\\t20\\t30\\t32\\t35\\t91\\nmissing\\t20\\t30\\t32\\t35\\nmissionar*\\t114\\nmissus\\t40\\t43\\t80\\t83\\nmistak*\\t30\\t32\\t50\\t53\\nmister\\t40\\t44\\t80\\t83\\nmistres*\\t40\\t43\\nmisunder*\\t50\\t51\\nmitzvah*\\t114\\nmixed\\t21\\t100\\t102\\nmm\\t120\\t122\\t124\\nmmh*\\t120\\t123\\nmmk*\\t120\\t122\\t123\\nmmm*\\t120\\t124\\nmmo*\\t80\\t81\\t111\\t120\\t122\\nmms*\\t80\\t81\\nmo\\t21\\t22\\t25\\nmo'\\t21\\t22\\t25\\t120\\t122\\nmobb*\\t20\\nmobility\\t100\\t101\\nmock\\t20\\t30\\t32\\t34\\t40\\t91\\nmocked\\t20\\t30\\t32\\t34\\t40\\t90\\nmocker*\\t30\\t32\\t34\\nmocking\\t20\\t30\\t32\\t34\\t40\\nmocks\\t20\\t30\\t32\\t34\\t40\\t91\\nmodern\\t21\\t100\\t103\\nmodernity\\t100\\t103\\nmodernly\\t100\\t103\\nmofo*\\t120\\t121\\t122\\nmohamm*\\t114\\nmoist\\t21\\t60\\t63\\nmoldy\\t21\\nmolest*\\t30\\t32\\nmom\\t40\\t41\\t43\\nmom's\\t40\\t41\\t43\\nmoment*\\t100\\t103\\nmomma*\\t40\\t41\\t43\\nmommy*\\t40\\t41\\t43\\nmoms\\t40\\t41\\t43\\nmon\\t100\\t103\\nmonarch*\\t80\\t83\\nmonast*\\t114\\nmonday*\\t100\\t103\\nmoney*\\t113\\nmonitor\\t60\\t61\\nmonk*\\t114\\nmono\\t70\\t72\\nmonopol*\\t80\\t83\\t113\\nmonsieur\\t40\\t44\\nmonth*\\t100\\t103\\nmooch*\\t30\\t32\\t40\\nmood\\t30\\nmoodi*\\t30\\t32\\nmoods\\t30\\nmoody\\t30\\t32\\nmop\\t112\\nmoral\\t114\\nmorality\\t114\\nmorals\\t114\\nmore\\t21\\t22\\t25\\nmorgue*\\t115\\nmormon*\\t114\\nmorning*\\t100\\t103\\nmoron*\\t30\\t32\\t34\\t80\\t83\\t120\\t121\\nmortal*\\t115\\nmortg*\\t112\\t113\\nmortician*\\t115\\nmosque*\\t114\\nmost\\t21\\t22\\t25\\t50\\t54\\nmostly\\t1\\t13\\t50\\t54\\nmotel*\\t111\\nmother\\t40\\t41\\t43\\nmother's\\t40\\t41\\t43\\nmothered\\t20\\t40\\t41\\t43\\t90\\nmotherfucke*\\t120\\t121\\nmotherfuckin*\\t21\\t120\\t121\\nmotherhood\\t40\\t41\\t43\\nmothering\\t20\\t40\\t41\\t43\\nmotherl*\\t40\\t41\\t43\\nmothers\\t40\\t41\\t43\\nmotion*\\t100\\t101\\nmotiv*\\t50\\t51\\t52\\t80\\t82\\t110\\nmourn*\\t30\\t32\\t35\\t115\\nmouth*\\t70\\t71\\nmove\\t20\\t91\\t100\\t101\\nmoved\\t20\\t90\\t100\\t101\\nmovement*\\t100\\t101\\nmover*\\t100\\t101\\nmoves\\t20\\t91\\t100\\t101\\nmovie*\\t111\\nmoving\\t20\\t100\\t101\\nmr\\t40\\t44\\t80\\t83\\nmri\\t70\\t72\\nmrs\\t40\\t43\\t80\\t83\\nms\\t40\\t43\\t80\\t83\\nmsg\\t80\\t81\\t120\\t122\\nmtv*\\t111\\nmuah\\t120\\t122\\nmuch\\t25\\nmucho\\t25\\nmucous*\\t70\\t71\\nmuhamm*\\t114\\nmujahid*\\t114\\nmultiple\\t25\\nmum\\t40\\t41\\t43\\nmum's\\t40\\t41\\t43\\nmummy*\\t40\\t41\\t43\\nmums\\t40\\t41\\t43\\nmurder*\\t30\\t32\\t34\\t115\\nmuscle*\\t70\\t71\\t72\\nmuscular\\t21\\t70\\t71\\nmuseum*\\t111\\nmusi*\\t60\\t62\\t111\\nmusl*\\t114\\nmust\\t1\\t12\\t20\\t50\\t53\\t55\\nmust'nt\\t1\\t12\\t15\\t20\\t50\\t53\\t55\\nmust've\\t1\\t12\\t20\\t50\\t55\\t90\\nmustn't\\t1\\t12\\t15\\t20\\t50\\t53\\t55\\nmustnt\\t1\\t12\\t15\\t20\\t50\\t53\\t55\\nmustve\\t1\\t12\\t20\\t50\\t55\\t90\\nmutin*\\t80\\t83\\nmvp*\\t80\\t83\\nmwah\\t120\\t122\\nmy\\t1\\t2\\t3\\t4\\nmyopi*\\t70\\t72\\nmyself\\t1\\t2\\t3\\t4\\nmyster*\\t50\\t54\\nn00b\\t80\\t83\\nnada\\t25\\nnag*\\t30\\t32\\t34\\nnah*\\t1\\t15\\t120\\t122\\nnaked\\t21\\t70\\t71\\t73\\nname\\t40\\nnamed\\t20\\t90\\nnamely\\t1\\t13\\t50\\t55\\nnames\\t40\\nnana\\t40\\t41\\t43\\nnana's\\t40\\t41\\t43\\nnanas\\t40\\t41\\nnann*\\t40\\t41\\t80\\t83\\t112\\nnap\\t111\\nnaps\\t111\\nnarrow\\t21\\t100\\t102\\nnarrowed\\t20\\t90\\t100\\t102\\nnarrower\\t21\\t22\\t100\\t102\\nnarrowest\\t21\\t22\\t100\\t102\\nnarrowing\\t100\\t102\\nnarrowly\\t100\\t102\\nnarrowness\\t100\\t102\\nnarrows\\t100\\t102\\nnasal\\t21\\t60\\t70\\t71\\nnast*\\t30\\t32\\t34\\nnation\\t100\\t102\\nnational\\t21\\t100\\t102\\nnationality\\t100\\t102\\nnationally\\t100\\t102\\nnationals\\t100\\t102\\nnations\\t100\\t102\\nnatural\\t21\\nnaughty\\t21\\nnause*\\t70\\t72\\nnbd\\t120\\t122\\nnear\\t1\\t11\\t100\\t102\\nneared\\t20\\t90\\t100\\t102\\nnearer\\t21\\t22\\t100\\t102\\nnearest\\t21\\t22\\t100\\t102\\nnearing\\t20\\t100\\t102\\nnearly\\t1\\t13\\t50\\t54\\nnears\\t100\\t102\\nnearsighted\\t21\\t70\\t72\\nneat\\t21\\t30\\t31\\nneater\\t21\\t22\\t30\\t31\\nneatest\\t21\\t22\\t30\\t31\\nneatly\\t30\\nneatness\\t30\\t31\\nnecessari*\\t50\\t55\\nnecessary\\t21\\t50\\t55\\nneck*\\t70\\t71\\nneed\\t20\\t50\\t53\\t91\\nneed'nt\\t1\\t15\\t20\\t50\\t53\\t91\\nneeded\\t20\\t50\\t53\\t90\\nneeding\\t20\\t50\\t53\\nneedless\\t21\\nneedn't\\t1\\t15\\t20\\t50\\t53\\t91\\nneednt\\t1\\t15\\t20\\t50\\t53\\t91\\nneeds\\t20\\t50\\t53\\t91\\nneedy\\t21\\t30\\t32\\nnegat*\\t1\\t15\\nneglect*\\t30\\t32\\t35\\nnegotiat*\\t40\\t110\\nneighbor*\\t40\\t42\\t80\\t81\\t100\\t102\\t112\\nneighbour*\\t40\\t42\\t100\\t102\\t112\\nneither\\t1\\t15\\t21\\t22\\t50\\t56\\nnephew*\\t40\\t41\\t44\\nnerd*\\t30\\t32\\nnerve*\\t70\\t71\\nnervous\\t21\\t30\\t32\\t33\\nnervously\\t30\\t32\\t33\\nnervousness\\t30\\t32\\t33\\nnetflix\\t111\\nneural*\\t70\\t71\\nneurolog*\\t70\\t72\\nneuron*\\t70\\t71\\nneurotic*\\t30\\t32\\t33\\nnever\\t1\\t13\\t15\\t50\\t55\\t100\\t103\\nnevertheless\\t1\\t13\\t14\\t50\\t56\\nnew\\t21\\t100\\t103\\nnewbie*\\t80\\t83\\nnewborn*\\t40\\nnewcomer*\\t80\\t83\\nnewer\\t21\\t22\\t100\\t103\\nnewest\\t21\\t22\\t100\\t103\\nnewly\\t100\\t103\\nnext\\t21\\t100\\t103\\nngo*\\t110\\nnice\\t21\\t30\\t31\\nnicely\\t30\\t31\\nniceness*\\t30\\t31\\nnicer\\t21\\t22\\t30\\t31\\nnicest\\t21\\t22\\t30\\t31\\nniceties\\t30\\t31\\nnicety\\t30\\nnickel*\\t113\\nniece*\\t40\\t41\\t43\\nnigga*\\t120\\t121\\nnigger*\\t120\\t121\\nnight\\t100\\t103\\nnightly\\t100\\t103\\nnightmar*\\t30\\t32\\nnights\\t100\\t103\\nnine*\\t24\\nnintendo*\\t111\\nnipple*\\t70\\t71\\t73\\nnm\\t120\\t122\\nno\\t1\\t15\\nnobod*\\t1\\t2\\t9\\t15\\nnoes\\t1\\t15\\t120\\t122\\nnoise\\t60\\t62\\nnoises\\t60\\t62\\nnoisier\\t21\\t22\\t60\\t62\\nnoisiest\\t21\\t22\\t60\\t62\\nnoisy\\t21\\t60\\t62\\nnominat*\\t80\\t83\\nnone\\t1\\t15\\t25\\nnonetheless\\t1\\t13\\nnonprofit*\\t110\\nnoob\\t80\\t83\\nnoodle*\\t70\\t74\\nnoon*\\t100\\t103\\nnope\\t1\\t15\\nnor\\t1\\t14\\t15\\t50\\t56\\nnormal\\t21\\nnormally\\t50\\t53\\nnorth*\\t100\\t102\\nnose*\\t60\\t70\\t71\\nnostril*\\t60\\t70\\t71\\nnot\\t1\\t15\\t50\\t56\\nnothing\\t1\\t15\\t50\\t55\\nnotice\\t20\\t50\\t51\\t91\\nnoticed\\t20\\t50\\t51\\t90\\nnotices\\t20\\t50\\t51\\t91\\nnoticing\\t20\\t50\\t51\\nnotwithstanding\\t1\\t13\\t50\\t56\\nnovel\\t111\\nnovels\\t111\\nnovember\\t100\\t103\\nnovice\\t80\\t83\\nnow\\t1\\t13\\t91\\t100\\t103\\nnowadays\\t91\\nnowhere\\t1\\t15\\t50\\t55\\t100\\t102\\nnp\\t1\\t15\\t120\\t122\\nnsfw\\t110\\t120\\t122\\nnuclear\\t21\\nnude*\\t70\\t71\\t73\\nnudi*\\t70\\t71\\t73\\nnumbed\\t30\\t32\\t70\\t72\\nnumbing\\t30\\t32\\t70\\t72\\nnumbness\\t30\\t32\\t70\\t72\\nnumbs\\t30\\t32\\t70\\t72\\nnumerous\\t21\\nnun\\t114\\nnun's\\t114\\nnuns\\t114\\nnurse*\\t70\\t72\\nnurtur*\\t30\\t31\\nnutrition*\\t70\\t72\\nnvm\\t120\\t122\\no\\t120\\t122\\no'clock*\\t100\\t103\\nobedience\\t50\\t52\\t80\\t83\\nobedient\\t50\\t52\\t80\\t83\\nobediently\\t50\\t52\\nobese\\t70\\t72\\t74\\nobesity\\t70\\t72\\t74\\nobey\\t20\\t50\\t52\\t80\\t83\\t91\\nobeyed\\t20\\t50\\t52\\t80\\t83\\t90\\nobeying\\t20\\t50\\t52\\t80\\t83\\nobeys\\t20\\t50\\t52\\t80\\t83\\t91\\nobit*\\t115\\nobnoxious*\\t30\\t32\\t34\\nobscur*\\t50\\t54\\nobsess*\\t30\\t32\\t33\\nobtain\\t20\\t80\\t82\\t84\\t91\\nobtainable\\t80\\t82\\t84\\t92\\nobtained\\t20\\t80\\t82\\t84\\t90\\nobtaining\\t20\\t80\\t82\\t84\\nobtains\\t20\\t80\\t82\\t84\\t91\\nobvious\\t50\\t55\\nobviously\\t50\\t55\\noccasion\\t100\\t103\\noccasional*\\t50\\t54\\t100\\t103\\noccasions\\t100\\t103\\noccupa*\\t110\\nocd\\t70\\t72\\noclock*\\t100\\t103\\noctober\\t100\\t103\\noculus\\t111\\nod\\t115\\nod'ed\\t90\\nodd\\t50\\t53\\nodder\\t21\\t22\\t50\\t53\\noddest\\t21\\t22\\t50\\t53\\noded\\t115\\nodor*\\t60\\nodour*\\t60\\nof\\t1\\t11\\noff\\t1\\t11\\t100\\t102\\noffence*\\t30\\t32\\t34\\noffend*\\t30\\t32\\t34\\noffense\\t30\\t32\\t34\\noffenses\\t30\\t32\\t34\\noffensive\\t30\\t32\\t34\\noffer*\\t40\\noffice\\t110\\nofficehold*\\t80\\t83\\t110\\nofficer*\\t80\\t83\\noffices\\t110\\nofficial*\\t80\\t83\\noften\\t1\\t13\\t50\\t54\\t100\\t103\\noh\\t120\\t124\\nohh*\\t120\\t124\\nohwell\\t120\\t125\\noil*\\t60\\nok\\t30\\t31\\t120\\t123\\nokay\\t30\\t31\\t120\\t123\\nokayed\\t20\\t30\\t31\\t90\\nokays\\t20\\t30\\t31\\t91\\nokey*\\t30\\t31\\t120\\t123\\noks\\t20\\t30\\t31\\t91\\nold\\t100\\t103\\nolden\\t100\\t103\\nolder\\t21\\t22\\t100\\t103\\noldest\\t21\\t22\\t100\\t103\\nomfg\\t120\\t121\\t122\\nomg\\t120\\t122\\non\\t1\\t11\\t100\\t102\\nonce\\t24\\t100\\t103\\noncoming\\t92\\none\\t24\\noneself\\t1\\t2\\t3\\t7\\nonly\\t1\\t13\\nonto\\t1\\t11\\t100\\t102\\nonward\\t92\\noomf\\t40\\t120\\t122\\nooo*\\t120\\t122\\nop\\t120\\t122\\nop's\\t120\\t122\\nopen\\t20\\t91\\t100\\t102\\nopen-minded*\\t30\\t31\\nopened\\t100\\t102\\nopening*\\t100\\t102\\nopenminded*\\t30\\t31\\nopenness\\t30\\t31\\nopens\\t20\\t91\\t100\\t102\\nopera\\t60\\t62\\t111\\noperat*\\t70\\t72\\t110\\nopinion\\t50\\t54\\nopportun*\\t30\\t31\\t80\\t82\\t84\\noppose*\\t80\\t83\\nopposite*\\t50\\t56\\noppositi*\\t80\\t83\\noptimal*\\t30\\t31\\t80\\t84\\noptimism\\t30\\t31\\t80\\t84\\noptimistic\\t21\\t30\\t31\\t80\\t84\\noption*\\t50\\t54\\noptometr*\\t70\\t72\\nor\\t1\\t14\\t50\\t54\\t56\\norange\\t21\\t60\\t61\\norbit\\t100\\t101\\norchestra*\\t60\\t62\\t111\\norder\\t80\\t83\\t100\\norders\\t80\\t83\\norg\\t110\\norganization*\\t110\\norganize\\t91\\t110\\norganized\\t21\\t90\\t110\\norganizer*\\t110\\norganizes\\t20\\t91\\t110\\norganizing\\t20\\t110\\norgasm*\\t70\\t71\\t73\\norgi*\\t70\\t73\\norgy\\t70\\t73\\norigin\\t50\\t52\\t100\\noriginal\\t21\\t30\\t31\\noriginally\\t1\\t13\\t100\\t103\\noriginat*\\t50\\t52\\norigins\\t50\\t52\\northodon*\\t70\\t72\\northodox*\\t114\\northoped*\\t70\\t72\\nother\\t1\\t2\\t9\\t50\\t56\\nothers\\t1\\t2\\t9\\t50\\t56\\notherwise\\t1\\t14\\t50\\t56\\nought\\t1\\t12\\t20\\t50\\t53\\nought'nt\\t1\\t12\\t15\\t20\\t50\\t53\\nought've\\t1\\t12\\t20\\t50\\t53\\noughta\\t1\\t12\\t20\\t50\\t53\\noughtn't\\t1\\t12\\t15\\t20\\t50\\t53\\noughtnt\\t1\\t12\\t15\\t20\\t50\\t53\\noughtve\\t1\\t12\\t20\\t50\\t53\\nour\\t1\\t2\\t3\\t5\\t40\\t80\\t81\\nours\\t1\\t2\\t3\\t5\\t40\\t80\\t81\\nourselves\\t1\\t2\\t3\\t5\\t40\\t80\\t81\\nout\\t1\\t11\\t100\\t102\\noutcast\\t80\\t83\\noutcome*\\t50\\t52\\nouter*\\t100\\t102\\noutgoing\\t21\\t30\\t31\\noutlin*\\t110\\noutrag*\\t30\\t32\\t34\\noutrank*\\t80\\t83\\noutside\\t1\\t11\\t100\\t102\\noutsider*\\t40\\noutsides\\t100\\t102\\noutsourc*\\t110\\noutstanding\\t21\\t50\\t53\\noutta\\t120\\t122\\noutward*\\t100\\t102\\novar*\\t70\\t71\\t73\\noven*\\t112\\nover\\t1\\t11\\t80\\t83\\t100\\t102\\noverall\\t50\\t54\\noverate\\t20\\t70\\t74\\novercame\\t20\\t80\\t82\\t90\\novercome\\t20\\t80\\t82\\t91\\novercomes\\t20\\t80\\t82\\t91\\novercoming\\t20\\t80\\t82\\noverconfiden*\\t80\\t82\\noverdosed\\t20\\t90\\t115\\novereat*\\t20\\t70\\t74\\t90\\noverflow*\\t100\\t102\\noverhear*\\t40\\t60\\t62\\noverlap*\\t100\\t102\\noverpaid\\t21\\t110\\t113\\noverpower*\\t80\\t83\\noverrul*\\t80\\t83\\novertak*\\t80\\t82\\novertime\\t110\\t113\\noverweight\\t21\\t70\\t72\\t74\\noverwhelm*\\t30\\t32\\t33\\t35\\noverworked\\t21\\t110\\nowe\\t20\\t91\\t113\\nowed\\t20\\t90\\t113\\nowes\\t20\\t91\\t113\\nowing\\t20\\t113\\nowner*\\t40\\t80\\t83\\npa\\t40\\t41\\t44\\npa's\\t40\\t41\\t44\\npagan*\\t114\\npaid\\t20\\t90\\t113\\npain\\t30\\t32\\t60\\t63\\t70\\t72\\npained\\t30\\t32\\t60\\t63\\t70\\t72\\npainf*\\t30\\t32\\t60\\t63\\t70\\t72\\npainl*\\t30\\t70\\t72\\npains\\t30\\t32\\t60\\t63\\t70\\t72\\npal\\t40\\t42\\t80\\t81\\npal's\\t40\\t42\\t80\\t81\\npalatabl*\\t30\\t60\\npallbearer*\\t115\\npalm\\t70\\t71\\npalms\\t70\\t71\\npals\\t40\\t42\\t80\\t81\\npancake*\\t70\\t74\\npanic*\\t30\\t32\\t33\\npap\\t70\\t72\\npapa\\t40\\t41\\t44\\npapa's\\t40\\t41\\t44\\npapal\\t114\\npapas\\t40\\t41\\t44\\npaper*\\t110\\npappy\\t40\\t41\\t44\\npappy's\\t40\\t41\\t44\\nparadise*\\t30\\t31\\t114\\nparaly*\\t70\\t72\\nparanoi*\\t30\\t32\\t33\\nparent*\\t40\\t41\\t80\\t81\\npariah*\\t80\\t83\\nparliament*\\t80\\t83\\npart\\t25\\nparticipant*\\t40\\nparticipat*\\t40\\nparticular\\t21\\t22\\nparticularly\\t1\\t13\\t50\\t55\\npartie*\\t30\\t31\\t40\\t80\\t81\\t111\\npartly\\t25\\t50\\t54\\npartner*\\t40\\t42\\t80\\t81\\nparty*\\t30\\t31\\t40\\t80\\t81\\t111\\npass\\t20\\t91\\t100\\t101\\npassed\\t20\\t90\\t100\\t101\\npasses\\t20\\t91\\t100\\t101\\npassing\\t20\\t100\\t101\\npassion*\\t30\\t31\\t70\\t73\\npassiv*\\t80\\t83\\npassover\\t114\\npast\\t90\\t100\\t103\\npasta*\\t70\\t74\\npastor*\\t114\\npaternal\\t21\\t40\\t41\\t44\\npaternity\\t40\\t41\\t44\\t70\\t72\\npathetic\\t21\\t30\\t32\\t35\\t80\\t83\\npathetically\\t30\\t32\\t35\\t80\\t83\\npatholog*\\t70\\t72\\npatio*\\t112\\npatriarch*\\t40\\t44\\t80\\t83\\npay*\\t110\\t113\\npc*\\t110\\npeace\\t30\\t31\\npeaceful\\t21\\t30\\t31\\npeacefully\\t30\\t31\\npeacekeep*\\t30\\t31\\npeacemak*\\t30\\t31\\npeasant*\\t80\\t83\\npeculiar*\\t30\\t32\\npediatr*\\t70\\t72\\npee\\t70\\t71\\npeeps\\t40\\t42\\npelvi*\\t70\\t71\\npen\\t110\\npenance\\t114\\npence\\t113\\npencil*\\t110\\npenis*\\t70\\t71\\t73\\npennies\\t113\\npenny\\t113\\npens\\t110\\npension*\\t110\\t113\\npentecost*\\t114\\npeon*\\t80\\t83\\npeople*\\t40\\npepsi\\t70\\t74\\nperceiv*\\t50\\t51\\t60\\npercent*\\t25\\npercept*\\t50\\t51\\t60\\nperfect\\t21\\t30\\t31\\t50\\t55\\t80\\t84\\t91\\nperfected\\t20\\t30\\t31\\t50\\t55\\t80\\t82\\t84\\t90\\nperfecting\\t30\\t31\\t50\\t55\\t80\\t82\\t84\\nperfection\\t30\\t31\\t50\\t55\\t80\\t82\\t84\\nperfectly\\t30\\t31\\t50\\t55\\t80\\t82\\t84\\nperfects\\t20\\t50\\t55\\t80\\t82\\nperform*\\t110\\nperfum*\\t60\\nperhaps\\t1\\t13\\t50\\t54\\nperiod*\\t100\\t103\\npermanent\\t21\\t100\\t103\\npermiss*\\t80\\t83\\npermit*\\t50\\t52\\t80\\t83\\nperpetual*\\t100\\t103\\npersever*\\t80\\t82\\npersist*\\t80\\t82\\nperson\\t40\\nperson's\\t40\\npersonal\\t21\\t30\\t40\\npersons\\t40\\nperspective\\t50\\t51\\nperspir*\\t70\\t71\\npersua*\\t40\\t50\\t51\\t80\\t83\\nperv\\t30\\t32\\t70\\t73\\nperver*\\t30\\t32\\t70\\t73\\npervy\\t21\\t30\\t32\\t70\\t73\\npesky\\t21\\npeso\\t113\\npesos\\t113\\npessimis*\\t30\\t32\\t35\\t80\\t85\\npest*\\t30\\t32\\t34\\npet\\t112\\npetrif*\\t30\\t32\\t33\\npets\\t112\\npettier\\t21\\t22\\t30\\t32\\t34\\npettiest\\t21\\t22\\t30\\t32\\t34\\npetty\\t21\\t30\\t32\\t34\\npew\\t114\\npews\\t114\\npharmac*\\t70\\t72\\nphd*\\t80\\t83\\t110\\nphobi*\\t30\\t32\\t33\\t70\\t72\\nphone*\\t40\\t60\\t62\\nphoning\\t20\\t40\\nphony\\t21\\t30\\t32\\nphoto\\t60\\t61\\nphotocop*\\t110\\nphotograph*\\t60\\t61\\nphotos\\t60\\t61\\nphysical\\t21\\t70\\t72\\nphysicality\\t70\\t72\\nphysically\\t70\\t72\\nphysicals\\t70\\t72\\nphysician*\\t70\\t72\\nphysics\\t110\\npic\\t60\\t61\\t120\\t122\\npick\\t20\\t50\\t52\\t91\\npicked\\t20\\t50\\t52\\t90\\npicking\\t20\\t50\\t52\\npicks\\t20\\t50\\t52\\t91\\npicky\\t21\\npicture*\\t60\\t61\\npie\\t70\\t74\\npiece\\t25\\npieces\\t25\\npies\\t70\\t74\\npiet*\\t114\\npilgrim*\\t114\\npill\\t70\\t72\\t74\\npillow*\\t112\\npills\\t70\\t72\\t74\\npilot*\\t80\\t83\\npimple*\\t70\\t72\\npimply\\t21\\t70\\t72\\npink\\t21\\t60\\t61\\npinterest\\t111\\t120\\t122\\npious\\t21\\t114\\npiss*\\t30\\t32\\t34\\t70\\t71\\t120\\t121\\npitcher*\\t111\\npitiable\\t21\\t30\\t32\\t35\\t80\\t83\\npitied\\t20\\t30\\t32\\t35\\t80\\t83\\t90\\npities\\t20\\t30\\t32\\t35\\t80\\t83\\t91\\npitiful\\t21\\t30\\t32\\t35\\t80\\t83\\npitifully\\t30\\t32\\t35\\t80\\t83\\npity*\\t30\\t32\\t35\\t80\\t83\\npivot\\t100\\t101\\npizza*\\t70\\t74\\nplace\\t100\\t102\\nplaced\\t90\\t100\\t102\\nplacement*\\t100\\t102\\nplaces\\t100\\t102\\nplacing*\\t20\\t100\\t102\\nplague*\\t115\\nplain\\t21\\nplainer\\t21\\t22\\nplainest\\t21\\t22\\nplan\\t80\\t82\\t92\\nplanned\\t80\\t82\\nplanner\\t92\\nplanning\\t80\\t82\\t92\\nplans\\t80\\t82\\t92\\nplatform*\\t100\\t102\\nplay\\t30\\t31\\t111\\nplayed\\t20\\t30\\t31\\t90\\t111\\nplayful\\t21\\t30\\t31\\t111\\nplayfully\\t30\\t31\\t111\\nplayfulness\\t30\\t31\\t111\\nplaying\\t20\\t30\\t31\\t111\\nplaymate*\\t40\\t42\\nplays\\t30\\t31\\t111\\nplaystation*\\t111\\nplead*\\t80\\t83\\npleasant*\\t30\\t31\\nplease*\\t30\\t31\\npleasing\\t30\\t31\\npleasur*\\t30\\t31\\npledge\\t80\\t83\\nplenty\\t25\\npls\\t120\\t122\\nplus\\t1\\t11\\t14\\t80\\t84\\nplz\\t120\\t122\\npms\\t70\\t72\\npodcast*\\t111\\npodiatr*\\t70\\t72\\npoetry\\t111\\npoint\\t100\\t102\\npointless\\t21\\npoison*\\t30\\t32\\t34\\t70\\t72\\npoker\\t111\\npolic*\\t80\\t83\\t110\\npolite\\t21\\t30\\t31\\t40\\npolitely\\t30\\t31\\t40\\npolitic*\\t21\\t80\\t83\\t110\\nponder*\\t50\\t51\\npool*\\t111\\npoop*\\t70\\t71\\npoor\\t21\\t30\\t32\\t80\\t83\\t113\\npoorer\\t21\\t22\\t30\\t32\\t80\\t83\\t113\\npoorest\\t21\\t22\\t30\\t32\\t80\\t83\\t113\\npoorhouse*\\t80\\t83\\t113\\npoorly\\t30\\t32\\t80\\t83\\t113\\npoorness*\\t30\\t32\\t80\\t83\\t113\\npopcorn\\t70\\t74\\npope*\\t114\\npopular\\t21\\t30\\t31\\t40\\npopulari*\\t30\\t31\\nporch\\t112\\npork\\t70\\t74\\nporn*\\t70\\t73\\nportfolio*\\t110\\t113\\nposition*\\t100\\t102\\npositive\\t21\\t30\\t31\\t50\\t55\\t80\\t84\\npositively\\t30\\t31\\t50\\t55\\t80\\t84\\npositives\\t30\\t31\\t50\\t55\\t80\\t84\\npositivi*\\t30\\t31\\t50\\t55\\t80\\t84\\nposse\\t40\\t42\\t80\\t81\\npossib*\\t50\\t54\\npost\\t100\\nposted\\t20\\t90\\nposterior\\t100\\t102\\npotato*\\t70\\t74\\npotential*\\t50\\t54\\t80\\t82\\t92\\npoverty*\\t80\\t83\\t113\\npower\\t80\\t83\\npowerful\\t80\\t82\\t83\\npowerfully\\t80\\t83\\npowerless*\\t30\\t32\\t80\\t82\\t83\\npowers\\t80\\t83\\nppl*\\t40\\t120\\t122\\npractical\\t21\\npractically\\t1\\t13\\t50\\t54\\npractice\\t80\\t82\\t91\\t110\\npracticed\\t20\\t80\\t82\\t90\\t110\\npractices\\t20\\t80\\t82\\t91\\t110\\npracticing\\t20\\t80\\t82\\t110\\nprais*\\t30\\t31\\t40\\t80\\t82\\npranc*\\t20\\t100\\t101\\npray\\t20\\t92\\t114\\nprayed\\t20\\t92\\t114\\nprayer*\\t92\\t114\\npraying\\t20\\t92\\t114\\nprays\\t20\\t114\\npreach*\\t114\\npreced*\\t100\\t103\\nprecious*\\t30\\t31\\nprecis*\\t50\\t55\\npredator*\\t80\\t83\\npredict*\\t92\\nprefer*\\t50\\t51\\t53\\npregnan*\\t40\\t41\\t70\\t72\\t73\\nprejudic*\\t30\\t32\\t34\\npremier*\\t100\\t103\\nprepar*\\t92\\nprereq*\\t110\\npresbyterian*\\t114\\nprescri*\\t70\\t72\\npresent\\t91\\t100\\t103\\npresentation*\\t110\\npresently\\t1\\t13\\t91\\t100\\t103\\npresiden*\\t80\\t83\\t110\\npress\\t60\\t63\\npressed\\t20\\t60\\t63\\t90\\npresses\\t20\\t60\\t63\\npressing\\t60\\t63\\npressur*\\t30\\t32\\t33\\nprestig*\\t80\\t83\\npresum*\\t50\\t51\\npretend*\\t50\\t51\\nprettier\\t21\\t22\\t30\\t31\\nprettiest\\t21\\t22\\t30\\t31\\npretty\\t30\\t31\\t50\\t54\\nprevent*\\t80\\t85\\nprevious*\\t90\\t100\\t103\\nprey\\t80\\t83\\nprice*\\t113\\nprici*\\t113\\nprick*\\t30\\t32\\t34\\t70\\t71\\t120\\t121\\npride\\t30\\t31\\t80\\t82\\npriest*\\t80\\t83\\t114\\nprimarily\\t1\\t13\\nprince\\t40\\t44\\nprince'*\\t40\\t44\\nprinces\\t40\\t44\\nprincess*\\t40\\t43\\nprincipal\\t80\\t83\\nprincipally\\t1\\t13\\nprior\\t90\\t100\\t103\\nprison*\\t80\\t83\\nprivate\\t40\\nprivileg*\\t30\\t31\\t80\\t83\\nprize*\\t30\\t31\\t80\\t82\\t84\\nprob\\t120\\t122\\nprobab*\\t1\\t13\\t50\\t54\\nprobation*\\t80\\t83\\nproblem*\\t30\\t32\\t50\\t53\\t80\\t85\\nprobs\\t120\\t122\\nproceed*\\t100\\t103\\nprocrastin*\\t100\\t103\\t110\\nproduc*\\t50\\t52\\t110\\nprof\\t80\\t83\\t110\\nprofession*\\t110\\nprofessor*\\t80\\t83\\t110\\nproficien*\\t80\\t82\\nprofit*\\t30\\t31\\t80\\t84\\t110\\t113\\nprofs\\t80\\t83\\t110\\nprognos*\\t70\\t72\\nprogram*\\t110\\nprogress\\t80\\t82\\nproject\\t110\\nprojector*\\t110\\nprojects\\t110\\nprolly\\t1\\t13\\t50\\t54\\t120\\t122\\nprom\\t40\\t111\\nprominen*\\t80\\t83\\npromiscu*\\t70\\t73\\npromise*\\t30\\t31\\t50\\t55\\npromising\\t30\\t31\\t92\\npromot*\\t80\\t82\\t84\\t110\\nproof\\t50\\t55\\nprophe*\\t114\\nprospect*\\t92\\nprostat*\\t70\\t71\\t73\\nprostitu*\\t70\\t73\\nprotect*\\t80\\t85\\nprotest\\t30\\t32\\t34\\nprotestant*\\t114\\nprotested\\t20\\t30\\t32\\t34\\t90\\nprotesting\\t20\\t30\\t32\\t34\\nprotests\\t30\\t32\\t34\\nproud\\t30\\t31\\t80\\t82\\nprouder\\t21\\t22\\t30\\t31\\t80\\t82\\nproudest\\t21\\t22\\t30\\t31\\t80\\t82\\nproudly\\t30\\t31\\t80\\t82\\nprove*\\t50\\t51\\t55\\nprovide\\t40\\t91\\nprovided\\t90\\nprovides\\t40\\t91\\nproviding\\t40\\nprovinc*\\t100\\t102\\nproving\\t50\\t51\\t55\\nprovok*\\t50\\t52\\nproximal\\t21\\t100\\t102\\nproximity\\t100\\t102\\nprozac\\t70\\t72\\nprude\\t70\\t73\\nprudish\\t21\\t70\\t73\\nps3*\\t111\\nps4*\\t111\\npsalm*\\t114\\npsvita\\t111\\npsych\\t110\\npsychol*\\t110\\npub\\t111\\npubic\\t21\\t70\\t71\\t73\\npublic\\t40\\npublish*\\t110\\npubs\\t111\\npuk*\\t30\\t32\\t70\\t72\\npull*\\t20\\t100\\t101\\npulse\\t70\\t71\\npungen*\\t60\\npunish*\\t30\\t32\\t34\\t80\\t83\\npuny\\t80\\t83\\npurchas*\\t113\\npure\\t50\\t55\\npurely\\t50\\t55\\npureness\\t50\\t55\\npurer\\t21\\t22\\npurest\\t21\\t22\\t50\\t55\\npurgator*\\t114\\npuritan*\\t114\\npurity\\t50\\t55\\npurple\\t60\\t61\\npurpose*\\t50\\t52\\t80\\t82\\npush\\t20\\t100\\t101\\npushe*\\t20\\t100\\t101\\npushier\\t21\\t22\\npushiest\\t21\\t22\\npushing\\t20\\t100\\t101\\npushup*\\t100\\t101\\npushy\\t30\\t32\\t34\\t80\\t83\\npuss\\t70\\t72\\npussies\\t70\\t71\\t73\\t120\\t121\\npussy*\\t70\\t71\\t73\\t120\\t121\\nput\\t20\\t100\\t101\\nputs\\t20\\t91\\t100\\t101\\nputting\\t100\\t101\\npuzzl*\\t50\\t54\\nqualifi*\\t110\\nquarter*\\t24\\nqueas*\\t30\\t32\\t70\\t72\\nqueen\\t40\\t43\\t80\\t82\\t83\\nqueen's\\t40\\t43\\t80\\t83\\nqueens\\t40\\t43\\t80\\t83\\nqueer*\\t70\\t73\\nquer*\\t50\\t51\\nquestion\\t40\\t50\\t51\\t54\\nquestioned\\t20\\t50\\t51\\t54\\t90\\nquestioning\\t20\\t50\\t51\\t54\\nquestions\\t50\\t51\\t54\\nquick\\t100\\t103\\nquicken*\\t100\\t103\\nquicker\\t21\\t22\\t100\\t103\\nquickest\\t21\\t22\\t100\\t103\\nquickly\\t100\\t101\\t103\\nquiet\\t21\\t60\\t62\\nquieter\\t21\\t22\\t60\\t62\\nquietest\\t21\\t22\\t60\\t62\\nquietly\\t60\\t62\\nquit\\t20\\t80\\t82\\nquite\\t50\\t54\\nquitt*\\t80\\t82\\nquiz*\\t110\\nqur'an*\\t114\\nquran*\\t114\\nr\\t120\\t122\\nrabbi\\t80\\t83\\t114\\nrabbinal\\t80\\t83\\nrabbinical\\t21\\t114\\nrabbis\\t114\\nradian*\\t30\\t31\\nradio*\\t60\\t62\\t111\\nrage*\\t30\\t32\\t34\\nraging\\t30\\t32\\t34\\nramadan\\t114\\nran\\t20\\t90\\t100\\t101\\nrancid*\\t30\\t32\\t60\\nrandom\\t21\\t50\\t54\\nrandomly\\t50\\t54\\nrandomness\\t50\\t54\\nrang\\t20\\t60\\t62\\nrank\\t80\\t82\\t83\\nranked\\t80\\t82\\t90\\nranking\\t80\\t82\\nranks\\t80\\t82\\nrap\\t60\\t62\\t111\\nrape*\\t30\\t32\\t34\\t70\\t73\\nrapid\\t21\\t100\\t101\\nraping\\t30\\t32\\t34\\t70\\t73\\nrapist*\\t30\\t32\\t34\\t70\\t73\\nrare\\t21\\nrarely\\t1\\t13\\t100\\t103\\nrarer\\t21\\t22\\nrarest\\t21\\t22\\nrash*\\t70\\t71\\t72\\nrather\\t1\\t13\\t50\\t53\\t56\\nrational*\\t50\\t51\\t52\\nraw\\t21\\nreact*\\t50\\t52\\nread\\t20\\t110\\nreadiness\\t30\\t31\\nreading\\t20\\nready\\t30\\t31\\nrealization*\\t50\\t51\\nrealize\\t20\\t50\\t51\\t91\\nrealized\\t20\\t50\\t51\\t90\\nrealizes\\t20\\t50\\t51\\t91\\nrealizing\\t20\\t50\\t51\\nreally\\t1\\t13\\t50\\t56\\nreaper*\\t115\\nrearrang*\\t50\\t51\\t110\\nreason*\\t50\\t51\\t52\\nreassur*\\t30\\t31\\t40\\nrebate*\\t113\\nrebel*\\t30\\t32\\t34\\t50\\t51\\t80\\t83\\nrecall*\\t50\\t51\\nreceiv*\\t40\\t100\\t101\\t103\\nrecency\\t100\\t103\\nrecent*\\t21\\t22\\t100\\t103\\nrecession*\\t110\\t113\\nrecogni*\\t50\\t51\\nrecollect*\\t50\\t51\\t90\\nrecommend*\\t40\\nreconcil*\\t50\\t51\\t80\\t81\\nreconsider*\\t50\\t51\\nreconstruct*\\t50\\t51\\t110\\nrecording*\\t111\\nrecover*\\t80\\t82\\nrecreation*\\t111\\nrecruit*\\t110\\nrectang*\\t60\\t61\\nrecur*\\t100\\t103\\nred\\t21\\t60\\t61\\nredbox*\\t111\\nredden*\\t60\\t61\\nreddit*\\t111\\t120\\t122\\nreek*\\t30\\t32\\t60\\nreevaluat*\\t50\\t51\\nrefer*\\t50\\t51\\nreflect*\\t50\\t51\\nrefrain*\\t80\\t85\\nrefund*\\t113\\nrefus*\\t40\\t80\\t83\\nregarding\\t1\\t11\\nregardless\\t50\\t53\\nreggae\\t111\\nregion*\\t100\\t102\\nregister*\\t110\\nregistra*\\t110\\nregret*\\t30\\t32\\t35\\t50\\t53\\nregular\\t21\\nregularly\\t1\\t13\\t100\\t103\\nregulat*\\t80\\t83\\t110\\nrehab*\\t70\\t72\\nreign*\\t80\\t83\\nreimburs*\\t113\\nreinvigor*\\t30\\t31\\nreject*\\t30\\t32\\t35\\t80\\t83\\nrejoice*\\t30\\t31\\nrelate*\\t40\\t50\\t51\\nrelating\\t20\\t50\\t51\\nrelation\\t50\\t51\\t80\\t81\\nrelations\\t50\\t51\\t80\\t81\\nrelationship*\\t40\\t80\\t81\\nrelative\\t100\\nrelatively\\t1\\t13\\nrelatives\\t40\\t41\\t80\\t81\\nrelax*\\t30\\t31\\t111\\nrelevant\\t21\\nrelief\\t30\\t31\\nreliev*\\t30\\t31\\nreligio*\\t114\\nreluctan*\\t30\\t32\\t33\\t80\\t85\\nremaining\\t25\\nremark*\\t60\\t62\\nremember\\t20\\t50\\t51\\t90\\nremembered\\t20\\t50\\t51\\t90\\nremembering\\t20\\t50\\t51\\t90\\nremembers\\t20\\t50\\t51\\t90\\nremembrance*\\t90\\t115\\nremodel*\\t112\\nremorse*\\t30\\t32\\t35\\nremote*\\t100\\t102\\nremov*\\t100\\t101\\nrendez-vous\\t80\\t81\\nrendezvous\\t80\\t81\\nrenovat*\\t112\\nrent*\\t112\\t113\\nreorgani*\\t50\\t51\\t110\\nrepeat*\\t100\\t103\\nrepetit*\\t100\\t103\\nreplace*\\t100\\t101\\nreplacing\\t20\\t100\\t101\\nreplie*\\t40\\nreply*\\t40\\nreport*\\t110\\nrepress*\\t30\\t32\\t33\\nrequest*\\t40\\t80\\t83\\nrequir*\\t110\\nresearch*\\t110\\nresent*\\t30\\t32\\t34\\nresiden*\\t112\\nresign*\\t30\\t32\\t35\\nresist*\\t80\\t83\\nresolu*\\t50\\t51\\nresolv*\\t30\\t31\\t50\\t51\\t80\\t82\\nresource\\t110\\nresourceful*\\t80\\t82\\nresources\\t110\\nresourcing\\t20\\t110\\nrespect\\t30\\t31\\t80\\t83\\nrespected\\t30\\t31\\t80\\t83\\nrespectful\\t21\\t30\\t31\\t80\\t83\\nrespectfully\\t30\\t31\\t80\\t83\\nrespecting\\t1\\t11\\t30\\t31\\t80\\t83\\nrespective\\t21\\t50\\t56\\nrespectively\\t1\\t13\\t100\\t103\\nrespects\\t80\\t83\\nrespond*\\t40\\nresponse*\\t50\\t52\\nresponsib*\\t110\\nrestau*\\t70\\t74\\t111\\nresting\\t20\\t111\\nrestless*\\t30\\t32\\t33\\nrestructur*\\t50\\t51\\t110\\nresult*\\t50\\t52\\nresume*\\t110\\nretail*\\t110\\t113\\nretard*\\t120\\t121\\nrethink*\\t50\\t51\\nretina*\\t70\\t71\\nretire*\\t110\\nretiring\\t110\\nreturn*\\t100\\t103\\nretweet*\\t80\\t81\\t120\\t122\\nreunion*\\t80\\t81\\nreunite*\\t80\\t81\\nreveal*\\t50\\t51\\t60\\t61\\nrevelat*\\t50\\t51\\nrevenge*\\t30\\t32\\t34\\nrevenue*\\t113\\nreview*\\t110\\nrevis*\\t110\\nrevolution*\\t80\\t83\\nrevolve\\t20\\t91\\t100\\t101\\nrevolved\\t20\\t90\\t100\\t101\\nrevolves\\t20\\t91\\t100\\t101\\nrevolving\\t20\\t100\\t101\\nreward*\\t30\\t31\\t80\\t82\\t84\\nrhetor*\\t110\\nrhythm*\\t100\\t103\\nrib\\t70\\t71\\nribs\\t70\\t71\\nrice\\t70\\t74\\nrich\\t21\\t30\\t31\\t80\\t83\\t113\\nricher\\t21\\t22\\t30\\t31\\t80\\t83\\t113\\nriches\\t30\\t31\\t80\\t83\\t113\\nrichest\\t21\\t22\\t30\\t31\\t80\\t83\\t113\\nridden\\t100\\t101\\nride\\t100\\t101\\nrides\\t100\\t101\\nridicul*\\t30\\t32\\t34\\nriding\\t20\\t100\\t101\\nright\\t100\\t102\\nrigid\\t21\\t30\\t32\\t33\\nrigidity\\t30\\t32\\t33\\nrigidly\\t30\\t32\\t33\\nring\\t60\\t62\\nringing\\t20\\t60\\t62\\nringleader*\\t80\\t83\\nrings\\t60\\t62\\nrise*\\t100\\t101\\t102\\nrising\\t100\\t101\\nrisk*\\t30\\t32\\t33\\t80\\t85\\nritalin\\t70\\t72\\nrite\\t114\\t120\\t122\\nrites\\t114\\nritual*\\t114\\nroad*\\t100\\t102\\nrock\\t111\\nrocks\\t111\\nrode\\t20\\t90\\t100\\t101\\nrofl*\\t30\\t31\\t120\\t122\\nrole*\\t40\\nroll\\t100\\t101\\nroller*\\t111\\nrolling\\t100\\t101\\nromanc*\\t30\\t31\\t80\\t81\\nromantic*\\t30\\t31\\t80\\t81\\nrookie*\\t80\\t83\\nroom\\t100\\t102\\t112\\nroomate*\\t40\\t42\\t100\\t102\\t112\\nroomed\\t20\\t40\\t90\\t100\\t102\\t112\\nroomie*\\t40\\t42\\t80\\t81\\t100\\t102\\t112\\nrooming\\t20\\t40\\t100\\t102\\t112\\nroommate*\\t40\\t42\\t80\\t81\\t100\\t102\\t112\\nrooms\\t100\\t102\\t112\\nroot*\\t50\\t52\\nrosaries\\t114\\nrosary\\t114\\nrosh-hashan*\\t114\\nroshhashan*\\t114\\nrotate\\t100\\t101\\nrotated\\t100\\t101\\nrotates\\t100\\t101\\nrotating\\t100\\t101\\nrotation*\\t100\\t101\\nrotten\\t21\\t30\\t32\\t60\\nrough\\t21\\t60\\t63\\nrougher\\t21\\t22\\t60\\t63\\nroughest\\t21\\t22\\t60\\t63\\nround\\t21\\t60\\t61\\t63\\nrounder\\t21\\t22\\t60\\t61\\t63\\nroundest\\t21\\t22\\t60\\t61\\t63\\nroute*\\t100\\t102\\nrowing\\t20\\t111\\nroyal\\t21\\t80\\t83\\nroyalty\\t80\\t83\\nrp\\t120\\t122\\nrr*\\t120\\t125\\nrt\\t40\\t120\\t122\\t123\\nrub\\t20\\t60\\t63\\t91\\nrubbed\\t20\\t60\\t63\\t90\\nrubbing\\t20\\t60\\t63\\nruble*\\t113\\nrubs\\t20\\t60\\t63\\t91\\nrude\\t21\\t30\\t32\\t34\\nrudely\\t30\\t32\\t34\\nrug\\t112\\nrugby*\\t111\\nrugs\\t112\\nruin*\\t30\\t32\\t35\\nrule\\t80\\t83\\nruler\\t80\\t83\\nrules\\t80\\t83\\nruling\\t80\\t83\\nrum\\t70\\t74\\t111\\nrumor*\\t40\\nrumour*\\t40\\nrun\\t20\\t91\\t100\\t101\\nrunner*\\t100\\t101\\t111\\nrunning\\t20\\t100\\t101\\t111\\nruns\\t20\\t91\\t100\\t101\\nrupee*\\t113\\nrush*\\t100\\t101\\nrx\\t70\\t72\\ns'pose\\t50\\t54\\nsabbath*\\t114\\nsaccharine\\t60\\nsacred\\t21\\t114\\nsacrific*\\t114\\nsad\\t21\\t30\\t32\\t35\\nsadder\\t21\\t22\\t30\\t32\\t35\\nsaddest\\t21\\t22\\t30\\t32\\t35\\nsadly\\t30\\t32\\t35\\nsadness\\t30\\t32\\t35\\nsafe\\t21\\t30\\t31\\t80\\t85\\nsafely\\t30\\t31\\t80\\t85\\nsafer\\t21\\t22\\t30\\t31\\t80\\t85\\nsafest\\t21\\t22\\t30\\t31\\t80\\t85\\nsafety\\t30\\t31\\t80\\t85\\nsaid\\t20\\t40\\t60\\t62\\t90\\nsailing\\t111\\nsaint*\\t114\\nsalad*\\t70\\t74\\nsalar*\\t110\\t113\\nsale\\t113\\nsales\\t113\\nsaliv*\\t60\\t70\\t71\\nsalsa\\t70\\t74\\nsalt\\t60\\t70\\t74\\nsalty\\t21\\t60\\t70\\t74\\nsalvation\\t114\\nsame\\t21\\t22\\nsampl*\\t25\\nsand\\t60\\t63\\nsands\\t60\\t63\\nsandwich*\\t70\\t74\\nsandy\\t21\\t60\\t63\\nsane\\t21\\nsang\\t20\\t60\\t62\\t90\\t111\\nsank\\t20\\t90\\t100\\t101\\nsans\\t1\\t11\\nsarcas*\\t30\\t32\\t34\\nsat\\t20\\t90\\t100\\t103\\nsatan*\\t114\\nsatisf*\\t30\\t31\\nsaturday*\\t100\\t103\\nsauce\\t70\\t74\\nsauces\\t70\\t74\\nsausage*\\t70\\t74\\nsavage*\\t30\\t32\\t34\\nsave\\t20\\t30\\t31\\t91\\nsaving*\\t113\\nsavor*\\t60\\nsavour*\\t60\\nsaw\\t20\\t60\\t61\\t90\\nsay\\t20\\t40\\t60\\t62\\t91\\nsaying\\t20\\t40\\t60\\t62\\nsays\\t20\\t40\\t60\\t62\\t91\\nscab*\\t70\\t72\\nscalp\\t70\\t71\\nscan\\t60\\t61\\nscann*\\t60\\t61\\nscans\\t60\\t61\\nscarce\\t21\\t25\\nscarcer\\t21\\t22\\t25\\nscarcest\\t21\\t22\\t25\\nscare\\t30\\t32\\t33\\nscared\\t21\\t30\\t32\\t33\\nscares\\t20\\t30\\t32\\t33\\t91\\nscarier\\t21\\t22\\t30\\t32\\t33\\nscariest\\t21\\t22\\t30\\t32\\t33\\nscaring\\t20\\t30\\t32\\t33\\nscary\\t21\\t30\\t32\\t33\\nscent*\\t60\\nsceptic*\\t30\\t32\\t34\\nschedul*\\t100\\t103\\t110\\nschizophren*\\t70\\t72\\nscholar\\t110\\nscholarly\\t21\\t110\\nscholars\\t110\\nscholarship*\\t110\\t113\\nscholastic*\\t110\\nschool\\t110\\nschoolboy*\\t40\\t44\\nschoolgirl*\\t40\\t43\\nschooling\\t110\\nschoolmate\\t40\\t42\\nschools\\t110\\nschoolwork\\t110\\nscien*\\t110\\nscoot\\t100\\t101\\nscore*\\t80\\t84\\nscoring\\t80\\t84\\nscrabble\\t111\\nscrapbook*\\t111\\nscrape*\\t70\\t72\\nscratch*\\t60\\t63\\nscream*\\t30\\t32\\t60\\t62\\nscreen\\t60\\t61\\nscrew*\\t30\\t32\\t34\\t70\\t73\\t120\\t121\\nscriptur*\\t114\\nscrumptious*\\t21\\t30\\t31\\t60\\nsculpt*\\t111\\nscum*\\t80\\t83\\nsearch\\t60\\t61\\nsearched\\t60\\t61\\t90\\nsearches\\t60\\t61\\t91\\nsearching\\t60\\t61\\nseason*\\t100\\t103\\nsecond\\t24\\nseconds\\t100\\t103\\nsecret\\t21\\t40\\t50\\t51\\nsecretar*\\t110\\nsecretive\\t21\\t40\\t50\\t51\\nsecretively\\t40\\t50\\t51\\nsecretly\\t40\\nsecrets\\t40\\t50\\t51\\nsect\\t114\\nsectarian\\t114\\nsection\\t25\\t100\\t102\\nsector*\\t100\\t102\\t110\\nsects\\t114\\nsecur*\\t30\\t31\\t80\\t85\\nseduc*\\t70\\t73\\nsee\\t20\\t60\\t61\\t91\\nseeing\\t20\\t60\\t61\\nseem\\t20\\t50\\t51\\t54\\t91\\nseemed\\t20\\t50\\t51\\t54\\t90\\nseeming*\\t50\\t51\\t54\\nseems\\t20\\t50\\t51\\t54\\t91\\nseen\\t20\\t60\\t61\\t90\\nsees\\t20\\t60\\t61\\t91\\nsegment*\\t25\\t100\\t102\\nseize*\\t80\\t84\\nseizure*\\t70\\t72\\nseldom\\t21\\t100\\t103\\nseldomly\\t1\\t13\\t100\\t103\\nself\\t40\\nselfie*\\t60\\t61\\t111\\t120\\t122\\nselfish*\\t30\\t32\\nsell\\t20\\t91\\t113\\nseller*\\t113\\nselling\\t20\\t113\\nsells\\t20\\t91\\t113\\nsemester*\\t100\\t103\\t110\\nseminar\\t110\\nseminars\\t110\\nseminary\\t114\\nsenat*\\t80\\t83\\nsend\\t20\\t40\\t91\\t100\\t101\\nsender\\t40\\t100\\t101\\nsending\\t20\\t40\\t100\\t101\\nsends\\t20\\t40\\t91\\t100\\t101\\nsenior*\\t80\\t83\\t100\\t103\\t110\\nsenor\\t40\\t44\\t80\\t83\\nsenora\\t40\\t43\\t80\\t83\\nsenorita\\t40\\t43\\nsensation\\t60\\t63\\t70\\t71\\nsensations\\t60\\t63\\t70\\t71\\nsense\\t50\\t51\\t60\\nsensed\\t20\\t50\\t51\\t60\\t90\\nsenses\\t50\\t51\\t60\\nsensing\\t20\\t50\\t51\\t60\\nsensitive\\t21\\nsent\\t20\\t40\\t90\\t100\\t101\\nsentimental*\\t30\\t31\\nseparat*\\t50\\t56\\t100\\t102\\nseptember*\\t100\\t103\\nsequen*\\t100\\t103\\nseries\\t25\\nserious\\t21\\t30\\t32\\nseriously\\t1\\t13\\t30\\t32\\nseriousness\\t30\\t32\\nservant*\\t80\\t83\\nservic*\\t110\\nservings\\t70\\t74\\nses\\t80\\t83\\nsession*\\t110\\nseven*\\t24\\nseveral*\\t25\\nsevere*\\t30\\t32\\nsex\\t70\\t73\\nsexier\\t21\\t22\\t70\\t73\\nsexiest\\t21\\t22\\t70\\t73\\nsexily\\t70\\t73\\nsexiness\\t70\\t73\\nsexing\\t20\\t70\\t73\\nsexless*\\t70\\t73\\nsexploit*\\t70\\t73\\t80\\t83\\nsexpot*\\t70\\t73\\nsext*\\t70\\t73\\t80\\t81\\nsexual*\\t70\\t73\\nsexy\\t21\\t30\\t31\\t70\\t73\\nshadier\\t21\\t22\\nshadiest\\t21\\t22\\nshadow\\t60\\t61\\nshady\\t21\\nshake*\\t30\\t32\\t33\\t100\\t101\\nshaki*\\t30\\t32\\t33\\nshaky\\t21\\t30\\t32\\t33\\t50\\t54\\nshall\\t1\\t12\\t20\\t92\\nshame*\\t30\\t32\\t33\\t80\\t83\\nshan't\\t1\\t12\\t15\\t20\\t92\\nshant\\t1\\t12\\t15\\t20\\t92\\nshape*\\t100\\t102\\nshaping*\\t20\\t100\\t102\\nshare\\t30\\t31\\t40\\t80\\t81\\t91\\nshared\\t20\\t30\\t31\\t40\\t80\\t81\\t90\\nshareholder*\\t110\\t113\\nshares\\t30\\t31\\t40\\t80\\t81\\t91\\nsharing\\t20\\t30\\t31\\t40\\t80\\t81\\nsharp*\\t60\\t63\\nshe\\t1\\t2\\t3\\t7\\t40\\t43\\nshe'd\\t1\\t2\\t3\\t7\\t12\\t20\\t40\\t43\\nshe'll\\t1\\t2\\t3\\t7\\t12\\t20\\t40\\t43\\t92\\nshe's\\t1\\t2\\t3\\t7\\t12\\t20\\t40\\t43\\t91\\nshe-*\\t40\\t43\\nshes\\t1\\t2\\t3\\t7\\t12\\t20\\t40\\t91\\nshi'*\\t114\\nshiite*\\t114\\nshilling*\\t113\\nshine\\t60\\t61\\nshini*\\t60\\t61\\nshiny\\t21\\t60\\t61\\nshirt*\\t70\\t71\\nshit*\\t30\\t32\\t34\\t70\\t71\\t120\\t121\\nshock*\\t30\\t32\\nshoe*\\t70\\t71\\nshook\\t20\\t30\\t32\\t33\\t90\\t100\\t101\\nshop\\t111\\t113\\nshopaholic*\\t111\\t113\\nshopp*\\t111\\t113\\nshops\\t111\\t113\\nshort\\t21\\t100\\t102\\nshorter\\t21\\t22\\t100\\t102\\nshortest\\t21\\t22\\t100\\t102\\nshortly\\t1\\t13\\t100\\t102\\nshould\\t1\\t12\\t20\\t50\\t53\\nshould'nt\\t1\\t12\\t15\\t20\\t50\\t53\\nshould've\\t1\\t12\\t20\\t50\\t53\\t90\\nshoulder*\\t70\\t71\\nshouldn't\\t1\\t12\\t15\\t20\\t50\\t53\\nshouldnt\\t1\\t12\\t15\\t20\\t50\\t53\\nshouldve\\t1\\t12\\t20\\t50\\t53\\t90\\nshout*\\t60\\t62\\nshove\\t20\\t91\\t100\\t101\\nshoved\\t20\\t90\\t100\\t101\\nshoves\\t20\\t91\\t100\\t101\\nshoving\\t20\\t100\\t101\\nshow\\t60\\t61\\nshowed\\t20\\t60\\t61\\t90\\nshower*\\t112\\nshowing\\t60\\t61\\nshows\\t60\\t61\\nshrine*\\t114\\nshrooms\\t111\\nshrug*\\t20\\t100\\t101\\nshut\\t20\\t21\\t100\\t102\\nshy\\t21\\t30\\t32\\t33\\t40\\nshyly\\t30\\t32\\t33\\t40\\nshyness\\t30\\t32\\t33\\t40\\nsibling*\\t40\\t41\\t80\\t81\\nsick\\t21\\t30\\t32\\t70\\t72\\nsickday*\\t70\\t72\\t110\\nsicken*\\t30\\t32\\nsicker\\t21\\t22\\t30\\t32\\t70\\t72\\nsickest\\t21\\t22\\t30\\t32\\t70\\t72\\nsickleave*\\t70\\t72\\t110\\nsickly\\t21\\t30\\t32\\t70\\t72\\nsickness*\\t70\\t72\\nside\\t100\\t102\\nsidekick*\\t40\\t42\\nsides\\t100\\t102\\nsiding\\t100\\t102\\nsigh\\t20\\t30\\t32\\t35\\t91\\t120\\t124\\nsighed\\t20\\t30\\t32\\t35\\t90\\t120\\t124\\nsighing\\t20\\t30\\t32\\t35\\t120\\t124\\nsighs\\t20\\t30\\t32\\t35\\t91\\t120\\t124\\nsight*\\t60\\t61\\nsikh*\\t114\\nsilen*\\t60\\t62\\nsilk*\\t60\\t63\\nsillier\\t21\\t22\\t30\\t31\\nsilliest\\t21\\t22\\t30\\t31\\nsilly\\t21\\t30\\t31\\nsimilar*\\t21\\t22\\nsimple\\t21\\nsimpler\\t21\\t22\\nsimplest\\t21\\t22\\nsimply\\t1\\t13\\nsimultaneous*\\t100\\t103\\nsin\\t30\\t32\\t114\\nsince\\t1\\t11\\t50\\t52\\t100\\t103\\nsincer*\\t30\\t31\\nsing\\t20\\t60\\t62\\t91\\t111\\nsinging\\t20\\t60\\t62\\t111\\nsingle\\t21\\t24\\t25\\nsingles\\t25\\nsingly\\t25\\nsings\\t20\\t60\\t62\\t91\\t111\\nsinister\\t21\\t30\\t32\\t34\\nsinking\\t20\\t100\\t101\\nsinn*\\t114\\nsins\\t30\\t32\\t114\\nsinus*\\t70\\t72\\nsir\\t40\\t44\\t80\\t83\\nsis\\t40\\t41\\t43\\t120\\nsister*\\t40\\t41\\t43\\t80\\t81\\nsit\\t20\\t91\\t100\\t102\\nsite\\t100\\t102\\nsites\\t100\\t102\\nsits\\t20\\t91\\t100\\t102\\nsitting\\t20\\t100\\t102\\nsix*\\t24\\nskank*\\t120\\t121\\nskat*\\t111\\nskelet*\\t70\\t71\\nskeptic*\\t30\\t50\\t51\\t54\\nski\\t20\\t111\\nskied\\t20\\t90\\t111\\nskier*\\t111\\nskiing\\t20\\t111\\nskill*\\t80\\t82\\t110\\nskin\\t60\\t63\\t70\\t71\\nskin'*\\t60\\t63\\t70\\t71\\nskinnier\\t21\\t22\\nskinniest\\t21\\t22\\nskinny\\t21\\nskis\\t111\\nskull*\\t70\\t71\\nsky*\\t100\\t102\\nslain\\t90\\t115\\nslaughter*\\t115\\nslave*\\t80\\t83\\nslay*\\t20\\t115\\nsleep\\t70\\t71\\nsleepier\\t21\\t22\\t70\\t71\\nsleepiest\\t21\\t22\\t70\\t71\\nsleeping\\t20\\t21\\t70\\t71\\nsleepless*\\t70\\t71\\nsleeps\\t20\\t70\\t71\\t91\\nsleepwalk*\\t20\\t70\\t71\\nsleepy\\t21\\t70\\t71\\nslender\\t21\\nslept\\t20\\t70\\t71\\t90\\nslid\\t20\\t90\\t100\\t101\\nslide\\t20\\t91\\t100\\t101\\nslides\\t20\\t91\\t100\\t101\\nsliding\\t20\\t100\\t101\\nslight\\t21\\nslip\\t100\\t101\\nslipping\\t100\\t101\\nslow\\t21\\t100\\t101\\t103\\nslowed\\t20\\t90\\t100\\t101\\t103\\nslower\\t21\\t22\\t100\\t101\\t103\\nslowest\\t21\\t22\\t100\\t101\\t103\\nslowing\\t20\\t100\\t101\\t103\\nslowly\\t100\\t101\\t103\\nslows\\t20\\t91\\t100\\t101\\t103\\nslut*\\t30\\t32\\t70\\t73\\t120\\t121\\nsmall\\t21\\t80\\t83\\t100\\t102\\nsmaller\\t21\\t22\\t80\\t83\\t100\\t102\\nsmallest\\t21\\t22\\t80\\t83\\t100\\t102\\nsmart\\t21\\t30\\t31\\nsmarter\\t21\\t22\\t30\\t31\\nsmartest\\t21\\t22\\t30\\t31\\nsmartly\\t30\\t31\\nsmell*\\t60\\nsmh\\t30\\t32\\t120\\t122\\nsmil*\\t30\\t31\\nsmok*\\t70\\t74\\nsmooth*\\t60\\t63\\nsmother*\\t30\\t32\\t34\\nsms\\t40\\t80\\t81\\t120\\t122\\nsmsed\\t40\\t80\\t81\\t90\\t120\\t122\\nsmug*\\t30\\t32\\nsnack*\\t70\\t74\\nsnag*\\t80\\t84\\nsnapchat*\\t40\\t80\\t81\\t111\\t120\\t122\\nsniff*\\t60\\nsnob*\\t30\\t32\\t34\\t40\\t80\\t83\\nsnort*\\t60\\nso\\t1\\t13\\t14\\nsob\\t20\\t30\\t32\\t35\\t91\\nsobbed\\t20\\t30\\t32\\t35\\t90\\nsobbing\\t20\\t30\\t32\\t35\\nsober\\t21\\nsobs\\t20\\t30\\t32\\t35\\t91\\nsoccer*\\t111\\nsociability\\t30\\t31\\t40\\t80\\t81\\nsociable\\t21\\t30\\t31\\t40\\t80\\t81\\nsocial\\t40\\t80\\t81\\nsocially\\t40\\t80\\t81\\nsociet*\\t40\\nsoda*\\t70\\t74\\nsofa*\\t112\\nsoft\\t21\\t60\\t63\\nsofter\\t21\\t22\\t60\\t63\\nsoftest\\t21\\t22\\t60\\t63\\nsoftly\\t60\\t63\\nsold\\t20\\t90\\t113\\nsoldier\\t80\\t83\\nsoldiers\\t80\\t83\\nsolemn*\\t30\\t32\\t35\\nsolitaire\\t111\\nsolitary\\t21\\nsolution*\\t50\\t51\\t52\\t80\\t82\\nsolve\\t20\\t50\\t51\\t52\\t80\\t82\\t91\\nsolved\\t20\\t50\\t51\\t52\\t80\\t82\\t90\\nsolves\\t20\\t50\\t51\\t52\\t80\\t82\\t91\\nsolving\\t20\\t50\\t51\\t52\\t80\\t82\\nsome\\t25\\t50\\t54\\nsomebod*\\t1\\t2\\t9\\t40\\t50\\t54\\nsomeday\\t50\\t54\\t92\\nsomehow\\t1\\t13\\t50\\t54\\nsomeone*\\t1\\t2\\t9\\t40\\t50\\t54\\nsomething*\\t1\\t2\\t9\\t50\\t54\\nsometime\\t50\\t54\\t92\\t100\\t103\\nsometimes\\t50\\t54\\t100\\t103\\nsomewhat\\t1\\t13\\t25\\t50\\t54\\nsomewhere\\t1\\t2\\t13\\t50\\t54\\t100\\t102\\nson\\t40\\t41\\t44\\nson's\\t40\\t41\\t44\\nson-in-law*\\t40\\t41\\t44\\nsong*\\t60\\t62\\t111\\nsonofa*\\t120\\t121\\nsons\\t40\\t41\\t44\\nsony\\t111\\nsoon\\t1\\t13\\t92\\t100\\t103\\nsooner\\t21\\t22\\t92\\t100\\t103\\nsoonest\\t21\\t22\\t92\\t100\\t103\\nsooo*\\t1\\t13\\t120\\t122\\nsophom*\\t110\\nsore\\t21\\t70\\t72\\nsororit*\\t40\\t43\\t80\\t81\\nsorrow*\\t30\\t32\\t35\\nsorry\\t21\\t30\\t32\\t35\\nsort\\t50\\t54\\nsorta\\t50\\t54\\nsortof\\t50\\t54\\nsorts\\t50\\t54\\nsortsa\\t50\\t54\\nsought\\t50\\t51\\t60\\t61\\t90\\nsoul\\t114\\nsoulmate*\\t30\\t31\\t40\\t42\\t80\\t81\\nsouls\\t114\\nsound*\\t60\\t62\\nsoup*\\t70\\t74\\nsour\\t21\\t60\\nsource*\\t50\\t52\\nsouth*\\t100\\t102\\nsovereign*\\t80\\t83\\nsp\\t120\\t122\\nspa\\t111\\nspace\\t100\\t102\\nspaced\\t100\\t102\\nspaces\\t100\\t102\\nspaci*\\t100\\t102\\nspaghetti\\t70\\t74\\nspan\\t100\\t102\\nspann*\\t100\\t102\\nspas\\t111\\nspat\\t70\\t71\\t90\\nspeak\\t20\\t40\\t60\\t62\\t91\\nspeaker*\\t60\\t62\\nspeaking\\t20\\t40\\t60\\t62\\nspeaks\\t20\\t40\\t60\\t62\\t91\\nspearhead*\\t80\\t83\\nspecial\\t21\\t30\\t31\\nspecific\\t21\\t50\\t55\\nspecifically\\t1\\t13\\t50\\t55\\nspecifics\\t50\\t55\\nsped\\t20\\t90\\t100\\t103\\nspeech*\\t60\\t62\\nspeed*\\t100\\t103\\nspend\\t20\\t91\\t113\\nspender\\t113\\nspending\\t20\\t113\\nspends\\t20\\t91\\t113\\nspent\\t20\\t90\\t113\\nspice\\t60\\nspiced\\t60\\nspices\\t60\\nspicy\\t21\\t60\\nspin\\t20\\t91\\t100\\t101\\nspinal\\t21\\t70\\t71\\nspine\\t70\\t71\\nspiral\\t100\\t101\\nspirit*\\t114\\nspit\\t70\\t71\\nspite*\\t30\\t32\\t34\\nspits\\t20\\t70\\t71\\t91\\nspitting\\t20\\t70\\t71\\nsplendid\\t21\\t30\\t31\\nsplendidly\\t30\\t31\\nsplendor\\t30\\t31\\nspliff*\\t111\\nsplit*\\t50\\t56\\t100\\t102\\nspoke*\\t20\\t40\\t60\\t62\\t90\\nsport*\\t111\\nspose\\t20\\t50\\t54\\t91\\nspotify\\t111\\nspous*\\t40\\t41\\t80\\t81\\nsprawl*\\t100\\t102\\nspring\\t100\\t103\\nsprint*\\t100\\t101\\nspun\\t20\\t90\\t100\\t101\\nsquad*\\t40\\t42\\t80\\t81\\nsquare\\t21\\t60\\t61\\nsqueez*\\t60\\t63\\nsr\\t80\\t83\\nsra\\t80\\t83\\nstaff*\\t80\\t83\\t110\\nstair*\\t100\\t102\\nstale\\t30\\t32\\nstammer*\\t30\\t32\\nstandup\\t111\\nstank*\\t30\\t32\\t60\\nstapl*\\t110\\nstare*\\t20\\t60\\t61\\nstaring\\t20\\t60\\t61\\nstart\\t20\\t91\\t100\\t103\\nstart-up*\\t110\\nstarted\\t20\\t90\\t100\\t103\\nstarter*\\t100\\t103\\nstarting\\t20\\t100\\t103\\nstartl*\\t30\\t32\\t33\\nstarts\\t20\\t91\\t100\\t103\\nstartup*\\t100\\t103\\t110\\nstarve*\\t70\\t74\\nstarving\\t20\\t70\\t74\\nstatement*\\t50\\t51\\nstatus\\t80\\t83\\nstay\\t20\\t91\\t100\\t101\\t102\\nstayed\\t20\\t90\\t100\\t101\\t102\\nstaying\\t20\\t100\\t101\\t102\\nstays\\t20\\t91\\t100\\t101\\t102\\nstd*\\t70\\t72\\t73\\nsteal*\\t30\\t32\\t80\\t84\\nstench*\\t30\\t32\\t60\\nstep\\t100\\t101\\nstep-child*\\t40\\t41\\nstep-dad*\\t40\\t41\\t44\\nstep-dau*\\t40\\t41\\t43\\nstep-fath*\\t40\\t41\\t44\\nstep-kid*\\t40\\t41\\nstep-moth*\\t40\\t41\\t43\\nstep-son*\\t40\\t44\\nstepchild*\\t40\\t41\\nstepdad*\\t40\\t41\\t44\\nstepdau*\\t40\\t41\\t43\\nstepfath*\\t40\\t41\\t44\\nstepkid*\\t40\\t41\\nstepmoth*\\t40\\t41\\t43\\nstepp*\\t100\\t101\\nsteps\\t100\\t101\\nstepson\\t40\\t44\\nstfu\\t120\\t121\\t122\\nstiff\\t21\\t70\\t72\\nstiffer\\t21\\t22\\t70\\t72\\nstiffest\\t21\\t22\\t70\\t72\\nstiffly\\t70\\t72\\nstill\\t1\\t13\\t100\\t103\\nstimul*\\t50\\t52\\t60\\nstink\\t30\\t32\\t60\\nstinky\\t21\\t30\\t32\\t60\\nstipend*\\t110\\t113\\nstir\\t20\\t91\\t100\\t101\\nstirred\\t20\\t90\\t100\\t101\\nstirring\\t20\\t100\\t101\\nstirs\\t20\\t91\\t100\\t101\\nstock\\t110\\nstocked\\t20\\t90\\t110\\nstocks\\t110\\t113\\nstole\\t20\\t80\\t84\\t90\\nstomach*\\t70\\t71\\nstoned\\t111\\nstood\\t20\\t90\\nstop\\t80\\t85\\t100\\t103\\nstopped\\t20\\t80\\t85\\t90\\t100\\t103\\nstopping\\t20\\t80\\t85\\t100\\t103\\nstops\\t80\\t85\\t100\\t103\\nstore\\t113\\nstores\\t113\\nstories\\t40\\nstormy\\t21\\nstory\\t40\\nstove*\\t112\\nstraight\\t21\\t100\\t102\\nstraighter\\t21\\t22\\t100\\t102\\nstraightest\\t21\\t22\\t100\\t102\\nstrain*\\t30\\t32\\t33\\nstrange\\t21\\t30\\t32\\nstrangest\\t21\\t22\\t30\\t32\\nstrateg*\\t80\\t82\\nstreet*\\t100\\t102\\nstrength*\\t30\\t31\\t80\\t83\\nstrept*\\t70\\t72\\nstress*\\t30\\t32\\t33\\nstretch*\\t100\\t102\\nstrict\\t21\\nstricter\\t21\\t22\\nstrictest\\t21\\t22\\nstriv*\\t80\\t82\\nstroke*\\t60\\t63\\t70\\t72\\nstroki*\\t60\\t63\\nstrong\\t21\\t30\\t31\\t80\\t83\\nstronger\\t21\\t22\\t30\\t31\\t80\\t83\\nstrongest\\t21\\t22\\t30\\t31\\t80\\t83\\nstrongly\\t30\\t31\\t80\\t83\\nstruggl*\\t30\\t32\\t33\\t80\\t83\\nstubborn*\\t30\\t32\\t34\\nstuck\\t20\\t90\\t100\\t102\\nstud\\t70\\t73\\nstudent*\\t80\\t83\\t110\\nstudied\\t20\\t90\\t110\\nstudies\\t110\\nstudio\\t110\\t112\\nstudios\\t110\\t112\\nstudious\\t110\\nstuds\\t112\\nstudy*\\t110\\nstuff\\t1\\t2\\t9\\nstumble\\t20\\t91\\t100\\t101\\nstumbled\\t20\\t90\\t100\\t101\\nstumbles\\t20\\t91\\t100\\t101\\nstumbling\\t20\\t100\\t101\\nstun\\t20\\t91\\nstunk\\t30\\t32\\t60\\t90\\nstunned\\t30\\nstuns\\t20\\t30\\t91\\nstupid\\t21\\t30\\t32\\t34\\nstupider\\t21\\t22\\t30\\t32\\t34\\nstupidest\\t21\\t22\\t30\\t32\\t34\\nstupidity\\t30\\t32\\t34\\nstupidly\\t30\\t32\\t34\\nstutter*\\t30\\t32\\t60\\t62\\nsubjugate*\\t80\\t83\\nsubmissive*\\t80\\t83\\nsubmit*\\t20\\t80\\t83\\nsubordinat*\\t80\\t83\\nsubsequent\\t21\\t100\\t103\\nsubsequently\\t1\\t13\\t100\\t103\\nsubserv*\\t80\\t83\\nsubtle\\t21\\nsubvers*\\t80\\t83\\nsubvert*\\t80\\t83\\nsucceed*\\t30\\t31\\t80\\t82\\t84\\t110\\nsuccess\\t30\\t31\\t80\\t82\\t84\\t110\\nsuccesses\\t30\\t31\\t80\\t82\\t84\\t110\\nsuccessful\\t21\\t30\\t31\\t80\\t82\\t84\\t110\\nsuccessfully\\t30\\t31\\t80\\t82\\t84\\t110\\nsuccessive\\t21\\t100\\t103\\nsuch\\t1\\t13\\nsuck\\t20\\t30\\t32\\t34\\t91\\t120\\t121\\nsucked\\t20\\t30\\t32\\t34\\t90\\t120\\t121\\nsucker*\\t30\\t32\\t34\\nsucking\\t20\\nsucks\\t20\\t30\\t32\\t34\\t91\\t120\\t121\\nsucky\\t21\\t30\\t32\\t34\\nsudden\\t21\\t100\\t103\\nsuddenly\\t1\\t13\\t100\\t103\\nsuffer\\t20\\t30\\t32\\t35\\t91\\nsuffered\\t20\\t30\\t32\\t35\\t90\\nsufferer*\\t30\\t32\\t35\\nsuffering\\t20\\t30\\t32\\t35\\nsuffers\\t20\\t30\\t32\\t35\\t91\\nsugar\\t60\\t70\\t74\\nsugardadd*\\t40\\t44\\t113\\nsugarmam*\\t40\\t43\\t113\\nsugarmom*\\t40\\t43\\t113\\nsugars\\t60\\t70\\t74\\nsugary\\t21\\t60\\t70\\t74\\nsuggest*\\t40\\nsuicid*\\t115\\nsummer*\\t100\\t103\\nsumptuous*\\t60\\nsun\\t100\\t103\\nsunbath*\\t111\\nsunburn*\\t70\\t72\\nsunday*\\t100\\t103\\nsung\\t20\\t60\\t62\\t90\\t111\\nsunk\\t20\\t90\\t100\\t101\\nsunli*\\t60\\t61\\nsunni\\t114\\nsunnier\\t21\\t22\\t30\\t31\\t60\\t61\\nsunniest\\t21\\t22\\t30\\t31\\t60\\t61\\nsunnis\\t114\\nsunny\\t30\\t31\\t60\\t61\\nsunrise*\\t100\\t103\\nsunset*\\t100\\t103\\nsunshin*\\t30\\t31\\t60\\t61\\nsuper\\t21\\t30\\t31\\t80\\t82\\nsuperb*\\t30\\t31\\t80\\t82\\nsuperior\\t30\\t31\\t80\\t83\\t100\\t102\\nsuperiority\\t30\\t80\\t83\\nsuperiors\\t80\\t83\\nsuperstar*\\t80\\t83\\nsupervis*\\t80\\t83\\t110\\nsupper*\\t70\\t74\\nsupport\\t20\\t30\\t31\\t91\\nsupported\\t30\\t31\\t90\\nsupporter*\\t30\\t31\\nsupporting\\t30\\t31\\nsupportive\\t21\\t30\\t31\\nsupports\\t30\\t31\\t91\\nsuppose\\t20\\t50\\t54\\t91\\nsupposed\\t20\\t50\\t54\\t90\\nsupposedly\\t1\\t13\\t50\\t54\\nsupposes\\t20\\t50\\t54\\t91\\nsupposing\\t20\\t50\\t54\\nsupposition*\\t50\\t54\\nsuppress*\\t80\\t83\\t85\\nsuprem*\\t30\\t31\\nsure*\\t30\\t31\\t50\\t55\\nsurf\\t20\\t100\\t101\\t111\\nsurfac*\\t100\\t102\\nsurfed\\t20\\t90\\t100\\t101\\t111\\nsurfing\\t20\\t100\\t101\\t111\\nsurfs\\t20\\t100\\t101\\t111\\nsurgeon*\\t70\\t72\\nsurger*\\t70\\t72\\nsurpass*\\t80\\t82\\t84\\nsurprise\\t30\\t31\\nsurprised*\\t21\\t30\\t31\\nsurprising*\\t30\\t31\\nsurrender*\\t80\\t83\\nsurround*\\t100\\t102\\nsurviv*\\t80\\t82\\nsushi\\t70\\t74\\nsuspect*\\t50\\t51\\nsuspicio*\\t30\\t32\\t33\\t50\\t51\\nswallow*\\t70\\t74\\nswam\\t20\\t90\\t100\\t101\\nsway\\t20\\t91\\t100\\t101\\nsweat*\\t70\\t71\\nsweep*\\t112\\nsweet\\t21\\t30\\t31\\t60\\t70\\t74\\nsweeter\\t21\\t22\\t30\\t31\\t60\\t70\\t74\\nsweetest\\t21\\t22\\t30\\t31\\t60\\t70\\t74\\nsweetheart*\\t30\\t31\\t40\\t42\\t80\\t81\\nsweetie*\\t30\\t31\\t40\\t42\\t80\\t81\\nsweetly\\t30\\t31\\nsweetness*\\t30\\t31\\t60\\t70\\t74\\nsweets\\t30\\t31\\t60\\t70\\t74\\nswelling\\t70\\t72\\nswerve\\t20\\t91\\t100\\t101\\nswerved\\t20\\t90\\t100\\t101\\nswerves\\t20\\t91\\t100\\t101\\nswerving\\t20\\t100\\t101\\nswim*\\t100\\t101\\t111\\nswing\\t20\\t91\\t100\\t101\\nswinger*\\t70\\t73\\nswinging\\t20\\t100\\t101\\nswings\\t20\\t91\\t100\\t101\\nswivel*\\t100\\t101\\nswollen\\t21\\t70\\t72\\nswung\\t20\\t90\\t100\\t101\\nsyllabus*\\t110\\nsympath*\\t40\\t42\\t80\\t81\\nsymphon*\\t111\\nsymptom*\\t70\\t72\\nsynch*\\t100\\t103\\nsyndrome*\\t70\\t72\\nsyphili*\\t70\\t72\\t73\\ntaco*\\t70\\t74\\ntake\\t20\\t80\\t84\\t91\\ntaken\\t20\\t80\\t84\\t90\\ntakes\\t20\\t80\\t84\\t91\\ntaking\\t20\\t80\\t84\\ntalent*\\t30\\t31\\ntalk\\t40\\t91\\ntalkative\\t21\\t40\\ntalked\\t20\\t40\\t90\\ntalker*\\t40\\ntalking\\t20\\t40\\ntalks\\t20\\t40\\t91\\ntall\\t21\\t100\\t102\\ntaller\\t21\\t22\\t100\\t102\\ntallest\\t21\\t22\\t100\\t102\\ntangy\\t60\\ntanning\\t20\\t111\\ntantrum*\\t30\\t32\\t34\\ntart\\t21\\t60\\ntasks\\t110\\ntaste\\t60\\t70\\t74\\ntasted\\t20\\t60\\t70\\t74\\t90\\ntastes\\t20\\t60\\t70\\t74\\t91\\ntastier\\t21\\t22\\t60\\t70\\t74\\ntastiest\\t21\\t22\\t60\\t70\\t74\\ntasting\\t20\\t60\\t70\\t74\\ntasty\\t21\\t60\\t70\\t74\\ntaught\\t20\\t80\\t83\\t90\\t110\\ntax\\t110\\t113\\ntaxa*\\t110\\t113\\ntaxed\\t90\\t110\\t113\\ntaxes\\t110\\t113\\ntaxing\\t110\\t113\\ntbh\\t120\\t122\\ntea\\t70\\t74\\nteach*\\t80\\t83\\t110\\nteam*\\t40\\t80\\t81\\t82\\t110\\t111\\ntears\\t30\\t32\\t35\\nteas*\\t30\\t32\\t34\\t40\\ntechno\\t111\\ntedious\\t21\\t30\\t32\\nteehe*\\t30\\t31\\t120\\t122\\nteen\\t40\\t80\\t83\\nteenage*\\t40\\t80\\t83\\nteeth*\\t70\\t71\\ntelephon*\\t40\\t60\\t62\\ntelevision*\\t111\\ntell\\t20\\t40\\t91\\ntelling\\t20\\t40\\ntells\\t20\\t40\\t91\\ntemper\\t30\\t32\\t34\\ntempers\\t30\\t32\\t34\\ntemple*\\t114\\ntempora*\\t50\\t54\\t100\\t103\\nten\\t24\\ntenant*\\t112\\ntend\\t20\\t91\\ntended\\t20\\t90\\ntender\\t21\\t30\\t31\\t70\\t72\\ntenderly\\t30\\t31\\t70\\t72\\ntendon\\t70\\t71\\ntendoni*\\t70\\t72\\ntendons\\t70\\t71\\ntends\\t20\\t91\\ntennis*\\t111\\ntense\\t30\\t32\\t33\\ntensely\\t30\\t32\\t33\\ntensing\\t20\\t30\\t32\\t33\\ntension*\\t30\\t32\\t33\\ntentativ*\\t50\\t54\\t80\\t85\\ntenth\\t24\\ntenure*\\t110\\ntequila*\\t70\\t74\\t111\\nterm\\t100\\t103\\nterminat*\\t100\\t103\\nterrible\\t21\\t30\\t32\\nterribly\\t30\\t32\\nterrific\\t21\\t30\\t31\\nterrifically\\t30\\t31\\nterrified\\t21\\t30\\t32\\t33\\nterrifies\\t20\\t30\\t32\\t33\\t91\\nterrify\\t20\\t30\\t32\\t33\\nterrifying\\t21\\t30\\t32\\t33\\nterritor*\\t100\\t102\\nterror*\\t30\\t32\\t33\\t80\\t83\\nterrrify\\t91\\ntest\\t110\\ntestament*\\t114\\ntested\\t20\\t90\\t110\\ntesting\\t20\\t110\\ntestosterone*\\t70\\t72\\ntests\\t110\\ntextbook*\\t110\\ntexted\\t20\\t40\\t80\\t81\\t90\\ntexting\\t20\\t40\\t80\\t81\\ntf\\t120\\t122\\ntha\\t120\\t122\\nthan\\t1\\t11\\t21\\t22\\t50\\t56\\nthank\\t20\\t30\\t31\\t91\\nthanked\\t20\\t30\\t31\\t90\\nthankful\\t21\\t30\\t31\\nthankfully\\t30\\t31\\nthanking\\t20\\t30\\t31\\nthanks\\t20\\t30\\t31\\t91\\nthanx\\t30\\t31\\t120\\t122\\nthat\\t1\\t2\\t9\\nthat'd\\t1\\t2\\t9\\t12\\t20\\nthat'll\\t1\\t2\\t9\\t12\\t20\\t92\\nthat's\\t1\\t2\\t9\\t12\\t20\\t91\\nthatd\\t1\\t2\\t9\\t12\\t20\\nthatll\\t1\\t2\\t9\\t12\\t20\\t92\\nthats\\t1\\t2\\t9\\t12\\t20\\t91\\nthe\\t1\\t10\\ntheat*\\t111\\nthee\\t1\\t2\\t3\\t6\\t40\\ntheir*\\t1\\t2\\t3\\t8\\t40\\nthem\\t1\\t2\\t3\\t8\\t40\\nthemself\\t1\\t2\\t3\\t8\\nthemselves\\t1\\t2\\t3\\t8\\t40\\nthen\\t1\\t14\\t92\\t100\\t103\\ntheolog*\\t114\\ntheor*\\t50\\t54\\ntherap*\\t70\\t72\\nthere\\t1\\t13\\nthere's\\t1\\t12\\t13\\t20\\t91\\nthereafter\\t1\\t13\\t92\\ntherefor*\\t1\\t13\\t50\\t52\\ntheres\\t1\\t12\\t13\\t20\\t91\\nthermometer*\\t70\\t72\\nthese\\t1\\t2\\t9\\ntheses\\t110\\nthesis\\t110\\nthey\\t1\\t2\\t3\\t8\\t40\\nthey'd\\t1\\t2\\t3\\t8\\t12\\t20\\t40\\nthey'll\\t1\\t2\\t3\\t8\\t12\\t20\\t40\\t92\\nthey're\\t1\\t12\\t20\\t40\\t91\\nthey've\\t1\\t2\\t3\\t8\\t12\\t20\\t40\\t90\\ntheyd\\t1\\t2\\t3\\t8\\t12\\t20\\t40\\ntheyll\\t1\\t2\\t3\\t8\\t12\\t20\\t40\\t92\\ntheyre\\t1\\t12\\t20\\t40\\t91\\ntheyve\\t1\\t2\\t3\\t8\\t12\\t20\\t40\\t90\\nthick*\\t60\\t63\\t100\\t102\\nthief\\t30\\t32\\nthiev*\\t30\\t32\\nthigh*\\t70\\t71\\nthin\\t21\\t100\\t102\\nthine\\t1\\t2\\t3\\t6\\t40\\nthing*\\t1\\t2\\t9\\nthink\\t20\\t50\\t51\\t91\\nthinker*\\t50\\t51\\nthinking\\t20\\t50\\t51\\nthinks\\t20\\t50\\t51\\t91\\nthinly\\t100\\t102\\nthinned\\t20\\t90\\t100\\t102\\nthinner\\t21\\t22\\t100\\t102\\nthinnest\\t21\\t22\\t100\\t102\\nthird\\t24\\nthirst\\t70\\t71\\t74\\nthirsting\\t20\\t70\\t71\\t74\\t91\\nthirsts\\t20\\t70\\t71\\t74\\t91\\nthirsty\\t21\\t70\\t71\\t74\\nthirt*\\t24\\nthis\\t1\\t2\\t9\\nthnx\\t30\\t31\\t120\\t122\\ntho\\t1\\t13\\t14\\t120\\t122\\ntho'\\t1\\t13\\t14\\t120\\t122\\nthose\\t1\\t2\\t9\\nthou\\t1\\t2\\t3\\t6\\t40\\nthough\\t1\\t13\\t14\\t50\\t56\\nthought\\t20\\t50\\t51\\nthoughtful*\\t30\\t31\\nthoughts\\t50\\t51\\nthousand*\\t24\\nthoust\\t1\\t2\\t3\\t6\\t40\\nthreat*\\t30\\t32\\t33\\t34\\t80\\t83\\t85\\nthree\\t24\\nthrew\\t20\\t90\\t100\\t101\\nthrift\\t113\\nthriftier\\t21\\t22\\t113\\nthriftiest\\t21\\t22\\t113\\nthrifty\\t21\\t113\\nthrill*\\t30\\t31\\nthroat*\\t70\\t71\\nthrob*\\t70\\t72\\nthrone*\\t80\\t83\\nthrough*\\t1\\t11\\nthrow\\t20\\t91\\t100\\t101\\nthrown\\t20\\t90\\t100\\t101\\nthrows\\t20\\t91\\t100\\t101\\nthru\\t1\\t11\\t120\\nthumbs\\t70\\t71\\nthunder*\\t60\\t62\\nthurs\\t100\\t103\\nthursday*\\t100\\t103\\nthus*\\t1\\t13\\t50\\t52\\nthx\\t30\\t31\\t120\\t122\\nthy\\t1\\t2\\t3\\t6\\t40\\nthyroid*\\t70\\t72\\nthyself\\t1\\t2\\t3\\t6\\nticket*\\t111\\ntight\\t21\\t60\\t63\\ntighter\\t21\\t22\\t60\\t63\\ntightest\\t21\\t22\\t60\\t63\\ntightly\\t60\\t63\\ntil\\t1\\t11\\t14\\t100\\t103\\ntill\\t1\\t11\\t14\\t100\\t103\\ntime*\\t100\\t103\\ntimid*\\t30\\t32\\t33\\ntiming\\t100\\t103\\ntingl*\\t60\\t63\\t70\\t72\\ntinier\\t21\\t22\\t80\\t83\\ntiniest\\t21\\t22\\t80\\t83\\t100\\t102\\ntiny\\t21\\t80\\t83\\t100\\t102\\ntiptoe*\\t100\\t101\\ntired\\t21\\t70\\t72\\ntiredest\\t70\\t72\\ntiring\\t21\\t70\\t72\\ntit\\t70\\t71\\t73\\t120\\t121\\ntits\\t70\\t71\\t73\\t120\\t121\\ntitties\\t70\\t71\\t73\\t120\\t121\\ntitty\\t70\\t71\\t73\\t120\\t121\\ntivo*\\t111\\ntix\\t111\\t120\\t122\\ntldr\\t120\\t122\\nto\\t1\\t11\\ntoaster*\\t112\\ntoday*\\t91\\t100\\t103\\ntoe\\t70\\t71\\ntoefl\\t110\\ntoenail*\\t70\\t71\\ntoes\\t70\\t71\\ntogether\\t40\\t80\\t81\\t100\\t102\\ntogetherness\\t80\\t81\\ntold\\t20\\t40\\t90\\ntoleran*\\t30\\t31\\ntomb\\t115\\ntomboy*\\t40\\t43\\ntombs\\t115\\ntomorrow*\\t92\\t100\\t103\\nton\\t25\\ntongue*\\t60\\t70\\t71\\ntonight*\\t92\\t100\\t103\\ntons\\t25\\ntonsils\\t70\\t71\\ntoo\\t1\\t13\\ntook\\t20\\t80\\t84\\t90\\ntooth*\\t70\\t71\\ntop\\t21\\t22\\t80\\t82\\t83\\t100\\t102\\ntorah\\t114\\ntortur*\\t30\\t32\\t34\\ntotal\\t25\\t50\\t55\\ntotally\\t1\\t13\\t50\\t55\\ntouch*\\t60\\t63\\ntough\\t21\\t30\\ntougher\\t21\\t22\\ntoughest\\t21\\t22\\ntoward*\\t1\\t11\\t100\\t102\\ntown\\t100\\t102\\ntox*\\t70\\t72\\ntoy*\\t111\\ntrade*\\t110\\t113\\ntrading\\t20\\t110\\t113\\ntradition*\\t80\\t81\\ntraged*\\t30\\t32\\t35\\ntragic\\t21\\t30\\t32\\t35\\ntragically\\t30\\t32\\t35\\ntranquil*\\t30\\t31\\ntransact*\\t113\\ntranscript*\\t110\\ntransfer*\\t100\\t101\\t110\\ntransport*\\t100\\t101\\ntrauma*\\t30\\t32\\ntravel\\t20\\t91\\t100\\t101\\t111\\ntraveled\\t20\\t90\\t100\\t101\\t111\\ntraveler*\\t100\\t101\\t111\\ntraveling\\t20\\t100\\t101\\t111\\ntravels\\t20\\t91\\t100\\t101\\t111\\ntreasur*\\t30\\t31\\t113\\ntreat\\t30\\t31\\ntrembl*\\t30\\t32\\t33\\t100\\t101\\ntriang*\\t60\\t61\\ntriathl*\\t111\\ntribal\\t21\\t80\\t81\\ntribe*\\t80\\t81\\ntricep*\\t70\\t71\\ntrick\\t30\\t32\\t34\\t50\\t51\\ntricked\\t20\\t30\\t32\\t34\\t50\\t51\\t90\\ntrickier\\t21\\t22\\t30\\t32\\t34\\t50\\t51\\ntrickiest\\t21\\t22\\t30\\t32\\t34\\t50\\t51\\ntricks\\t30\\t32\\t34\\t50\\t51\\ntricky\\t21\\t30\\t32\\t34\\t50\\t51\\ntried\\t20\\t80\\t82\\t90\\ntries\\t20\\t80\\t82\\t91\\ntrigger*\\t50\\t52\\ntrillion*\\t24\\ntrip\\t100\\t101\\ntriple*\\t25\\ntripling\\t25\\ntripped\\t20\\t90\\t100\\t101\\ntripping\\t20\\t100\\t101\\ntrips\\t20\\t100\\t101\\ntrite\\t21\\t30\\t32\\ntriumph*\\t30\\t31\\t80\\t82\\t84\\ntrivial\\t21\\t30\\t32\\ntroop*\\t80\\t81\\ntrot\\t20\\t91\\t100\\t101\\ntrots\\t20\\t91\\t100\\t101\\ntrotted\\t20\\t90\\t100\\t101\\ntrotting\\t20\\t100\\t101\\ntroubl*\\t30\\t32\\t80\\t85\\ntrue\\t21\\t30\\t31\\t50\\t55\\ntruer\\t21\\t22\\t30\\t31\\ntruest\\t21\\t22\\t30\\t31\\t50\\t55\\ntruly\\t1\\t13\\t30\\t31\\t50\\t55\\ntrust\\t30\\t31\\t40\\t80\\t85\\t91\\ntrusted\\t20\\t21\\t30\\t31\\t40\\t80\\t85\\t90\\ntrusting\\t20\\t21\\t30\\t31\\t40\\t80\\t85\\ntrusts\\t20\\t30\\t31\\t40\\t80\\t85\\t91\\ntrustworthiness\\t30\\t31\\t80\\t85\\ntrustworthy\\t30\\t31\\t80\\t85\\ntrusty\\t21\\t30\\t31\\ntruth*\\t30\\t31\\t50\\t55\\ntry\\t20\\t50\\t54\\t80\\t82\\t91\\ntrying\\t20\\t50\\t54\\t80\\t82\\ntryna\\t1\\t12\\t50\\t54\\t91\\t120\\t122\\ntues\\t100\\t103\\ntuesday*\\t100\\t103\\ntuition*\\t113\\ntumble\\t20\\t91\\t100\\t101\\ntumbled\\t20\\t90\\t100\\t101\\ntumbles\\t20\\t91\\t100\\t101\\ntumbling\\t20\\t100\\t101\\ntumblr\\t111\\t120\\t122\\ntummy\\t70\\t71\\ntumo*\\t70\\t72\\ntune\\t60\\t62\\ntunes\\t60\\t62\\nturmoil\\t30\\t32\\t33\\nturn\\t20\\t91\\t100\\t101\\nturned\\t20\\t90\\t100\\t101\\nturns\\t20\\t91\\t100\\t101\\ntutor*\\t110\\ntv*\\t111\\ntwat*\\t70\\t73\\t120\\t121\\ntweet*\\t40\\t80\\t81\\ntwel*\\t24\\ntwent*\\t24\\ntwice\\t24\\ntwirl*\\t20\\t100\\t101\\ntwist*\\t20\\t100\\t101\\ntwitch\\t20\\t70\\t72\\t91\\t100\\t101\\ntwitched\\t20\\t70\\t72\\t90\\t100\\t101\\ntwitches\\t70\\t72\\t91\\t100\\t101\\ntwitching\\t20\\t70\\t72\\t100\\t101\\ntwitchy\\t21\\t30\\t32\\t33\\t70\\t72\\t100\\t101\\ntwitter\\t40\\t80\\t81\\t111\\t120\\t122\\ntwo\\t24\\ntxt*\\t80\\t81\\t120\\t122\\nty\\t30\\t31\\t120\\t122\\ntylenol\\t70\\t72\\ntyped\\t20\\t90\\t110\\ntypical\\t21\\ntypically\\t1\\t13\\t50\\t54\\ntyping\\t20\\t110\\nu\\t1\\t2\\t3\\t6\\t120\\t122\\nugh\\t30\\t32\\t120\\t124\\nuglier\\t21\\t22\\t30\\t32\\t34\\nugliest\\t21\\t22\\t30\\t32\\t34\\nugly\\t21\\t30\\t32\\t34\\nuh\\t120\\t124\\nuh-hu*\\t120\\t123\\nuh-uh\\t1\\t15\\t120\\nuhhu*\\t120\\t123\\nulcer*\\t70\\t72\\nultimate\\t21\\nultimately\\t1\\t13\\num\\t120\\t124\\numm*\\t120\\t124\\nunable\\t1\\t12\\t80\\t82\\nunaccept*\\t30\\t32\\t50\\t51\\t80\\t83\\nunambigu*\\t50\\t55\\nunattractive\\t21\\t30\\t32\\nunaware*\\t50\\t51\\nunbeat*\\t80\\t82\\nuncertain*\\t30\\t32\\t33\\t50\\t54\\nuncle\\t40\\t41\\t44\\nuncle's\\t40\\t41\\t44\\nunclear*\\t50\\t54\\nuncles\\t40\\t41\\t44\\nuncomfortabl*\\t30\\t32\\t33\\nuncommon\\t21\\nuncommonly\\t1\\t13\\nuncontrol*\\t30\\t32\\t33\\nundecided*\\t50\\t54\\nundeniab*\\t50\\t55\\nunder\\t1\\t11\\t80\\t83\\t100\\t102\\nunderclass*\\t80\\t83\\t110\\nunderdog*\\t80\\t83\\nundergrad*\\t110\\nunderling*\\t80\\t83\\nunderneath\\t1\\t11\\t100\\t102\\nunderpaid\\t110\\t113\\nunderprivileg*\\t80\\t83\\nundersid*\\t100\\t102\\nunderstand\\t20\\t50\\t51\\t91\\nunderstandab*\\t50\\t51\\nunderstanding*\\t50\\t51\\nunderstands\\t20\\t50\\t51\\t91\\nunderstood\\t20\\t50\\t51\\t90\\nundesir*\\t30\\t32\\t50\\t53\\t80\\t85\\nundetermin*\\t50\\t54\\nundid\\t20\\t50\\t53\\t90\\nundo\\t20\\t50\\t53\\t91\\nundoes\\t20\\t50\\t53\\t91\\nundoing\\t20\\t50\\t53\\nundone\\t50\\t53\\nundoubt*\\t50\\t55\\nuneas*\\t30\\t32\\t33\\nunemploy*\\t110\\nunexpected\\t21\\nunfair\\t21\\t30\\t32\\nunfollow*\\t20\\t120\\t122\\nunfortunate*\\t30\\t32\\nunfriend\\t20\\t91\\t120\\t122\\nunfriended\\t20\\t90\\t120\\t122\\nunfriending\\t20\\t120\\t122\\nunfriendly\\t30\\t32\\nunfriends\\t20\\t91\\t120\\t122\\nungrateful*\\t30\\t32\\nunhapp*\\t30\\t32\\t35\\nunhealthy\\t70\\t72\\nunimportant\\t21\\t30\\t32\\t35\\t80\\t83\\nunimpress*\\t30\\t32\\nunion*\\t80\\t81\\nunique\\t21\\t22\\nuniverse*\\t100\\t102\\nuniversit*\\t110\\nunkind\\t21\\t30\\t32\\nunknowing\\t21\\t50\\t54\\nunknowingly\\t50\\t54\\nunknown\\t21\\t50\\t54\\nunless\\t1\\t11\\t14\\t50\\t56\\nunlike\\t1\\t11\\t50\\t56\\nunlikel*\\t50\\t54\\nunlov*\\t30\\t32\\nunlucky\\t21\\t30\\t32\\nunneccess*\\t50\\t53\\nunpleasant\\t21\\t30\\t32\\nunproduc*\\t80\\t82\\t85\\t110\\nunprotected\\t30\\t32\\t80\\t85\\nunqualified\\t21\\t80\\t83\\nunquestion*\\t50\\t55\\nunrelat*\\t50\\t51\\nunresolv*\\t50\\t54\\nunsafe\\t21\\t30\\t32\\t80\\t85\\nunsavory\\t21\\t30\\t32\\nunsettl*\\t30\\t32\\t33\\t50\\t54\\nunsuccessful*\\t30\\t32\\t35\\t80\\t82\\nunsure*\\t30\\t32\\t33\\t50\\t54\\t80\\t85\\nuntil\\t1\\t11\\t14\\t100\\t103\\nunto\\t1\\t11\\nuntwist*\\t100\\t101\\nunusual\\t50\\t53\\nunwanted\\t21\\t50\\t53\\t80\\t83\\t85\\nunwelcom*\\t30\\t32\\nunwind*\\t111\\nup\\t1\\t11\\t80\\t83\\t100\\t102\\nup-and-coming*\\t92\\nup-to-date\\t91\\nupbeat\\t21\\t30\\t31\\nupcoming\\t92\\nupdat*\\t100\\t103\\nupon\\t1\\t11\\t100\\t102\\nupper\\t21\\t80\\t83\\t100\\t102\\nupperclass*\\t80\\t83\\t110\\nuppermost\\t100\\t102\\nupright\\t21\\t100\\t102\\nupset\\t21\\t30\\t32\\t33\\nupsets\\t20\\t30\\t32\\t33\\t91\\nupsetting\\t21\\t30\\t32\\t33\\nupstairs\\t100\\t102\\nuptight*\\t30\\t32\\t33\\nur\\t1\\t2\\t3\\t6\\t40\\t120\\t122\\nurban\\t21\\nurin*\\t70\\t71\\nurn*\\t115\\nus\\t1\\t2\\t3\\t5\\t40\\t80\\t81\\nusd\\t113\\nuse\\t20\\t50\\t52\\t91\\nused\\t20\\t50\\t52\\t90\\nuseful\\t30\\t31\\nusefully\\t30\\t31\\nusefulness\\t30\\t31\\nuseless\\t30\\t32\\t35\\t80\\t83\\nuselessly\\t30\\t32\\t35\\nuselessness\\t30\\t32\\t35\\nuses\\t20\\t50\\t52\\t91\\nusing\\t20\\t50\\t52\\nusual\\t21\\t100\\t103\\nusually\\t1\\t13\\t50\\t54\\t100\\t103\\nuter*\\t70\\t71\\nvacation*\\t111\\nvacuum*\\t112\\nvag\\t70\\t71\\t73\\nvagin*\\t70\\t71\\t73\\nvague\\t21\\t50\\t54\\nvaguely\\t50\\t54\\nvagueness\\t50\\t54\\nvaguer\\t21\\t22\\t50\\t54\\nvaguest\\t21\\t22\\t50\\t54\\nvain\\t21\\t30\\t32\\nvalentin*\\t40\\t42\\t80\\t81\\nvaluabl*\\t30\\t31\\nvalue\\t30\\t31\\nvalued\\t30\\t31\\nvalues\\t30\\t31\\nvaluing\\t20\\t30\\t31\\nvanity\\t30\\t32\\nvanquish*\\t80\\t83\\nvape\\t111\\nvariab*\\t50\\t54\\nvaried\\t21\\nvaries\\t20\\t50\\t54\\nvariety\\t21\\t22\\t25\\nvarious\\t21\\t22\\t25\\nvarsit*\\t110\\nvary\\t20\\t50\\t54\\t91\\nvast\\t21\\t100\\t102\\nvastly\\t1\\t13\\t100\\t102\\nvastness\\t100\\t102\\nvatican*\\t114\\nvcr*\\t111\\nvd\\t70\\t72\\t73\\nveget*\\t70\\t74\\nveggie*\\t70\\t74\\nveil*\\t114\\nvein*\\t70\\t71\\nvenmo*\\t113\\nverb\\t80\\t83\\nverg*\\t100\\t102\\nversion\\t50\\t56\\nversus\\t1\\t11\\t50\\t56\\nvertical*\\t100\\t102\\nvertigo\\t70\\t72\\nvery\\t1\\t13\\nveteran*\\t80\\t83\\nvia\\t1\\t11\\t100\\t102\\nviagra\\t70\\t72\\t73\\nvibrate\\t100\\t101\\nvibrator*\\t70\\t73\\nvicious\\t21\\t30\\t32\\t34\\nviciously\\t30\\t32\\t34\\nviciousness\\t30\\t32\\t34\\nvicodin\\t70\\t72\\nvictim*\\t30\\t32\\t80\\t83\\nvictor*\\t80\\t82\\t83\\t84\\nvid\\t60\\t61\\t120\\t122\\nvideo*\\t60\\t61\\t111\\nview\\t60\\t61\\nviewed\\t20\\t90\\nviewer*\\t60\\t61\\nviewing*\\t60\\t61\\nviews\\t60\\t61\\nvigilan*\\t80\\t85\\nvigor*\\t30\\t31\\nvigour*\\t30\\t31\\nvile\\t30\\t32\\t34\\nvillain*\\t30\\t32\\t34\\nviolat*\\t30\\t32\\t34\\nviolence\\t30\\t32\\nviolent\\t21\\t30\\t32\\t34\\nviolently\\t30\\t32\\t34\\nviolet\\t21\\t60\\t61\\nvip\\t80\\t83\\nvirgin*\\t70\\t73\\nvirtual\\t21\\nvirtually\\t1\\t13\\t50\\t54\\nvirtue*\\t30\\t31\\nvirtuo*\\t30\\t31\\nvisa*\\t113\\nvisible\\t60\\t61\\nvisibly\\t50\\t55\\t60\\t61\\nvisit\\t20\\t40\\t100\\t101\\nvisited\\t20\\t40\\t90\\t100\\t101\\nvisiting\\t20\\t40\\t100\\t101\\nvisits\\t40\\t100\\t101\\nvita\\t110\\nvital*\\t30\\t31\\t70\\t72\\nvitamin*\\t70\\t72\\nvitas\\t110\\nvivid*\\t60\\t61\\nvocation*\\t110\\nvodka*\\t70\\t74\\t111\\nvoic*\\t60\\t62\\nvolleyb*\\t111\\nvomit*\\t30\\t32\\t70\\t72\\nvoted\\t20\\t90\\nvoting\\t20\\nvp*\\t80\\t83\\t110\\nvs\\t1\\t11\\t50\\t56\\nvulnerab*\\t30\\t32\\t33\\t80\\t83\\nw/*\\t120\\t122\\nwaddl*\\t20\\t100\\t101\\nwaft*\\t60\\t100\\t101\\nwag\\t20\\t91\\t100\\t101\\nwage\\t110\\t113\\nwager\\t80\\t84\\t113\\nwagered\\t20\\t80\\t84\\t90\\t113\\nwagering\\t20\\t80\\t84\\t113\\nwagers\\t20\\t80\\t84\\t113\\nwages\\t110\\t113\\nwagged\\t20\\t90\\t100\\t101\\nwagging\\t20\\t100\\t101\\nwags\\t20\\t91\\t100\\t101\\nwaist*\\t70\\t71\\nwait\\t20\\t91\\t100\\t103\\nwaited\\t20\\t90\\t100\\t103\\nwaiting\\t20\\t100\\t103\\nwaits\\t20\\t91\\t100\\t103\\nwake\\t70\\t71\\nwalk\\t20\\t91\\t100\\t101\\nwalked\\t20\\t90\\t100\\t101\\nwalking\\t20\\t100\\t101\\nwalks\\t20\\t91\\t100\\t101\\nwall\\t100\\t102\\nwalls\\t100\\t102\\nwank*\\t70\\t73\\t120\\t121\\nwanna\\t1\\t12\\t50\\t53\\t92\\t120\\nwant\\t20\\t50\\t53\\t91\\nwanted\\t20\\t50\\t53\\t90\\nwanting\\t20\\t50\\t53\\nwants\\t20\\t50\\t53\\t91\\t92\\nwar\\t30\\t32\\t34\\t80\\t83\\t115\\nwarehous*\\t100\\t102\\t110\\nwarfare*\\t30\\t32\\t34\\t80\\t83\\t115\\nwarm\\t21\\t30\\t31\\t60\\t63\\nwarmed\\t20\\t30\\t31\\t60\\t63\\t90\\nwarmer\\t21\\t22\\t30\\t31\\t60\\t63\\nwarmest\\t21\\t22\\t30\\t31\\t60\\t63\\nwarming\\t20\\t30\\t31\\t60\\t63\\nwarmly\\t30\\t31\\t60\\t63\\nwarms\\t20\\t30\\t31\\t60\\t63\\t91\\nwarmth\\t30\\t31\\t60\\t63\\nwarn*\\t30\\t32\\t80\\t85\\nwarred\\t20\\t30\\t32\\t34\\t80\\t83\\t90\\nwarring\\t30\\t32\\t34\\t80\\t83\\nwars\\t30\\t32\\t34\\t80\\t83\\t115\\nwart\\t70\\t72\\nwarts\\t70\\t72\\nwas\\t1\\t12\\t20\\t90\\nwash\\t20\\t70\\t72\\t91\\nwashed\\t20\\t70\\t72\\t90\\nwashes\\t20\\t70\\t72\\t91\\nwashing\\t20\\t70\\t72\\nwasn't\\t1\\t12\\t15\\t20\\t50\\t56\\t90\\nwasnt\\t1\\t12\\t15\\t20\\t50\\t56\\t90\\nwat\\t23\\t120\\t122\\nwatch\\t60\\t61\\t91\\nwatched\\t20\\t60\\t61\\t90\\nwatcher\\t60\\t61\\nwatches\\t60\\t61\\t91\\nwatchful\\t21\\t60\\t61\\nwatching\\t20\\t60\\t61\\nwater\\t70\\t74\\nwattt*\\t23\\t120\\t122\\nwave\\t100\\t101\\nway\\t100\\t102\\nwe\\t1\\t2\\t3\\t5\\t40\\t80\\t81\\nwe'd\\t1\\t2\\t3\\t5\\t12\\t20\\t40\\t80\\t81\\nwe'll\\t1\\t2\\t3\\t5\\t12\\t20\\t40\\t80\\t81\\t92\\nwe're\\t1\\t2\\t3\\t5\\t20\\t40\\t80\\t81\\t91\\nwe've\\t1\\t2\\t3\\t5\\t12\\t20\\t40\\t80\\t81\\t90\\nweak\\t21\\t30\\t32\\t70\\t72\\t80\\t83\\nweaken\\t20\\t30\\t32\\t70\\t72\\t80\\t83\\nweakened\\t20\\t21\\t30\\t32\\t70\\t72\\t80\\t83\\t90\\nweakening\\t20\\t30\\t32\\t70\\t72\\t80\\t83\\nweakens\\t20\\t30\\t32\\t70\\t72\\t80\\t83\\t91\\nweaker\\t21\\t22\\t30\\t32\\t70\\t72\\t80\\t83\\nweakest\\t21\\t22\\t30\\t32\\t70\\t72\\t80\\t83\\nweakling\\t30\\t32\\t70\\t72\\t80\\t83\\nweakly\\t30\\t32\\t70\\t72\\t80\\t83\\nweakness*\\t80\\t83\\nwealth\\t30\\t31\\t80\\t83\\t113\\nwealthier\\t21\\t22\\t30\\t31\\t80\\t83\\t113\\nwealthiest\\t21\\t22\\t30\\t31\\t80\\t83\\t113\\nwealthy\\t21\\t30\\t31\\t80\\t83\\t113\\nweapon*\\t30\\t32\\t34\\nwear\\t20\\t70\\t71\\t91\\nwearing\\t20\\t70\\t71\\nwears\\t20\\t70\\t71\\t91\\nweary\\t21\\t30\\t32\\t70\\t72\\nwed\\t40\\t100\\t103\\nwedding*\\t40\\t41\\t80\\t81\\nwednesday*\\t100\\t103\\nweds\\t20\\t40\\t80\\t81\\t91\\nweek\\t100\\t103\\nweek'*\\t100\\t103\\nweekend*\\t100\\t103\\t111\\nweekl*\\t100\\t103\\nweeks\\t100\\t103\\nweenie*\\t80\\t83\\nweep*\\t20\\t30\\t32\\t35\\nweigh\\t20\\t70\\t74\\t91\\nweighed\\t20\\t70\\t74\\t90\\nweighing*\\t20\\t70\\t74\\nweighs\\t20\\t70\\t74\\t91\\nweight\\t60\\t63\\t70\\t74\\nweighted\\t60\\t63\\nweightless*\\t60\\t63\\nweights\\t60\\t63\\t111\\nweird\\t21\\t30\\t32\\nweirded\\t20\\t30\\t32\\t90\\nweirder\\t21\\t22\\t30\\t32\\nweirdest\\t21\\t22\\t30\\t32\\nweirdly\\t30\\t32\\nweirdness\\t30\\t32\\nweirdo\\t30\\t32\\nweirdos\\t30\\t32\\nweirds\\t20\\t30\\t32\\t91\\nwelcom*\\t30\\t31\\t40\\t80\\t81\\nwelfare\\t110\\nwell\\t1\\t13\\t30\\t31\\t120\\t124\\nwell-known\\t21\\t80\\t83\\nwellbeing\\t30\\t31\\t70\\t72\\nwellness\\t30\\t31\\t70\\t72\\nwench*\\t40\\t43\\nwent\\t20\\t90\\t100\\t101\\nwept\\t20\\t30\\t32\\t35\\t90\\nwere\\t1\\t12\\t20\\t90\\nweren't\\t1\\t12\\t15\\t20\\t50\\t56\\t90\\nwerent\\t1\\t12\\t15\\t20\\t50\\t56\\t90\\nwest*\\t100\\t102\\nwet\\t60\\t63\\nwetter\\t21\\t22\\t60\\t63\\nwettest\\t21\\t22\\t60\\t63\\nweve\\t1\\t2\\t3\\t5\\t12\\t20\\t40\\t80\\t81\\t90\\nwhat\\t1\\t2\\t9\\t23\\nwhat'd\\t1\\t2\\t9\\t20\\t23\\t90\\nwhat'll\\t1\\t2\\t9\\t20\\t23\\t92\\nwhat're\\t23\\t91\\nwhat's\\t1\\t2\\t9\\t12\\t20\\t23\\t91\\nwhatd\\t1\\t2\\t9\\t20\\t23\\t90\\nwhatever\\t1\\t2\\t9\\t23\\nwhatll\\t1\\t2\\t9\\t20\\t23\\t92\\nwhatre\\t23\\t91\\nwhats\\t1\\t2\\t9\\t12\\t20\\t91\\nwhatt*\\t23\\t120\\t122\\nwheat\\t70\\t74\\nwheez*\\t60\\t62\\t70\\t72\\nwhen\\t1\\t13\\t14\\t23\\t100\\t103\\nwhen'*\\t1\\t13\\t14\\t23\\t100\\t103\\nwhence\\t1\\t13\\t23\\t100\\t103\\nwhenever\\t1\\t13\\t14\\t23\\t100\\t103\\nwhere\\t1\\t13\\t23\\t100\\t102\\nwhere'd\\t1\\t13\\t23\\t90\\t100\\t102\\nwhere's\\t20\\t23\\t91\\t100\\t102\\nwhereas\\t1\\t14\\t50\\t56\\nwhereby\\t1\\t13\\t50\\t52\\nwherefore\\t1\\t13\\t14\\t23\\t50\\t52\\nwherein\\t1\\t13\\nwhereof\\t1\\t13\\nwheres\\t20\\t91\\t100\\t102\\nwherever\\t1\\t13\\t14\\t23\\t100\\t102\\nwhether\\t1\\t14\\t23\\t50\\t56\\nwhich\\t1\\t2\\t9\\t23\\nwhichever\\t1\\t2\\t9\\t23\\nwhiff*\\t60\\nwhile\\t1\\t14\\t100\\t103\\nwhilst\\t1\\t14\\t100\\t103\\nwhine*\\t20\\t30\\t32\\t35\\t60\\t62\\nwhining\\t20\\t30\\t32\\t35\\t60\\t62\\nwhiskey*\\t70\\t74\\t111\\nwhisky*\\t70\\t74\\t111\\nwhisper*\\t20\\t60\\t62\\nwhite\\t21\\t60\\t61\\nwhither\\t1\\t13\\t23\\nwho\\t1\\t2\\t9\\t23\\t40\\nwho'd\\t1\\t2\\t9\\t12\\t20\\t23\\t40\\nwho'll\\t1\\t2\\t9\\t12\\t20\\t23\\t40\\t92\\nwho's\\t1\\t2\\t9\\t20\\t23\\t40\\t91\\nwhoa\\t120\\t125\\nwhod\\t1\\t2\\t9\\t12\\t20\\t40\\nwhoever\\t1\\t2\\t9\\t23\\t40\\nwhole\\t25\\nwholl\\t1\\t2\\t9\\t12\\t20\\t23\\t40\\t92\\nwholly\\t1\\t13\\t50\\t55\\nwhom\\t1\\t2\\t9\\t23\\t40\\nwhomever\\t1\\t2\\t9\\t23\\t40\\nwhoo\\t120\\t123\\nwhooo*\\t120\\t123\\nwhore*\\t30\\t32\\t70\\t73\\t120\\t121\\nwhos\\t1\\t2\\t9\\t20\\t23\\t40\\t91\\nwhose\\t1\\t2\\t9\\t23\\t40\\nwhosever\\t1\\t2\\t9\\t23\\nwhoso*\\t1\\t2\\t9\\t23\\nwhy\\t1\\t13\\t23\\t50\\t52\\nwhy'*\\t1\\t13\\t23\\t50\\t52\\nwhyever\\t1\\t13\\t23\\t50\\t52\\nwicked\\t21\\t30\\t32\\t34\\nwickedly\\t30\\t32\\t34\\nwide\\t21\\t100\\t102\\nwidely\\t100\\t102\\nwider\\t21\\t22\\t100\\t102\\nwidest\\t21\\t22\\t100\\t102\\nwidow*\\t40\\t41\\nwidth*\\t100\\t102\\nwif\\t120\\t122\\nwife*\\t40\\t41\\t43\\t80\\t81\\nwii*\\t111\\nwilder\\t21\\t22\\nwildest\\t21\\t22\\nwill\\t1\\t12\\t20\\t92\\nwilling\\t21\\t30\\t80\\t84\\nwimp*\\t30\\t32\\t80\\t83\\nwin\\t30\\t31\\t80\\t82\\t83\\t84\\nwindow*\\t112\\nwindy\\t21\\nwine\\t70\\t74\\t111\\nwines\\t70\\t74\\t111\\nwinn*\\t30\\t31\\t80\\t82\\t83\\t84\\nwins\\t30\\t31\\t80\\t82\\t83\\t84\\nwinter*\\t100\\t103\\nwisdom\\t30\\t31\\t50\\t51\\nwise\\t21\\t30\\t31\\t50\\t51\\t80\\t83\\nwisely\\t30\\t31\\t50\\t51\\nwiser\\t21\\t22\\t30\\t31\\t50\\t51\\nwisest\\t21\\t22\\t30\\t31\\t50\\t51\\nwish\\t20\\t50\\t53\\t92\\nwished\\t20\\t50\\t53\\t90\\nwishes\\t20\\t50\\t53\\t92\\nwishing\\t20\\t50\\t53\\t92\\nwitch*\\t30\\t32\\t40\\t43\\nwith\\t1\\t11\\nwithdrawal\\t70\\t72\\nwithin\\t1\\t11\\t100\\t102\\nwithout\\t1\\t11\\t15\\t50\\t56\\nwittier\\t21\\t22\\nwittiest\\t21\\t22\\nwitty\\t21\\nwive*\\t40\\t41\\t43\\t80\\t81\\nwoah\\t120\\t125\\nwobble\\t91\\t100\\t101\\nwobbled\\t20\\t90\\t100\\t101\\nwobbles\\t91\\t100\\t101\\nwobbling\\t20\\t100\\t101\\nwobbly\\t21\\t100\\t101\\nwoe*\\t30\\t32\\t35\\nwoke\\t20\\t90\\nwoken\\t20\\t90\\nwoman\\t40\\t43\\nwoman's\\t40\\t43\\nwomanhood\\t40\\t43\\nwomanly\\t21\\t40\\t43\\nwomans\\t40\\t43\\nwomb*\\t70\\t71\\t73\\nwomen*\\t40\\t43\\nwon\\t20\\t30\\t31\\t80\\t82\\t84\\t90\\nwon't\\t1\\t12\\t15\\t20\\t92\\nwonder\\t20\\t50\\t51\\t54\\t91\\nwondered\\t20\\t50\\t51\\t54\\t90\\nwonderful\\t21\\t30\\t31\\nwonderfully\\t30\\t31\\nwondering\\t20\\t50\\t51\\t54\\nwonders\\t20\\t50\\t51\\t54\\t91\\nwont\\t1\\t12\\t15\\t20\\t92\\nwoo\\t120\\t123\\nwoohoo*\\t120\\t123\\nwooo*\\t120\\t123\\nwoot\\t120\\t122\\nwore\\t20\\t70\\t71\\t90\\nwork\\t80\\t82\\t91\\t110\\nwork-out*\\t70\\t72\\t111\\nworkabl*\\t80\\t82\\t110\\nworked\\t20\\t80\\t82\\t90\\t110\\nworker*\\t80\\t82\\t83\\t110\\nworking\\t20\\t80\\t82\\t110\\nworkout*\\t70\\t72\\t111\\nworks\\t20\\t80\\t82\\t91\\t110\\nworkshop*\\t110\\nworld\\t100\\t102\\nworld-class\\t21\\t80\\t83\\nworn\\t20\\t21\\t90\\nworried\\t21\\t30\\t32\\t33\\nworrier\\t30\\t32\\t33\\nworries\\t30\\t32\\t33\\t91\\nworry\\t20\\t30\\t32\\t33\\t91\\nworrying\\t20\\t30\\t32\\t33\\nworse\\t21\\t22\\t30\\t32\\t80\\t85\\t91\\nworsen\\t20\\t30\\t32\\t90\\nworsened\\t20\\t30\\t32\\nworsening\\t30\\t32\\nworsens\\t20\\t30\\t32\\t91\\nworship*\\t30\\t31\\t80\\t83\\t114\\nworst\\t21\\t22\\t30\\t32\\t80\\t85\\nworth\\t113\\nworthless\\t21\\t30\\t32\\t35\\t80\\t83\\nworthwhile\\t21\\t30\\t31\\nwould\\t1\\t12\\t20\\t50\\t53\\nwould've\\t1\\t12\\t20\\t50\\t53\\t90\\nwouldn't\\t1\\t12\\t15\\t20\\t50\\t53\\nwouldnt\\t1\\t12\\t15\\t20\\t50\\t53\\nwouldve\\t1\\t12\\t20\\t50\\t53\\t90\\nwound*\\t70\\t72\\nwow*\\t30\\t31\\nwrist*\\t70\\t71\\nwrite\\t20\\t91\\t110\\nwriter*\\t110\\nwrites\\t20\\t91\\t110\\nwriting\\t20\\t110\\nwritten\\t20\\t90\\t110\\nwrong\\t21\\t30\\t32\\t80\\t85\\nwrongdoing\\t30\\t32\\nwronged\\t30\\t32\\nwrongful\\t21\\t30\\t32\\nwrongly\\t30\\t32\\nwrongness\\t30\\t32\\nwrongs\\t30\\t32\\nwrote\\t20\\t90\\t110\\nwtf\\t120\\t121\\t122\\nwuss\\t80\\t83\\t120\\t121\\nwussy\\t21\\t80\\t83\\t120\\t121\\nwut\\t23\\t120\\t122\\nxanax\\t70\\t72\\nxbone*\\t111\\nxbox*\\t111\\nxerox*\\t110\\nxox*\\t80\\t81\\t120\\t122\\nxray*\\t70\\t72\\ny'all\\t1\\t2\\t3\\t6\\t40\\ny'all's\\t1\\t2\\t3\\t6\\t40\\ny'kn*\\t120\\t125\\nya\\t1\\t2\\t3\\t6\\t40\\t120\\t122\\nya'll*\\t1\\t2\\t3\\t6\\t40\\nyaas*\\t120\\t122\\t123\\nyah\\t120\\t122\\t123\\nyakno*\\t120\\t125\\nyall\\t1\\t2\\t3\\t6\\t40\\nyalls\\t1\\t2\\t3\\t6\\t40\\nyard\\t111\\t112\\nyass*\\t120\\t123\\nyawn*\\t60\\t62\\t70\\t72\\nyay*\\t30\\t31\\t120\\t123\\nye\\t1\\t2\\t3\\t6\\t40\\nyea\\t120\\t122\\t123\\nyeah\\t120\\t123\\nyear\\t100\\t103\\nyearly\\t100\\t103\\nyearn*\\t30\\t32\\t35\\t50\\t53\\nyears\\t100\\t103\\nyell\\t20\\t30\\t32\\t34\\t60\\t62\\t91\\nyelled\\t20\\t30\\t32\\t34\\t60\\t62\\t90\\nyelling\\t20\\t30\\t32\\t34\\t60\\t62\\nyellow\\t60\\t61\\nyells\\t20\\t30\\t32\\t34\\t60\\t62\\t91\\nyen\\t113\\nyep*\\t120\\t122\\t123\\nyes\\t120\\t123\\nyess*\\t120\\t122\\nyester*\\t90\\t100\\t103\\nyet\\t1\\t13\\t100\\t103\\nyiddish\\t114\\nyield*\\t80\\t85\\nyinz*\\t1\\t2\\t3\\t6\\nykn*\\t120\\t125\\nyo\\t120\\t122\\nyoga\\t111\\nyou\\t1\\t2\\t3\\t6\\t40\\nyou'd\\t1\\t2\\t3\\t6\\t12\\t20\\t40\\nyou'll\\t1\\t2\\t3\\t6\\t12\\t20\\t40\\t92\\nyou're\\t1\\t2\\t3\\t6\\t12\\t20\\t40\\t91\\nyou've\\t1\\t2\\t3\\t6\\t12\\t20\\t40\\t90\\nyoud\\t1\\t2\\t3\\t6\\t12\\t20\\t40\\nyouknow\\t120\\t125\\nyoull\\t1\\t2\\t3\\t6\\t12\\t20\\t40\\t92\\nyoung\\t21\\t100\\t103\\nyounger\\t21\\t22\\t100\\t103\\nyoungest\\t21\\t22\\t100\\t103\\nyoungster*\\t40\\t100\\t103\\nyour\\t1\\t2\\t3\\t6\\t40\\nyoure\\t1\\t2\\t3\\t6\\t12\\t20\\t40\\t91\\nyours\\t1\\t2\\t3\\t6\\t40\\nyourself\\t1\\t2\\t3\\t6\\t40\\nyourselves\\t1\\t2\\t3\\t6\\t40\\nyouth*\\t100\\t103\\nyoutube\\t111\\nyouve\\t1\\t2\\t3\\t6\\t12\\t20\\t40\\t90\\nyu\\t120\\t122\\nyuan\\t113\\nyuck\\t30\\t32\\nyum\\t30\\t31\\t60\\t70\\t74\\nyummy\\t21\\t30\\t31\\t60\\t70\\t74\\nyup\\t120\\t122\\t123\\nzen\\t114\\nzero\\t24\\nzillion*\\t24\\nzion*\\t114\\nzit\\t70\\t72\\nzits\\t70\\t72\\nzoloft\\t70\\t72\\nzombie*\\t115\\nzoom\\t100\\t101\\nzz*\\t120\\t124\\n\"}"
            ]
          },
          "metadata": {},
          "execution_count": 19
        }
      ]
    },
    {
      "cell_type": "code",
      "source": [
        "import re\n",
        "from collections import Counter\n",
        "\n",
        "def tokenize(text):\n",
        "    # you may want to use a smarter tokenizer\n",
        "    for match in re.finditer(r'\\w+', text, re.UNICODE):\n",
        "        yield match.group(0)\n",
        "\n",
        "import liwc\n",
        "parse, category_names = liwc.load_token_parser('LIWC20151_English.dic')"
      ],
      "metadata": {
        "id": "FlJdsec2fiOD"
      },
      "execution_count": null,
      "outputs": []
    },
    {
      "cell_type": "code",
      "source": [
        "type(clean_corpus)"
      ],
      "metadata": {
        "colab": {
          "base_uri": "https://localhost:8080/"
        },
        "id": "ofignfyHlepM",
        "outputId": "1f90a418-9292-4a16-e68c-ba67d4057080"
      },
      "execution_count": null,
      "outputs": [
        {
          "output_type": "execute_result",
          "data": {
            "text/plain": [
              "pandas.core.series.Series"
            ]
          },
          "metadata": {},
          "execution_count": 21
        }
      ]
    },
    {
      "cell_type": "code",
      "source": [
        "import numpy as np\n",
        "import matplotlib.pyplot as plt\n",
        "import warnings\n",
        "warnings.filterwarnings(\"ignore\", category=DeprecationWarning)\n",
        "import collections"
      ],
      "metadata": {
        "id": "0hVsc4Nqlw6M"
      },
      "execution_count": null,
      "outputs": []
    },
    {
      "cell_type": "code",
      "source": [
        "#Cleaning\n",
        "f['Text'].astype(str)\n",
        "f['clean_text'] = f['Text'].str.replace('http\\S+|www.\\S+', '', case=False) #Removing urls\n",
        "f['clean_text'] = f['clean_text'].str.replace('[^A-Za-z0-9]+', ' ') #Removing Punctuations, Numbers, and Special Character\n",
        "f['clean_text'] = f['clean_text'].map(lambda x: x if type(x)!=str else x.lower()) #lowercase\n",
        "f['clean_text'].dropna() #drop NaN values\n"
      ],
      "metadata": {
        "colab": {
          "base_uri": "https://localhost:8080/"
        },
        "id": "cLFvKWf7rwPD",
        "outputId": "62bd7666-17e5-43d9-b0cf-54108c943b77"
      },
      "execution_count": null,
      "outputs": [
        {
          "output_type": "stream",
          "name": "stderr",
          "text": [
            "<ipython-input-23-8dea12f6908f>:3: FutureWarning: The default value of regex will change from True to False in a future version.\n",
            "  f['clean_text'] = f['Text'].str.replace('http\\S+|www.\\S+', '', case=False) #Removing urls\n",
            "<ipython-input-23-8dea12f6908f>:4: FutureWarning: The default value of regex will change from True to False in a future version.\n",
            "  f['clean_text'] = f['clean_text'].str.replace('[^A-Za-z0-9]+', ' ') #Removing Punctuations, Numbers, and Special Character\n"
          ]
        },
        {
          "output_type": "execute_result",
          "data": {
            "text/plain": [
              "0       1 hi dear diary once again i m sitting here fe...\n",
              "1       2 it s amazing to realize that we are coming t...\n",
              "2       3 in life we need to count on the support of t...\n",
              "3                4 i m very happy and i hope you are too \n",
              "4       5 we ordered a pizza to celebrate and i wrote ...\n",
              "                              ...                        \n",
              "1460    1461 i am currently in a homosexual relationship \n",
              "1461    1462 today i started the day talking to gabrie...\n",
              "1462    1463 but he s handsome that smile the way he t...\n",
              "1463    1464 i sent an email to my colleague last wedn...\n",
              "1464    1465 i don t want you to judge me curse me or ...\n",
              "Name: clean_text, Length: 1465, dtype: object"
            ]
          },
          "metadata": {},
          "execution_count": 23
        }
      ]
    },
    {
      "cell_type": "code",
      "source": [
        "#Tokenize and drop NaN tokens\n",
        "split_data = f['clean_text'].str.split(\" \")\n",
        "f['tokens'] = split_data\n",
        "nan_value = float(\"NaN\")\n",
        "f.replace(\"\", nan_value, inplace=True)\n",
        "f.dropna(subset = [\"tokens\"], inplace=True)"
      ],
      "metadata": {
        "id": "5pQOU5gFsNQl"
      },
      "execution_count": null,
      "outputs": []
    },
    {
      "cell_type": "code",
      "source": [
        "#LIWC Features Extraction\n",
        "#LIWC Features Extraction\n",
        "liwc =[]\n",
        "for item in f.tokens:\n",
        "    gettysburg_counts = list(collections.Counter(category for token in item for category in parse(token) if category == 'family (Family)').items())\n",
        "    liwc.append(gettysburg_counts)\n",
        "liwc_ = np.array(liwc)\n",
        "f['family'] = liwc_\n"
      ],
      "metadata": {
        "colab": {
          "base_uri": "https://localhost:8080/"
        },
        "id": "117nbMLssNYj",
        "outputId": "7129a457-81f6-47f4-d2ab-9cd748a5f1b2"
      },
      "execution_count": null,
      "outputs": [
        {
          "output_type": "stream",
          "name": "stderr",
          "text": [
            "<ipython-input-25-c7efdb6791ed>:7: VisibleDeprecationWarning: Creating an ndarray from ragged nested sequences (which is a list-or-tuple of lists-or-tuples-or ndarrays with different lengths or shapes) is deprecated. If you meant to do this, you must specify 'dtype=object' when creating the ndarray.\n",
            "  liwc_ = np.array(liwc)\n"
          ]
        }
      ]
    },
    {
      "cell_type": "code",
      "source": [
        "print(f['family'])"
      ],
      "metadata": {
        "colab": {
          "base_uri": "https://localhost:8080/"
        },
        "id": "PMGcBciGteO_",
        "outputId": "b115c3ad-d470-4f8b-8a60-7c215d095e13"
      },
      "execution_count": null,
      "outputs": [
        {
          "output_type": "stream",
          "name": "stdout",
          "text": [
            "0       []\n",
            "1       []\n",
            "2       []\n",
            "3       []\n",
            "4       []\n",
            "        ..\n",
            "1460    []\n",
            "1461    []\n",
            "1462    []\n",
            "1463    []\n",
            "1464    []\n",
            "Name: family, Length: 1465, dtype: object\n"
          ]
        }
      ]
    },
    {
      "cell_type": "code",
      "source": [
        "print(f)"
      ],
      "metadata": {
        "colab": {
          "base_uri": "https://localhost:8080/"
        },
        "id": "yOndWf3IydIm",
        "outputId": "28f3f147-d4e4-4238-b5cd-f012a0479bde"
      },
      "execution_count": null,
      "outputs": [
        {
          "output_type": "stream",
          "name": "stdout",
          "text": [
            "                                                   Text  \\\n",
            "0     1\\tHi dear diary, once again I'm sitting here ...   \n",
            "1     2\\tIt's amazing to realize that we are coming ...   \n",
            "2     3\\tIn life we __need to count on the support o...   \n",
            "3             4\\tI'm very happy and I hope you are too.   \n",
            "4     5\\tWe ordered a pizza to celebrate, and I wrot...   \n",
            "...                                                 ...   \n",
            "1460  1461\\tI am currently in a homosexual relations...   \n",
            "1461  1462\\tToday I started the day talking to Gabri...   \n",
            "1462  1463\\tBut he's handsome, that smile, the way h...   \n",
            "1463  1464\\t\"I sent an email to my \"\"colleague\"\" las...   \n",
            "1464  1465\\tI don't want you to judge me, curse me o...   \n",
            "\n",
            "                                             clean_text  \\\n",
            "0     1 hi dear diary once again i m sitting here fe...   \n",
            "1     2 it s amazing to realize that we are coming t...   \n",
            "2     3 in life we need to count on the support of t...   \n",
            "3              4 i m very happy and i hope you are too    \n",
            "4     5 we ordered a pizza to celebrate and i wrote ...   \n",
            "...                                                 ...   \n",
            "1460  1461 i am currently in a homosexual relationship    \n",
            "1461  1462 today i started the day talking to gabrie...   \n",
            "1462  1463 but he s handsome that smile the way he t...   \n",
            "1463  1464 i sent an email to my colleague last wedn...   \n",
            "1464  1465 i don t want you to judge me curse me or ...   \n",
            "\n",
            "                                                 tokens family  \n",
            "0     [1, hi, dear, diary, once, again, i, m, sittin...     []  \n",
            "1     [2, it, s, amazing, to, realize, that, we, are...     []  \n",
            "2     [3, in, life, we, need, to, count, on, the, su...     []  \n",
            "3     [4, i, m, very, happy, and, i, hope, you, are,...     []  \n",
            "4     [5, we, ordered, a, pizza, to, celebrate, and,...     []  \n",
            "...                                                 ...    ...  \n",
            "1460  [1461, i, am, currently, in, a, homosexual, re...     []  \n",
            "1461  [1462, today, i, started, the, day, talking, t...     []  \n",
            "1462  [1463, but, he, s, handsome, that, smile, the,...     []  \n",
            "1463  [1464, i, sent, an, email, to, my, colleague, ...     []  \n",
            "1464  [1465, i, don, t, want, you, to, judge, me, cu...     []  \n",
            "\n",
            "[1465 rows x 4 columns]\n"
          ]
        }
      ]
    },
    {
      "cell_type": "code",
      "source": [
        "list(f.columns)"
      ],
      "metadata": {
        "colab": {
          "base_uri": "https://localhost:8080/"
        },
        "id": "zUHAQH95yyVB",
        "outputId": "d03c99c4-341c-466a-8305-86bcd2242da1"
      },
      "execution_count": null,
      "outputs": [
        {
          "output_type": "execute_result",
          "data": {
            "text/plain": [
              "['Text', 'clean_text', 'tokens', 'family']"
            ]
          },
          "metadata": {},
          "execution_count": 28
        }
      ]
    },
    {
      "cell_type": "code",
      "source": [
        "liwc =[]\n",
        "for item in f.tokens:\n",
        "    f_counts = list(collections.Counter(category for token in item for category in parse(token) if category == 'family (Family)').items())\n",
        "    liwc.append(f_counts)\n",
        "liwc_ = np.array(liwc)\n",
        "f['family'] = liwc_"
      ],
      "metadata": {
        "colab": {
          "base_uri": "https://localhost:8080/"
        },
        "id": "Ga6nfq4rzBWZ",
        "outputId": "f5e7584f-938e-4bdc-b040-a6fce0f23390"
      },
      "execution_count": null,
      "outputs": [
        {
          "output_type": "stream",
          "name": "stderr",
          "text": [
            "<ipython-input-29-d516c745239b>:5: VisibleDeprecationWarning: Creating an ndarray from ragged nested sequences (which is a list-or-tuple of lists-or-tuples-or ndarrays with different lengths or shapes) is deprecated. If you meant to do this, you must specify 'dtype=object' when creating the ndarray.\n",
            "  liwc_ = np.array(liwc)\n"
          ]
        }
      ]
    },
    {
      "cell_type": "code",
      "source": [
        "liwc =[]\n",
        "for item in f.tokens:\n",
        "    f_counts = list(collections.Counter(category for token in item for category in parse(token) if category == 'affect (Affect)').items())\n",
        "    liwc.append(f_counts)\n",
        "liwc_ = np.array(liwc)\n",
        "f['affect'] = liwc_"
      ],
      "metadata": {
        "colab": {
          "base_uri": "https://localhost:8080/"
        },
        "id": "Y5il_W3HzmDy",
        "outputId": "6522cbff-766c-47f0-ada3-391776626509"
      },
      "execution_count": null,
      "outputs": [
        {
          "output_type": "stream",
          "name": "stderr",
          "text": [
            "<ipython-input-30-992356d47c74>:5: VisibleDeprecationWarning: Creating an ndarray from ragged nested sequences (which is a list-or-tuple of lists-or-tuples-or ndarrays with different lengths or shapes) is deprecated. If you meant to do this, you must specify 'dtype=object' when creating the ndarray.\n",
            "  liwc_ = np.array(liwc)\n"
          ]
        }
      ]
    },
    {
      "cell_type": "code",
      "source": [
        "print(f['affect'])"
      ],
      "metadata": {
        "colab": {
          "base_uri": "https://localhost:8080/"
        },
        "id": "dOGXnBiE2CSZ",
        "outputId": "7c4d8c36-b448-4e03-93f4-b91ded6cf0df"
      },
      "execution_count": null,
      "outputs": [
        {
          "output_type": "stream",
          "name": "stdout",
          "text": [
            "0       [(affect (Affect), 3)]\n",
            "1       [(affect (Affect), 1)]\n",
            "2       [(affect (Affect), 2)]\n",
            "3       [(affect (Affect), 2)]\n",
            "4                           []\n",
            "                 ...          \n",
            "1460                        []\n",
            "1461                        []\n",
            "1462    [(affect (Affect), 3)]\n",
            "1463                        []\n",
            "1464    [(affect (Affect), 1)]\n",
            "Name: affect, Length: 1465, dtype: object\n"
          ]
        }
      ]
    },
    {
      "cell_type": "code",
      "source": [
        "liwc =[]\n",
        "for item in f.tokens:\n",
        "    f_counts = list(collections.Counter(category for token in item for category in parse(token) if category == 'posemo (Positive Emotions)').items())\n",
        "    liwc.append(f_counts)\n",
        "liwc_ = np.array(liwc)\n",
        "f['posemo'] = liwc_"
      ],
      "metadata": {
        "colab": {
          "base_uri": "https://localhost:8080/"
        },
        "id": "AUt_t8XB2SD8",
        "outputId": "9a53696c-b7c3-44e5-bba4-97eeb2e55633"
      },
      "execution_count": null,
      "outputs": [
        {
          "output_type": "stream",
          "name": "stderr",
          "text": [
            "<ipython-input-32-67475c2f485b>:5: VisibleDeprecationWarning: Creating an ndarray from ragged nested sequences (which is a list-or-tuple of lists-or-tuples-or ndarrays with different lengths or shapes) is deprecated. If you meant to do this, you must specify 'dtype=object' when creating the ndarray.\n",
            "  liwc_ = np.array(liwc)\n"
          ]
        }
      ]
    },
    {
      "cell_type": "code",
      "source": [
        "print(f['posemo'])"
      ],
      "metadata": {
        "id": "Ik4ZWwrY2cpr",
        "outputId": "c5e2d27c-75bd-4430-c0db-f2c3ec1d69f9",
        "colab": {
          "base_uri": "https://localhost:8080/"
        }
      },
      "execution_count": null,
      "outputs": [
        {
          "output_type": "stream",
          "name": "stdout",
          "text": [
            "0       [(posemo (Positive Emotions), 1)]\n",
            "1       [(posemo (Positive Emotions), 1)]\n",
            "2       [(posemo (Positive Emotions), 2)]\n",
            "3       [(posemo (Positive Emotions), 2)]\n",
            "4                                      []\n",
            "                      ...                \n",
            "1460                                   []\n",
            "1461                                   []\n",
            "1462    [(posemo (Positive Emotions), 3)]\n",
            "1463                                   []\n",
            "1464                                   []\n",
            "Name: posemo, Length: 1465, dtype: object\n"
          ]
        }
      ]
    },
    {
      "cell_type": "code",
      "source": [
        "posemo=f['posemo']"
      ],
      "metadata": {
        "id": "c4EHNf0hlJG8"
      },
      "execution_count": null,
      "outputs": []
    },
    {
      "cell_type": "code",
      "source": [
        "liwc =[]\n",
        "for item in f.tokens:\n",
        "    f_counts = list(collections.Counter(category for token in item for category in parse(token) if category == 'negemo (Negative Emotions)').items())\n",
        "    liwc.append(f_counts)\n",
        "liwc_ = np.array(liwc)\n",
        "f['negemo'] = liwc_"
      ],
      "metadata": {
        "colab": {
          "base_uri": "https://localhost:8080/"
        },
        "id": "kTS5vMVtiNHh",
        "outputId": "b4958fc9-1094-4e94-fc4f-d24cb06d1e9f"
      },
      "execution_count": null,
      "outputs": [
        {
          "output_type": "stream",
          "name": "stderr",
          "text": [
            "<ipython-input-35-596c0d3823c3>:5: VisibleDeprecationWarning: Creating an ndarray from ragged nested sequences (which is a list-or-tuple of lists-or-tuples-or ndarrays with different lengths or shapes) is deprecated. If you meant to do this, you must specify 'dtype=object' when creating the ndarray.\n",
            "  liwc_ = np.array(liwc)\n"
          ]
        }
      ]
    },
    {
      "cell_type": "code",
      "source": [
        "print(f['negemo'])"
      ],
      "metadata": {
        "colab": {
          "base_uri": "https://localhost:8080/"
        },
        "id": "WUYJXiVMk4qa",
        "outputId": "eb965621-36e9-4031-c000-1575c5304b3a"
      },
      "execution_count": null,
      "outputs": [
        {
          "output_type": "stream",
          "name": "stdout",
          "text": [
            "0       [(negemo (Negative Emotions), 2)]\n",
            "1                                      []\n",
            "2                                      []\n",
            "3                                      []\n",
            "4                                      []\n",
            "                      ...                \n",
            "1460                                   []\n",
            "1461                                   []\n",
            "1462                                   []\n",
            "1463                                   []\n",
            "1464    [(negemo (Negative Emotions), 1)]\n",
            "Name: negemo, Length: 1465, dtype: object\n"
          ]
        }
      ]
    },
    {
      "cell_type": "code",
      "source": [
        "negemo=f['negemo']"
      ],
      "metadata": {
        "id": "yAG7h5QMlQsn"
      },
      "execution_count": null,
      "outputs": []
    },
    {
      "cell_type": "code",
      "source": [
        "emot=f['negemo'], f['posemo']"
      ],
      "metadata": {
        "id": "QGrdMFVLDoCv"
      },
      "execution_count": null,
      "outputs": []
    },
    {
      "cell_type": "code",
      "source": [
        "print(emot[1][0])"
      ],
      "metadata": {
        "colab": {
          "base_uri": "https://localhost:8080/"
        },
        "id": "63O6PiSqD1p8",
        "outputId": "4fa076ca-518d-490f-cc19-c2cba0be2047"
      },
      "execution_count": null,
      "outputs": [
        {
          "output_type": "stream",
          "name": "stdout",
          "text": [
            "[('posemo (Positive Emotions)', 1)]\n"
          ]
        }
      ]
    },
    {
      "cell_type": "code",
      "source": [
        "print(negemo)"
      ],
      "metadata": {
        "colab": {
          "base_uri": "https://localhost:8080/"
        },
        "id": "i9oz7GNOtAPO",
        "outputId": "58791d25-e7bf-4940-d354-0ff6070cbd36"
      },
      "execution_count": null,
      "outputs": [
        {
          "output_type": "stream",
          "name": "stdout",
          "text": [
            "0       [(negemo (Negative Emotions), 2)]\n",
            "1                                      []\n",
            "2                                      []\n",
            "3                                      []\n",
            "4                                      []\n",
            "                      ...                \n",
            "1460                                   []\n",
            "1461                                   []\n",
            "1462                                   []\n",
            "1463                                   []\n",
            "1464    [(negemo (Negative Emotions), 1)]\n",
            "Name: negemo, Length: 1465, dtype: object\n"
          ]
        }
      ]
    },
    {
      "cell_type": "code",
      "source": [
        "f[\"posemo\"][2][0][1]"
      ],
      "metadata": {
        "colab": {
          "base_uri": "https://localhost:8080/"
        },
        "id": "uSniTs7VS-uD",
        "outputId": "53b976e1-0d02-4009-ce35-c5344f2f4c47"
      },
      "execution_count": null,
      "outputs": [
        {
          "output_type": "execute_result",
          "data": {
            "text/plain": [
              "2"
            ]
          },
          "metadata": {},
          "execution_count": 41
        }
      ]
    },
    {
      "cell_type": "code",
      "source": [
        "f[\"posemo\"][:][:][1]"
      ],
      "metadata": {
        "colab": {
          "base_uri": "https://localhost:8080/"
        },
        "id": "BpSsuQ20TTW1",
        "outputId": "73000ee0-aed9-4965-d4f2-b121bf5388de"
      },
      "execution_count": null,
      "outputs": [
        {
          "output_type": "execute_result",
          "data": {
            "text/plain": [
              "[('posemo (Positive Emotions)', 1)]"
            ]
          },
          "metadata": {},
          "execution_count": 42
        }
      ]
    },
    {
      "cell_type": "code",
      "source": [
        "print(f)"
      ],
      "metadata": {
        "colab": {
          "base_uri": "https://localhost:8080/"
        },
        "id": "HVdb5P1EJvVh",
        "outputId": "edfd087b-185b-47e8-fefd-f986583b01f9"
      },
      "execution_count": null,
      "outputs": [
        {
          "output_type": "stream",
          "name": "stdout",
          "text": [
            "                                                   Text  \\\n",
            "0     1\\tHi dear diary, once again I'm sitting here ...   \n",
            "1     2\\tIt's amazing to realize that we are coming ...   \n",
            "2     3\\tIn life we __need to count on the support o...   \n",
            "3             4\\tI'm very happy and I hope you are too.   \n",
            "4     5\\tWe ordered a pizza to celebrate, and I wrot...   \n",
            "...                                                 ...   \n",
            "1460  1461\\tI am currently in a homosexual relations...   \n",
            "1461  1462\\tToday I started the day talking to Gabri...   \n",
            "1462  1463\\tBut he's handsome, that smile, the way h...   \n",
            "1463  1464\\t\"I sent an email to my \"\"colleague\"\" las...   \n",
            "1464  1465\\tI don't want you to judge me, curse me o...   \n",
            "\n",
            "                                             clean_text  \\\n",
            "0     1 hi dear diary once again i m sitting here fe...   \n",
            "1     2 it s amazing to realize that we are coming t...   \n",
            "2     3 in life we need to count on the support of t...   \n",
            "3              4 i m very happy and i hope you are too    \n",
            "4     5 we ordered a pizza to celebrate and i wrote ...   \n",
            "...                                                 ...   \n",
            "1460  1461 i am currently in a homosexual relationship    \n",
            "1461  1462 today i started the day talking to gabrie...   \n",
            "1462  1463 but he s handsome that smile the way he t...   \n",
            "1463  1464 i sent an email to my colleague last wedn...   \n",
            "1464  1465 i don t want you to judge me curse me or ...   \n",
            "\n",
            "                                                 tokens family  \\\n",
            "0     [1, hi, dear, diary, once, again, i, m, sittin...     []   \n",
            "1     [2, it, s, amazing, to, realize, that, we, are...     []   \n",
            "2     [3, in, life, we, need, to, count, on, the, su...     []   \n",
            "3     [4, i, m, very, happy, and, i, hope, you, are,...     []   \n",
            "4     [5, we, ordered, a, pizza, to, celebrate, and,...     []   \n",
            "...                                                 ...    ...   \n",
            "1460  [1461, i, am, currently, in, a, homosexual, re...     []   \n",
            "1461  [1462, today, i, started, the, day, talking, t...     []   \n",
            "1462  [1463, but, he, s, handsome, that, smile, the,...     []   \n",
            "1463  [1464, i, sent, an, email, to, my, colleague, ...     []   \n",
            "1464  [1465, i, don, t, want, you, to, judge, me, cu...     []   \n",
            "\n",
            "                      affect                             posemo  \\\n",
            "0     [(affect (Affect), 3)]  [(posemo (Positive Emotions), 1)]   \n",
            "1     [(affect (Affect), 1)]  [(posemo (Positive Emotions), 1)]   \n",
            "2     [(affect (Affect), 2)]  [(posemo (Positive Emotions), 2)]   \n",
            "3     [(affect (Affect), 2)]  [(posemo (Positive Emotions), 2)]   \n",
            "4                         []                                 []   \n",
            "...                      ...                                ...   \n",
            "1460                      []                                 []   \n",
            "1461                      []                                 []   \n",
            "1462  [(affect (Affect), 3)]  [(posemo (Positive Emotions), 3)]   \n",
            "1463                      []                                 []   \n",
            "1464  [(affect (Affect), 1)]                                 []   \n",
            "\n",
            "                                 negemo  \n",
            "0     [(negemo (Negative Emotions), 2)]  \n",
            "1                                    []  \n",
            "2                                    []  \n",
            "3                                    []  \n",
            "4                                    []  \n",
            "...                                 ...  \n",
            "1460                                 []  \n",
            "1461                                 []  \n",
            "1462                                 []  \n",
            "1463                                 []  \n",
            "1464  [(negemo (Negative Emotions), 1)]  \n",
            "\n",
            "[1465 rows x 7 columns]\n"
          ]
        }
      ]
    },
    {
      "cell_type": "code",
      "source": [
        "list(f.columns)"
      ],
      "metadata": {
        "colab": {
          "base_uri": "https://localhost:8080/"
        },
        "id": "QbpAeYkvKRgM",
        "outputId": "d9dad8d3-f603-4a13-b804-c256f2603fca"
      },
      "execution_count": null,
      "outputs": [
        {
          "output_type": "execute_result",
          "data": {
            "text/plain": [
              "['Text', 'clean_text', 'tokens', 'family', 'affect', 'posemo', 'negemo']"
            ]
          },
          "metadata": {},
          "execution_count": 45
        }
      ]
    },
    {
      "cell_type": "code",
      "source": [
        "print(f[\"negemo\"][2])"
      ],
      "metadata": {
        "colab": {
          "base_uri": "https://localhost:8080/"
        },
        "id": "eKKbsiP1KYac",
        "outputId": "39ca4464-f261-4fa0-8c73-ff86c64b78c0"
      },
      "execution_count": null,
      "outputs": [
        {
          "output_type": "stream",
          "name": "stdout",
          "text": [
            "[]\n"
          ]
        }
      ]
    },
    {
      "cell_type": "code",
      "source": [
        "print(f[\"negemo\"][0][0][1])"
      ],
      "metadata": {
        "colab": {
          "base_uri": "https://localhost:8080/"
        },
        "id": "UASxa8-9OjSw",
        "outputId": "caf465b9-3be0-4bc1-eeeb-e1146643608c"
      },
      "execution_count": null,
      "outputs": [
        {
          "output_type": "stream",
          "name": "stdout",
          "text": [
            "2\n"
          ]
        }
      ]
    },
    {
      "cell_type": "code",
      "source": [
        "type(f[\"negemo\"][0])"
      ],
      "metadata": {
        "colab": {
          "base_uri": "https://localhost:8080/"
        },
        "id": "vKxkLVwWPr4y",
        "outputId": "8138d0c2-2237-4849-9ab9-cb96810364b5"
      },
      "execution_count": null,
      "outputs": [
        {
          "output_type": "execute_result",
          "data": {
            "text/plain": [
              "list"
            ]
          },
          "metadata": {},
          "execution_count": 48
        }
      ]
    },
    {
      "cell_type": "code",
      "source": [
        "posemo_fix = f['posemo'].to_list()\n",
        "for i, j in enumerate(posemo_fix):\n",
        "  if j == []:\n",
        "    posemo_fix[i] = 0\n",
        "  else:\n",
        "    posemo_fix[i] = j[0][1]\n",
        "\n",
        "negemo_fix = f['negemo'].to_list()\n",
        "for i, j in enumerate(negemo_fix):\n",
        "  if j == []:\n",
        "    negemo_fix[i] = 0\n",
        "  else:\n",
        "    negemo_fix[i] = j[0][1]\n",
        "\n",
        "evaluate = []\n",
        "for i, j in enumerate(zip(posemo_fix, negemo_fix)):\n",
        "  if j[0] > j[1]:\n",
        "    evaluate.append('Positivo')\n",
        "  elif j[0] < j[1]:\n",
        "    evaluate.append('Negativo')\n",
        "  elif j[0] == j[1]:\n",
        "    evaluate.append('Neutro')"
      ],
      "metadata": {
        "id": "YWjfbD_tqz-e"
      },
      "execution_count": null,
      "outputs": []
    },
    {
      "cell_type": "code",
      "source": [
        "f['evaluate'] = evaluate"
      ],
      "metadata": {
        "id": "6EI3jTLXq5mo"
      },
      "execution_count": null,
      "outputs": []
    },
    {
      "cell_type": "code",
      "source": [
        "f.evaluate.value_counts()"
      ],
      "metadata": {
        "colab": {
          "base_uri": "https://localhost:8080/"
        },
        "id": "FHn6bUqNrB_5",
        "outputId": "bc42902d-e242-4896-9f29-12cf596ecd94"
      },
      "execution_count": null,
      "outputs": [
        {
          "output_type": "execute_result",
          "data": {
            "text/plain": [
              "Positivo    587\n",
              "Neutro      519\n",
              "Negativo    359\n",
              "Name: evaluate, dtype: int64"
            ]
          },
          "metadata": {},
          "execution_count": 51
        }
      ]
    },
    {
      "cell_type": "code",
      "source": [
        "f"
      ],
      "metadata": {
        "colab": {
          "base_uri": "https://localhost:8080/",
          "height": 641
        },
        "id": "vjtvYnA_rEKt",
        "outputId": "c3246792-35a6-47db-9ca1-53a6ebfe9ed5"
      },
      "execution_count": null,
      "outputs": [
        {
          "output_type": "execute_result",
          "data": {
            "text/plain": [
              "                                                   Text  \\\n",
              "0     1\\tHi dear diary, once again I'm sitting here ...   \n",
              "1     2\\tIt's amazing to realize that we are coming ...   \n",
              "2     3\\tIn life we __need to count on the support o...   \n",
              "3             4\\tI'm very happy and I hope you are too.   \n",
              "4     5\\tWe ordered a pizza to celebrate, and I wrot...   \n",
              "...                                                 ...   \n",
              "1460  1461\\tI am currently in a homosexual relations...   \n",
              "1461  1462\\tToday I started the day talking to Gabri...   \n",
              "1462  1463\\tBut he's handsome, that smile, the way h...   \n",
              "1463  1464\\t\"I sent an email to my \"\"colleague\"\" las...   \n",
              "1464  1465\\tI don't want you to judge me, curse me o...   \n",
              "\n",
              "                                             clean_text  \\\n",
              "0     1 hi dear diary once again i m sitting here fe...   \n",
              "1     2 it s amazing to realize that we are coming t...   \n",
              "2     3 in life we need to count on the support of t...   \n",
              "3              4 i m very happy and i hope you are too    \n",
              "4     5 we ordered a pizza to celebrate and i wrote ...   \n",
              "...                                                 ...   \n",
              "1460  1461 i am currently in a homosexual relationship    \n",
              "1461  1462 today i started the day talking to gabrie...   \n",
              "1462  1463 but he s handsome that smile the way he t...   \n",
              "1463  1464 i sent an email to my colleague last wedn...   \n",
              "1464  1465 i don t want you to judge me curse me or ...   \n",
              "\n",
              "                                                 tokens family  \\\n",
              "0     [1, hi, dear, diary, once, again, i, m, sittin...     []   \n",
              "1     [2, it, s, amazing, to, realize, that, we, are...     []   \n",
              "2     [3, in, life, we, need, to, count, on, the, su...     []   \n",
              "3     [4, i, m, very, happy, and, i, hope, you, are,...     []   \n",
              "4     [5, we, ordered, a, pizza, to, celebrate, and,...     []   \n",
              "...                                                 ...    ...   \n",
              "1460  [1461, i, am, currently, in, a, homosexual, re...     []   \n",
              "1461  [1462, today, i, started, the, day, talking, t...     []   \n",
              "1462  [1463, but, he, s, handsome, that, smile, the,...     []   \n",
              "1463  [1464, i, sent, an, email, to, my, colleague, ...     []   \n",
              "1464  [1465, i, don, t, want, you, to, judge, me, cu...     []   \n",
              "\n",
              "                      affect                             posemo  \\\n",
              "0     [(affect (Affect), 3)]  [(posemo (Positive Emotions), 1)]   \n",
              "1     [(affect (Affect), 1)]  [(posemo (Positive Emotions), 1)]   \n",
              "2     [(affect (Affect), 2)]  [(posemo (Positive Emotions), 2)]   \n",
              "3     [(affect (Affect), 2)]  [(posemo (Positive Emotions), 2)]   \n",
              "4                         []                                 []   \n",
              "...                      ...                                ...   \n",
              "1460                      []                                 []   \n",
              "1461                      []                                 []   \n",
              "1462  [(affect (Affect), 3)]  [(posemo (Positive Emotions), 3)]   \n",
              "1463                      []                                 []   \n",
              "1464  [(affect (Affect), 1)]                                 []   \n",
              "\n",
              "                                 negemo  evaluate  \n",
              "0     [(negemo (Negative Emotions), 2)]  Negativo  \n",
              "1                                    []  Positivo  \n",
              "2                                    []  Positivo  \n",
              "3                                    []  Positivo  \n",
              "4                                    []    Neutro  \n",
              "...                                 ...       ...  \n",
              "1460                                 []    Neutro  \n",
              "1461                                 []    Neutro  \n",
              "1462                                 []  Positivo  \n",
              "1463                                 []    Neutro  \n",
              "1464  [(negemo (Negative Emotions), 1)]  Negativo  \n",
              "\n",
              "[1465 rows x 8 columns]"
            ],
            "text/html": [
              "\n",
              "  <div id=\"df-ee5e355d-1726-4c6b-83ce-72ebcdbcde39\">\n",
              "    <div class=\"colab-df-container\">\n",
              "      <div>\n",
              "<style scoped>\n",
              "    .dataframe tbody tr th:only-of-type {\n",
              "        vertical-align: middle;\n",
              "    }\n",
              "\n",
              "    .dataframe tbody tr th {\n",
              "        vertical-align: top;\n",
              "    }\n",
              "\n",
              "    .dataframe thead th {\n",
              "        text-align: right;\n",
              "    }\n",
              "</style>\n",
              "<table border=\"1\" class=\"dataframe\">\n",
              "  <thead>\n",
              "    <tr style=\"text-align: right;\">\n",
              "      <th></th>\n",
              "      <th>Text</th>\n",
              "      <th>clean_text</th>\n",
              "      <th>tokens</th>\n",
              "      <th>family</th>\n",
              "      <th>affect</th>\n",
              "      <th>posemo</th>\n",
              "      <th>negemo</th>\n",
              "      <th>evaluate</th>\n",
              "    </tr>\n",
              "  </thead>\n",
              "  <tbody>\n",
              "    <tr>\n",
              "      <th>0</th>\n",
              "      <td>1\\tHi dear diary, once again I'm sitting here ...</td>\n",
              "      <td>1 hi dear diary once again i m sitting here fe...</td>\n",
              "      <td>[1, hi, dear, diary, once, again, i, m, sittin...</td>\n",
              "      <td>[]</td>\n",
              "      <td>[(affect (Affect), 3)]</td>\n",
              "      <td>[(posemo (Positive Emotions), 1)]</td>\n",
              "      <td>[(negemo (Negative Emotions), 2)]</td>\n",
              "      <td>Negativo</td>\n",
              "    </tr>\n",
              "    <tr>\n",
              "      <th>1</th>\n",
              "      <td>2\\tIt's amazing to realize that we are coming ...</td>\n",
              "      <td>2 it s amazing to realize that we are coming t...</td>\n",
              "      <td>[2, it, s, amazing, to, realize, that, we, are...</td>\n",
              "      <td>[]</td>\n",
              "      <td>[(affect (Affect), 1)]</td>\n",
              "      <td>[(posemo (Positive Emotions), 1)]</td>\n",
              "      <td>[]</td>\n",
              "      <td>Positivo</td>\n",
              "    </tr>\n",
              "    <tr>\n",
              "      <th>2</th>\n",
              "      <td>3\\tIn life we __need to count on the support o...</td>\n",
              "      <td>3 in life we need to count on the support of t...</td>\n",
              "      <td>[3, in, life, we, need, to, count, on, the, su...</td>\n",
              "      <td>[]</td>\n",
              "      <td>[(affect (Affect), 2)]</td>\n",
              "      <td>[(posemo (Positive Emotions), 2)]</td>\n",
              "      <td>[]</td>\n",
              "      <td>Positivo</td>\n",
              "    </tr>\n",
              "    <tr>\n",
              "      <th>3</th>\n",
              "      <td>4\\tI'm very happy and I hope you are too.</td>\n",
              "      <td>4 i m very happy and i hope you are too</td>\n",
              "      <td>[4, i, m, very, happy, and, i, hope, you, are,...</td>\n",
              "      <td>[]</td>\n",
              "      <td>[(affect (Affect), 2)]</td>\n",
              "      <td>[(posemo (Positive Emotions), 2)]</td>\n",
              "      <td>[]</td>\n",
              "      <td>Positivo</td>\n",
              "    </tr>\n",
              "    <tr>\n",
              "      <th>4</th>\n",
              "      <td>5\\tWe ordered a pizza to celebrate, and I wrot...</td>\n",
              "      <td>5 we ordered a pizza to celebrate and i wrote ...</td>\n",
              "      <td>[5, we, ordered, a, pizza, to, celebrate, and,...</td>\n",
              "      <td>[]</td>\n",
              "      <td>[]</td>\n",
              "      <td>[]</td>\n",
              "      <td>[]</td>\n",
              "      <td>Neutro</td>\n",
              "    </tr>\n",
              "    <tr>\n",
              "      <th>...</th>\n",
              "      <td>...</td>\n",
              "      <td>...</td>\n",
              "      <td>...</td>\n",
              "      <td>...</td>\n",
              "      <td>...</td>\n",
              "      <td>...</td>\n",
              "      <td>...</td>\n",
              "      <td>...</td>\n",
              "    </tr>\n",
              "    <tr>\n",
              "      <th>1460</th>\n",
              "      <td>1461\\tI am currently in a homosexual relations...</td>\n",
              "      <td>1461 i am currently in a homosexual relationship</td>\n",
              "      <td>[1461, i, am, currently, in, a, homosexual, re...</td>\n",
              "      <td>[]</td>\n",
              "      <td>[]</td>\n",
              "      <td>[]</td>\n",
              "      <td>[]</td>\n",
              "      <td>Neutro</td>\n",
              "    </tr>\n",
              "    <tr>\n",
              "      <th>1461</th>\n",
              "      <td>1462\\tToday I started the day talking to Gabri...</td>\n",
              "      <td>1462 today i started the day talking to gabrie...</td>\n",
              "      <td>[1462, today, i, started, the, day, talking, t...</td>\n",
              "      <td>[]</td>\n",
              "      <td>[]</td>\n",
              "      <td>[]</td>\n",
              "      <td>[]</td>\n",
              "      <td>Neutro</td>\n",
              "    </tr>\n",
              "    <tr>\n",
              "      <th>1462</th>\n",
              "      <td>1463\\tBut he's handsome, that smile, the way h...</td>\n",
              "      <td>1463 but he s handsome that smile the way he t...</td>\n",
              "      <td>[1463, but, he, s, handsome, that, smile, the,...</td>\n",
              "      <td>[]</td>\n",
              "      <td>[(affect (Affect), 3)]</td>\n",
              "      <td>[(posemo (Positive Emotions), 3)]</td>\n",
              "      <td>[]</td>\n",
              "      <td>Positivo</td>\n",
              "    </tr>\n",
              "    <tr>\n",
              "      <th>1463</th>\n",
              "      <td>1464\\t\"I sent an email to my \"\"colleague\"\" las...</td>\n",
              "      <td>1464 i sent an email to my colleague last wedn...</td>\n",
              "      <td>[1464, i, sent, an, email, to, my, colleague, ...</td>\n",
              "      <td>[]</td>\n",
              "      <td>[]</td>\n",
              "      <td>[]</td>\n",
              "      <td>[]</td>\n",
              "      <td>Neutro</td>\n",
              "    </tr>\n",
              "    <tr>\n",
              "      <th>1464</th>\n",
              "      <td>1465\\tI don't want you to judge me, curse me o...</td>\n",
              "      <td>1465 i don t want you to judge me curse me or ...</td>\n",
              "      <td>[1465, i, don, t, want, you, to, judge, me, cu...</td>\n",
              "      <td>[]</td>\n",
              "      <td>[(affect (Affect), 1)]</td>\n",
              "      <td>[]</td>\n",
              "      <td>[(negemo (Negative Emotions), 1)]</td>\n",
              "      <td>Negativo</td>\n",
              "    </tr>\n",
              "  </tbody>\n",
              "</table>\n",
              "<p>1465 rows × 8 columns</p>\n",
              "</div>\n",
              "      <button class=\"colab-df-convert\" onclick=\"convertToInteractive('df-ee5e355d-1726-4c6b-83ce-72ebcdbcde39')\"\n",
              "              title=\"Convert this dataframe to an interactive table.\"\n",
              "              style=\"display:none;\">\n",
              "        \n",
              "  <svg xmlns=\"http://www.w3.org/2000/svg\" height=\"24px\"viewBox=\"0 0 24 24\"\n",
              "       width=\"24px\">\n",
              "    <path d=\"M0 0h24v24H0V0z\" fill=\"none\"/>\n",
              "    <path d=\"M18.56 5.44l.94 2.06.94-2.06 2.06-.94-2.06-.94-.94-2.06-.94 2.06-2.06.94zm-11 1L8.5 8.5l.94-2.06 2.06-.94-2.06-.94L8.5 2.5l-.94 2.06-2.06.94zm10 10l.94 2.06.94-2.06 2.06-.94-2.06-.94-.94-2.06-.94 2.06-2.06.94z\"/><path d=\"M17.41 7.96l-1.37-1.37c-.4-.4-.92-.59-1.43-.59-.52 0-1.04.2-1.43.59L10.3 9.45l-7.72 7.72c-.78.78-.78 2.05 0 2.83L4 21.41c.39.39.9.59 1.41.59.51 0 1.02-.2 1.41-.59l7.78-7.78 2.81-2.81c.8-.78.8-2.07 0-2.86zM5.41 20L4 18.59l7.72-7.72 1.47 1.35L5.41 20z\"/>\n",
              "  </svg>\n",
              "      </button>\n",
              "      \n",
              "  <style>\n",
              "    .colab-df-container {\n",
              "      display:flex;\n",
              "      flex-wrap:wrap;\n",
              "      gap: 12px;\n",
              "    }\n",
              "\n",
              "    .colab-df-convert {\n",
              "      background-color: #E8F0FE;\n",
              "      border: none;\n",
              "      border-radius: 50%;\n",
              "      cursor: pointer;\n",
              "      display: none;\n",
              "      fill: #1967D2;\n",
              "      height: 32px;\n",
              "      padding: 0 0 0 0;\n",
              "      width: 32px;\n",
              "    }\n",
              "\n",
              "    .colab-df-convert:hover {\n",
              "      background-color: #E2EBFA;\n",
              "      box-shadow: 0px 1px 2px rgba(60, 64, 67, 0.3), 0px 1px 3px 1px rgba(60, 64, 67, 0.15);\n",
              "      fill: #174EA6;\n",
              "    }\n",
              "\n",
              "    [theme=dark] .colab-df-convert {\n",
              "      background-color: #3B4455;\n",
              "      fill: #D2E3FC;\n",
              "    }\n",
              "\n",
              "    [theme=dark] .colab-df-convert:hover {\n",
              "      background-color: #434B5C;\n",
              "      box-shadow: 0px 1px 3px 1px rgba(0, 0, 0, 0.15);\n",
              "      filter: drop-shadow(0px 1px 2px rgba(0, 0, 0, 0.3));\n",
              "      fill: #FFFFFF;\n",
              "    }\n",
              "  </style>\n",
              "\n",
              "      <script>\n",
              "        const buttonEl =\n",
              "          document.querySelector('#df-ee5e355d-1726-4c6b-83ce-72ebcdbcde39 button.colab-df-convert');\n",
              "        buttonEl.style.display =\n",
              "          google.colab.kernel.accessAllowed ? 'block' : 'none';\n",
              "\n",
              "        async function convertToInteractive(key) {\n",
              "          const element = document.querySelector('#df-ee5e355d-1726-4c6b-83ce-72ebcdbcde39');\n",
              "          const dataTable =\n",
              "            await google.colab.kernel.invokeFunction('convertToInteractive',\n",
              "                                                     [key], {});\n",
              "          if (!dataTable) return;\n",
              "\n",
              "          const docLinkHtml = 'Like what you see? Visit the ' +\n",
              "            '<a target=\"_blank\" href=https://colab.research.google.com/notebooks/data_table.ipynb>data table notebook</a>'\n",
              "            + ' to learn more about interactive tables.';\n",
              "          element.innerHTML = '';\n",
              "          dataTable['output_type'] = 'display_data';\n",
              "          await google.colab.output.renderOutput(dataTable, element);\n",
              "          const docLink = document.createElement('div');\n",
              "          docLink.innerHTML = docLinkHtml;\n",
              "          element.appendChild(docLink);\n",
              "        }\n",
              "      </script>\n",
              "    </div>\n",
              "  </div>\n",
              "  "
            ]
          },
          "metadata": {},
          "execution_count": 52
        }
      ]
    },
    {
      "cell_type": "code",
      "source": [
        "emo_liwc=f"
      ],
      "metadata": {
        "id": "CR9RRHpMeSw6"
      },
      "execution_count": null,
      "outputs": []
    },
    {
      "cell_type": "code",
      "source": [
        "\n",
        "emo_liwc.to_csv('emo_liwc.csv')\n",
        "files.download('emo_liwc.csv')"
      ],
      "metadata": {
        "colab": {
          "base_uri": "https://localhost:8080/",
          "height": 17
        },
        "id": "cpzT48-PmsyL",
        "outputId": "818f6971-70d8-4fbb-85ae-2234fa910fd4"
      },
      "execution_count": null,
      "outputs": [
        {
          "output_type": "display_data",
          "data": {
            "text/plain": [
              "<IPython.core.display.Javascript object>"
            ],
            "application/javascript": [
              "\n",
              "    async function download(id, filename, size) {\n",
              "      if (!google.colab.kernel.accessAllowed) {\n",
              "        return;\n",
              "      }\n",
              "      const div = document.createElement('div');\n",
              "      const label = document.createElement('label');\n",
              "      label.textContent = `Downloading \"${filename}\": `;\n",
              "      div.appendChild(label);\n",
              "      const progress = document.createElement('progress');\n",
              "      progress.max = size;\n",
              "      div.appendChild(progress);\n",
              "      document.body.appendChild(div);\n",
              "\n",
              "      const buffers = [];\n",
              "      let downloaded = 0;\n",
              "\n",
              "      const channel = await google.colab.kernel.comms.open(id);\n",
              "      // Send a message to notify the kernel that we're ready.\n",
              "      channel.send({})\n",
              "\n",
              "      for await (const message of channel.messages) {\n",
              "        // Send a message to notify the kernel that we're ready.\n",
              "        channel.send({})\n",
              "        if (message.buffers) {\n",
              "          for (const buffer of message.buffers) {\n",
              "            buffers.push(buffer);\n",
              "            downloaded += buffer.byteLength;\n",
              "            progress.value = downloaded;\n",
              "          }\n",
              "        }\n",
              "      }\n",
              "      const blob = new Blob(buffers, {type: 'application/binary'});\n",
              "      const a = document.createElement('a');\n",
              "      a.href = window.URL.createObjectURL(blob);\n",
              "      a.download = filename;\n",
              "      div.appendChild(a);\n",
              "      a.click();\n",
              "      div.remove();\n",
              "    }\n",
              "  "
            ]
          },
          "metadata": {}
        },
        {
          "output_type": "display_data",
          "data": {
            "text/plain": [
              "<IPython.core.display.Javascript object>"
            ],
            "application/javascript": [
              "download(\"download_8aa88120-dbff-4a4a-b9ab-8b53788e5632\", \"emo_liwc.csv\", 657281)"
            ]
          },
          "metadata": {}
        }
      ]
    }
  ]
}